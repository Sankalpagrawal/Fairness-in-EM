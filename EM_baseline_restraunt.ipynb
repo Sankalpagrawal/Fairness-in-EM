{
 "cells": [
  {
   "cell_type": "code",
   "execution_count": 1,
   "metadata": {},
   "outputs": [],
   "source": [
    "# https://hpi.de/naumann/projects/repeatability/datasets/restaurants-dataset.html\n",
    "#Importing the libraries\n",
    "import sys\n",
    "import py_entitymatching as em\n",
    "import pandas as pd\n",
    "import os"
   ]
  },
  {
   "cell_type": "code",
   "execution_count": 2,
   "metadata": {},
   "outputs": [
    {
     "name": "stdout",
     "output_type": "stream",
     "text": [
      "python version: 3.7.4 (default, Aug  9 2019, 18:34:13) [MSC v.1915 64 bit (AMD64)]\n",
      "pandas version: 0.25.1\n",
      "magellan version: 0.3.3\n"
     ]
    }
   ],
   "source": [
    "# Display the versions\n",
    "print('python version: ' + sys.version )\n",
    "print('pandas version: ' + pd.__version__ )\n",
    "print('magellan version: ' + em.__version__ )"
   ]
  },
  {
   "cell_type": "code",
   "execution_count": 3,
   "metadata": {},
   "outputs": [
    {
     "name": "stderr",
     "output_type": "stream",
     "text": [
      "Metadata file is not present in the given path; proceeding to read the csv file.\n",
      "Metadata file is not present in the given path; proceeding to read the csv file.\n"
     ]
    },
    {
     "name": "stdout",
     "output_type": "stream",
     "text": [
      "<class 'pandas.core.frame.DataFrame'>\n"
     ]
    }
   ],
   "source": [
    "# Load csv files as dataframes and set the key attribute in the dataframe\n",
    "path_A = './data/restaurants.csv'\n",
    "A = em.read_csv_metadata(path_A, key='id')\n",
    "B = em.read_csv_metadata(path_A, key='id')\n",
    "print(type(A))"
   ]
  },
  {
   "cell_type": "code",
   "execution_count": 4,
   "metadata": {},
   "outputs": [
    {
     "name": "stdout",
     "output_type": "stream",
     "text": [
      "Number of tuples in A: 864\n",
      "Number of tuples in B: 864\n",
      "Number of tuples in A X B (i.e the cartesian product): 746496\n"
     ]
    }
   ],
   "source": [
    "# Display number of tuples in the datasets\n",
    "print('Number of tuples in A: ' + str(len(A)))\n",
    "print('Number of tuples in B: ' + str(len(B)))\n",
    "print('Number of tuples in A X B (i.e the cartesian product): ' + str(len(A)*len(B)))"
   ]
  },
  {
   "cell_type": "code",
   "execution_count": 5,
   "metadata": {},
   "outputs": [
    {
     "data": {
      "text/html": [
       "<div>\n",
       "<style scoped>\n",
       "    .dataframe tbody tr th:only-of-type {\n",
       "        vertical-align: middle;\n",
       "    }\n",
       "\n",
       "    .dataframe tbody tr th {\n",
       "        vertical-align: top;\n",
       "    }\n",
       "\n",
       "    .dataframe thead th {\n",
       "        text-align: right;\n",
       "    }\n",
       "</style>\n",
       "<table border=\"1\" class=\"dataframe\">\n",
       "  <thead>\n",
       "    <tr style=\"text-align: right;\">\n",
       "      <th></th>\n",
       "      <th>address</th>\n",
       "      <th>city</th>\n",
       "      <th>id</th>\n",
       "      <th>name</th>\n",
       "      <th>phone</th>\n",
       "      <th>type</th>\n",
       "    </tr>\n",
       "  </thead>\n",
       "  <tbody>\n",
       "    <tr>\n",
       "      <td>0</td>\n",
       "      <td>435 s la cienega blv</td>\n",
       "      <td>los angeles</td>\n",
       "      <td>1</td>\n",
       "      <td>arnie morton s of chicago</td>\n",
       "      <td>310 246 1501</td>\n",
       "      <td>american</td>\n",
       "    </tr>\n",
       "    <tr>\n",
       "      <td>1</td>\n",
       "      <td>435 s la cienega blvd</td>\n",
       "      <td>los angeles</td>\n",
       "      <td>2</td>\n",
       "      <td>arnie morton s of chicago</td>\n",
       "      <td>310 246 1501</td>\n",
       "      <td>steakhouses</td>\n",
       "    </tr>\n",
       "  </tbody>\n",
       "</table>\n",
       "</div>"
      ],
      "text/plain": [
       "                  address         city  id                       name  \\\n",
       "0   435 s la cienega blv   los angeles   1  arnie morton s of chicago   \n",
       "1  435 s la cienega blvd   los angeles   2  arnie morton s of chicago   \n",
       "\n",
       "          phone         type  \n",
       "0  310 246 1501     american  \n",
       "1  310 246 1501  steakhouses  "
      ]
     },
     "execution_count": 5,
     "metadata": {},
     "output_type": "execute_result"
    }
   ],
   "source": [
    "# Displaying first two entries from the first music dataset\n",
    "A.head(2)"
   ]
  },
  {
   "cell_type": "code",
   "execution_count": 6,
   "metadata": {},
   "outputs": [
    {
     "data": {
      "text/html": [
       "<div>\n",
       "<style scoped>\n",
       "    .dataframe tbody tr th:only-of-type {\n",
       "        vertical-align: middle;\n",
       "    }\n",
       "\n",
       "    .dataframe tbody tr th {\n",
       "        vertical-align: top;\n",
       "    }\n",
       "\n",
       "    .dataframe thead th {\n",
       "        text-align: right;\n",
       "    }\n",
       "</style>\n",
       "<table border=\"1\" class=\"dataframe\">\n",
       "  <thead>\n",
       "    <tr style=\"text-align: right;\">\n",
       "      <th></th>\n",
       "      <th>address</th>\n",
       "      <th>city</th>\n",
       "      <th>id</th>\n",
       "      <th>name</th>\n",
       "      <th>phone</th>\n",
       "      <th>type</th>\n",
       "    </tr>\n",
       "  </thead>\n",
       "  <tbody>\n",
       "    <tr>\n",
       "      <td>0</td>\n",
       "      <td>435 s la cienega blv</td>\n",
       "      <td>los angeles</td>\n",
       "      <td>1</td>\n",
       "      <td>arnie morton s of chicago</td>\n",
       "      <td>310 246 1501</td>\n",
       "      <td>american</td>\n",
       "    </tr>\n",
       "    <tr>\n",
       "      <td>1</td>\n",
       "      <td>435 s la cienega blvd</td>\n",
       "      <td>los angeles</td>\n",
       "      <td>2</td>\n",
       "      <td>arnie morton s of chicago</td>\n",
       "      <td>310 246 1501</td>\n",
       "      <td>steakhouses</td>\n",
       "    </tr>\n",
       "  </tbody>\n",
       "</table>\n",
       "</div>"
      ],
      "text/plain": [
       "                  address         city  id                       name  \\\n",
       "0   435 s la cienega blv   los angeles   1  arnie morton s of chicago   \n",
       "1  435 s la cienega blvd   los angeles   2  arnie morton s of chicago   \n",
       "\n",
       "          phone         type  \n",
       "0  310 246 1501     american  \n",
       "1  310 246 1501  steakhouses  "
      ]
     },
     "execution_count": 6,
     "metadata": {},
     "output_type": "execute_result"
    }
   ],
   "source": [
    "# Displaying first two entries from the second music dataset\n",
    "B.head(2)"
   ]
  },
  {
   "cell_type": "code",
   "execution_count": 7,
   "metadata": {},
   "outputs": [
    {
     "name": "stderr",
     "output_type": "stream",
     "text": [
      "Size of table B is less than b_size parameter - using entire table B\n"
     ]
    },
    {
     "name": "stdout",
     "output_type": "stream",
     "text": [
      "id id\n",
      "Lengths after downsampling-\n",
      "854 864\n"
     ]
    }
   ],
   "source": [
    "# Display the keys of the input tables\n",
    "print(em.get_key(A), em.get_key(B))\n",
    "# If the tables are large we can downsample the tables like this\n",
    "A1, B1 = em.down_sample(A, B, 1000, 1, show_progress=False)\n",
    "print(\"Lengths after downsampling-\")\n",
    "print(len(A1), len(B1))"
   ]
  },
  {
   "cell_type": "code",
   "execution_count": 8,
   "metadata": {},
   "outputs": [],
   "source": [
    "colA = [\"address\",\"city\",\"id\",\"name\",\"phone\",\"type\"]"
   ]
  },
  {
   "cell_type": "markdown",
   "metadata": {},
   "source": [
    "Feature Generation"
   ]
  },
  {
   "cell_type": "code",
   "execution_count": 9,
   "metadata": {},
   "outputs": [],
   "source": [
    "# Generate features\n",
    "feature_table = em.get_features_for_matching(A, B, validate_inferred_attr_types=False)"
   ]
  },
  {
   "cell_type": "code",
   "execution_count": 10,
   "metadata": {},
   "outputs": [
    {
     "data": {
      "text/plain": [
       "0         address_address_jac_qgm_3_qgm_3\n",
       "1     address_address_cos_dlm_dc0_dlm_dc0\n",
       "2     address_address_jac_dlm_dc0_dlm_dc0\n",
       "3                     address_address_mel\n",
       "4                address_address_lev_dist\n",
       "5                 address_address_lev_sim\n",
       "6                     address_address_nmw\n",
       "7                      address_address_sw\n",
       "8               city_city_jac_qgm_3_qgm_3\n",
       "9           city_city_cos_dlm_dc0_dlm_dc0\n",
       "10          city_city_jac_dlm_dc0_dlm_dc0\n",
       "11                          city_city_mel\n",
       "12                     city_city_lev_dist\n",
       "13                      city_city_lev_sim\n",
       "14                          city_city_nmw\n",
       "15                           city_city_sw\n",
       "16                              id_id_exm\n",
       "17                              id_id_anm\n",
       "18                         id_id_lev_dist\n",
       "19                          id_id_lev_sim\n",
       "20              name_name_jac_qgm_3_qgm_3\n",
       "21          name_name_cos_dlm_dc0_dlm_dc0\n",
       "22          name_name_jac_dlm_dc0_dlm_dc0\n",
       "23                          name_name_mel\n",
       "24                     name_name_lev_dist\n",
       "25                      name_name_lev_sim\n",
       "26                          name_name_nmw\n",
       "27                           name_name_sw\n",
       "28            phone_phone_jac_qgm_3_qgm_3\n",
       "29        phone_phone_cos_dlm_dc0_dlm_dc0\n",
       "30        phone_phone_jac_dlm_dc0_dlm_dc0\n",
       "31                        phone_phone_mel\n",
       "32                   phone_phone_lev_dist\n",
       "33                    phone_phone_lev_sim\n",
       "34                        phone_phone_nmw\n",
       "35                         phone_phone_sw\n",
       "36              type_type_jac_qgm_3_qgm_3\n",
       "37          type_type_cos_dlm_dc0_dlm_dc0\n",
       "38          type_type_jac_dlm_dc0_dlm_dc0\n",
       "39                          type_type_mel\n",
       "40                     type_type_lev_dist\n",
       "41                      type_type_lev_sim\n",
       "42                          type_type_nmw\n",
       "43                           type_type_sw\n",
       "Name: feature_name, dtype: object"
      ]
     },
     "execution_count": 10,
     "metadata": {},
     "output_type": "execute_result"
    }
   ],
   "source": [
    "# List the names of the features generated\n",
    "feature_table['feature_name']"
   ]
  },
  {
   "cell_type": "code",
   "execution_count": 12,
   "metadata": {},
   "outputs": [
    {
     "data": {
      "text/plain": [
       "True"
      ]
     },
     "execution_count": 12,
     "metadata": {},
     "output_type": "execute_result"
    }
   ],
   "source": [
    "# feature_table = feature_table.drop([28,29,30,31,32,33,34,35]) \n",
    "\n",
    "# em.add_blackbox_feature(feature_table, 'time_time_feature', time_feature)\n",
    "# em.add_blackbox_feature(feature_table, 'released_released_feature', released_feature)\n",
    "# em.add_blackbox_feature(feature_table, 'price_price_feature', price_feature)\n",
    "# em.add_blackbox_feature(feature_table, 'copyright_copyright_feature', copyright_feature)"
   ]
  },
  {
   "cell_type": "code",
   "execution_count": null,
   "metadata": {},
   "outputs": [],
   "source": []
  }
 ],
 "metadata": {
  "kernelspec": {
   "display_name": "Python 3",
   "language": "python",
   "name": "python3"
  },
  "language_info": {
   "codemirror_mode": {
    "name": "ipython",
    "version": 3
   },
   "file_extension": ".py",
   "mimetype": "text/x-python",
   "name": "python",
   "nbconvert_exporter": "python",
   "pygments_lexer": "ipython3",
   "version": "3.7.4"
  }
 },
 "nbformat": 4,
 "nbformat_minor": 4
}
