{
 "cells": [
  {
   "cell_type": "markdown",
   "metadata": {},
   "source": [
    "## Entity Matching Pipeline with rule based matching \n",
    "\n",
    "Notebook showing the implementation of an EM pipeline with rule-based matching.\n",
    "Attribute based blocking is done, along with three matching rules on the basis of features obtained from the similarity values of the attributes\n",
    "\n",
    "## Dataset exploration \n",
    "After going through multiple datasets like movies.csv; citations.csv etc., we chose the music dataset. \n",
    "In other datasets, we had issues like inaccessibility, same attributes not being present across the two datasets etc. \n",
    "The two music datasets have similar attributes across them. Attributes like Genre etc. can also be used as sensitive attributes.\n",
    "The labeled dataset of size 539 was also available for music datasets for evaluation purpose."
   ]
  },
  {
   "cell_type": "code",
   "execution_count": 2,
   "metadata": {},
   "outputs": [],
   "source": [
    "# Importing the required libraries\n",
    "import sys\n",
    "import py_entitymatching as em\n",
    "import pandas as pd\n",
    "import os"
   ]
  },
  {
   "cell_type": "code",
   "execution_count": 3,
   "metadata": {},
   "outputs": [
    {
     "name": "stderr",
     "output_type": "stream",
     "text": [
      "Metadata file is not present in the given path; proceeding to read the csv file.\n",
      "Metadata file is not present in the given path; proceeding to read the csv file.\n"
     ]
    }
   ],
   "source": [
    "# Load csv files as dataframes and set the key attribute in the dataframe\n",
    "path_A = 'music1.csv'\n",
    "path_B = 'music2.csv'\n",
    "A = em.read_csv_metadata(path_A, key='Sno')\n",
    "B = em.read_csv_metadata(path_B, key='Sno')"
   ]
  },
  {
   "cell_type": "code",
   "execution_count": 4,
   "metadata": {},
   "outputs": [
    {
     "name": "stdout",
     "output_type": "stream",
     "text": [
      "Number of tuples in A: 6907\n",
      "Number of tuples in B: 55923\n",
      "Number of tuples in A X B (i.e the cartesian product): 386260161\n"
     ]
    }
   ],
   "source": [
    "# Display number of tuples in the datasets\n",
    "print('Number of tuples in A: ' + str(len(A)))\n",
    "print('Number of tuples in B: ' + str(len(B)))\n",
    "print('Number of tuples in A X B (i.e the cartesian product): ' + str(len(A)*len(B)))"
   ]
  },
  {
   "cell_type": "code",
   "execution_count": 5,
   "metadata": {},
   "outputs": [
    {
     "data": {
      "text/html": [
       "<div>\n",
       "<style scoped>\n",
       "    .dataframe tbody tr th:only-of-type {\n",
       "        vertical-align: middle;\n",
       "    }\n",
       "\n",
       "    .dataframe tbody tr th {\n",
       "        vertical-align: top;\n",
       "    }\n",
       "\n",
       "    .dataframe thead th {\n",
       "        text-align: right;\n",
       "    }\n",
       "</style>\n",
       "<table border=\"1\" class=\"dataframe\">\n",
       "  <thead>\n",
       "    <tr style=\"text-align: right;\">\n",
       "      <th></th>\n",
       "      <th>Sno</th>\n",
       "      <th>Album_Name</th>\n",
       "      <th>Album_Price</th>\n",
       "      <th>Artist_Name</th>\n",
       "      <th>CopyRight</th>\n",
       "      <th>Customer_Rating</th>\n",
       "      <th>Genre</th>\n",
       "      <th>Price</th>\n",
       "      <th>Released</th>\n",
       "      <th>Song_Name</th>\n",
       "      <th>Time</th>\n",
       "    </tr>\n",
       "  </thead>\n",
       "  <tbody>\n",
       "    <tr>\n",
       "      <th>0</th>\n",
       "      <td>1</td>\n",
       "      <td>Welcome to Cam Country - EP</td>\n",
       "      <td>$4.26</td>\n",
       "      <td>Cam</td>\n",
       "      <td>2015 Sony Music Entertainment</td>\n",
       "      <td>4.72396</td>\n",
       "      <td>Country,Music,Contemporary Country,Honky Tonk</td>\n",
       "      <td>$0.99</td>\n",
       "      <td>31-Mar-15</td>\n",
       "      <td>Runaway Train</td>\n",
       "      <td>3:01</td>\n",
       "    </tr>\n",
       "    <tr>\n",
       "      <th>1</th>\n",
       "      <td>2</td>\n",
       "      <td>Me 4 U</td>\n",
       "      <td>$9.99</td>\n",
       "      <td>Omi</td>\n",
       "      <td>2015 Ultra Records, LLC under exclusive license to Columbia Records, a Division of Sony Music E...</td>\n",
       "      <td>3.38158</td>\n",
       "      <td>Pop/Rock,Music,Pop,Dance,R&amp;B/Soul</td>\n",
       "      <td>Album Only</td>\n",
       "      <td>NaN</td>\n",
       "      <td>Track 14</td>\n",
       "      <td>3:41</td>\n",
       "    </tr>\n",
       "  </tbody>\n",
       "</table>\n",
       "</div>"
      ],
      "text/plain": [
       "   Sno                   Album_Name Album_Price Artist_Name  \\\n",
       "0    1  Welcome to Cam Country - EP      $4.26          Cam   \n",
       "1    2                       Me 4 U      $9.99          Omi   \n",
       "\n",
       "                                                                                             CopyRight  \\\n",
       "0                                                                        2015 Sony Music Entertainment   \n",
       "1   2015 Ultra Records, LLC under exclusive license to Columbia Records, a Division of Sony Music E...   \n",
       "\n",
       "   Customer_Rating                                          Genre       Price  \\\n",
       "0          4.72396  Country,Music,Contemporary Country,Honky Tonk      $0.99    \n",
       "1          3.38158              Pop/Rock,Music,Pop,Dance,R&B/Soul  Album Only   \n",
       "\n",
       "    Released      Song_Name  Time  \n",
       "0  31-Mar-15  Runaway Train  3:01  \n",
       "1        NaN       Track 14  3:41  "
      ]
     },
     "execution_count": 5,
     "metadata": {},
     "output_type": "execute_result"
    }
   ],
   "source": [
    "# Displaying first two entries from the first music dataset\n",
    "A.head(2)"
   ]
  },
  {
   "cell_type": "code",
   "execution_count": 6,
   "metadata": {},
   "outputs": [
    {
     "data": {
      "text/html": [
       "<div>\n",
       "<style scoped>\n",
       "    .dataframe tbody tr th:only-of-type {\n",
       "        vertical-align: middle;\n",
       "    }\n",
       "\n",
       "    .dataframe tbody tr th {\n",
       "        vertical-align: top;\n",
       "    }\n",
       "\n",
       "    .dataframe thead th {\n",
       "        text-align: right;\n",
       "    }\n",
       "</style>\n",
       "<table border=\"1\" class=\"dataframe\">\n",
       "  <thead>\n",
       "    <tr style=\"text-align: right;\">\n",
       "      <th></th>\n",
       "      <th>Sno</th>\n",
       "      <th>Album_Name</th>\n",
       "      <th>Artist_Name</th>\n",
       "      <th>Song_Name</th>\n",
       "      <th>Price</th>\n",
       "      <th>Time</th>\n",
       "      <th>Released</th>\n",
       "      <th>Label</th>\n",
       "      <th>Copyright</th>\n",
       "      <th>Genre</th>\n",
       "    </tr>\n",
       "  </thead>\n",
       "  <tbody>\n",
       "    <tr>\n",
       "      <th>0</th>\n",
       "      <td>1</td>\n",
       "      <td>! (Volume 2) [Explicit]</td>\n",
       "      <td>Rusko</td>\n",
       "      <td>Saxophone Stomp [Explicit]</td>\n",
       "      <td>$1.29</td>\n",
       "      <td>3:20</td>\n",
       "      <td>September 16, 2014</td>\n",
       "      <td>Decca International</td>\n",
       "      <td>(C) 2014 FMLY Under Exclusive License To Universal Music Canada Inc.</td>\n",
       "      <td>Dance &amp; Electronic,Dubstep</td>\n",
       "    </tr>\n",
       "    <tr>\n",
       "      <th>1</th>\n",
       "      <td>2</td>\n",
       "      <td>! (Volume 2) [Explicit]</td>\n",
       "      <td>Rusko</td>\n",
       "      <td>I Wanna Mingle [feat. Pusher]</td>\n",
       "      <td>$1.29</td>\n",
       "      <td>2:36</td>\n",
       "      <td>September 16, 2014</td>\n",
       "      <td>Decca International</td>\n",
       "      <td>(C) 2014 FMLY Under Exclusive License To Universal Music Canada Inc.</td>\n",
       "      <td>Dance &amp; Electronic,Dubstep</td>\n",
       "    </tr>\n",
       "  </tbody>\n",
       "</table>\n",
       "</div>"
      ],
      "text/plain": [
       "   Sno               Album_Name Artist_Name                      Song_Name  \\\n",
       "0    1  ! (Volume 2) [Explicit]       Rusko     Saxophone Stomp [Explicit]   \n",
       "1    2  ! (Volume 2) [Explicit]       Rusko  I Wanna Mingle [feat. Pusher]   \n",
       "\n",
       "   Price  Time             Released                 Label  \\\n",
       "0  $1.29  3:20   September 16, 2014   Decca International   \n",
       "1  $1.29  2:36   September 16, 2014   Decca International   \n",
       "\n",
       "                                                               Copyright  \\\n",
       "0   (C) 2014 FMLY Under Exclusive License To Universal Music Canada Inc.   \n",
       "1   (C) 2014 FMLY Under Exclusive License To Universal Music Canada Inc.   \n",
       "\n",
       "                        Genre  \n",
       "0  Dance & Electronic,Dubstep  \n",
       "1  Dance & Electronic,Dubstep  "
      ]
     },
     "execution_count": 6,
     "metadata": {},
     "output_type": "execute_result"
    }
   ],
   "source": [
    "# Displaying first two entries from the second music dataset\n",
    "B.head(2)"
   ]
  },
  {
   "cell_type": "code",
   "execution_count": 7,
   "metadata": {},
   "outputs": [
    {
     "name": "stdout",
     "output_type": "stream",
     "text": [
      "Sno Sno\n",
      "Lengths after downsampling-\n",
      "564 1000\n"
     ]
    }
   ],
   "source": [
    "# Display the keys of the input tables\n",
    "print(em.get_key(A), em.get_key(B))\n",
    "# If the tables are large we can downsample the tables like this\n",
    "A1, B1 = em.down_sample(A, B, 1000, 1, show_progress=False)\n",
    "print(\"Lengths after downsampling-\")\n",
    "print(len(A1), len(B1))"
   ]
  },
  {
   "cell_type": "markdown",
   "metadata": {},
   "source": [
    "Blocking"
   ]
  },
  {
   "cell_type": "code",
   "execution_count": 8,
   "metadata": {},
   "outputs": [],
   "source": [
    "# Create attribute equivalence blocker\n",
    "ab = em.AttrEquivalenceBlocker()\n",
    "\n",
    "# Block using artist_name attribute\n",
    "C = ab.block_tables(A1, B1, \"Artist_Name\",\"Artist_Name\",\n",
    "                    l_output_attrs=[\"Sno\", \"Album_Name\", \"Artist_Name\", \"CopyRight\", \"Released\", \"Song_Name\" ,\"Time\"], \n",
    "                    r_output_attrs=[\"Sno\", \"Album_Name\", \"Artist_Name\", \"Copyright\", \"Released\", \"Song_Name\", \"Time\"]\n",
    "                    )"
   ]
  },
  {
   "cell_type": "code",
   "execution_count": 9,
   "metadata": {},
   "outputs": [
    {
     "data": {
      "text/plain": [
       "1288"
      ]
     },
     "execution_count": 9,
     "metadata": {},
     "output_type": "execute_result"
    }
   ],
   "source": [
    "# Printing length of candidate set\n",
    "len(C)"
   ]
  },
  {
   "cell_type": "markdown",
   "metadata": {},
   "source": [
    "Matching"
   ]
  },
  {
   "cell_type": "code",
   "execution_count": 10,
   "metadata": {},
   "outputs": [],
   "source": [
    "# Sample candidate set\n",
    "# S = em.sample_table(C, 538)"
   ]
  },
  {
   "cell_type": "code",
   "execution_count": 11,
   "metadata": {},
   "outputs": [],
   "source": [
    "# Label S\n",
    "# G = em.label_table(S, 'label')"
   ]
  },
  {
   "cell_type": "code",
   "execution_count": 12,
   "metadata": {},
   "outputs": [
    {
     "name": "stderr",
     "output_type": "stream",
     "text": [
      "Metadata file is not present in the given path; proceeding to read the csv file.\n"
     ]
    },
    {
     "name": "stdout",
     "output_type": "stream",
     "text": [
      "539\n"
     ]
    }
   ],
   "source": [
    "# Load the pre-labeled data\n",
    "path_G = 'music_labeled_data.csv'\n",
    "G = em.read_csv_metadata(path_G, \n",
    "                         key='_id',\n",
    "                         ltable=A, rtable=B, \n",
    "                         fk_ltable='ltable.Sno', fk_rtable='rtable.Sno')\n",
    "print(len(G))"
   ]
  },
  {
   "cell_type": "code",
   "execution_count": 13,
   "metadata": {},
   "outputs": [],
   "source": [
    "# Initializing the rule based matcher\n",
    "brm = em.BooleanRuleMatcher()"
   ]
  },
  {
   "cell_type": "code",
   "execution_count": 14,
   "metadata": {},
   "outputs": [],
   "source": [
    "# Generate features\n",
    "feature_table = em.get_features_for_matching(A, B, validate_inferred_attr_types=False)"
   ]
  },
  {
   "cell_type": "code",
   "execution_count": 15,
   "metadata": {},
   "outputs": [
    {
     "data": {
      "text/plain": [
       "0                                     Sno_Sno_exm\n",
       "1                                     Sno_Sno_anm\n",
       "2                                Sno_Sno_lev_dist\n",
       "3                                 Sno_Sno_lev_sim\n",
       "4           Album_Name_Album_Name_jac_qgm_3_qgm_3\n",
       "5       Album_Name_Album_Name_cos_dlm_dc0_dlm_dc0\n",
       "6       Album_Name_Album_Name_jac_dlm_dc0_dlm_dc0\n",
       "7                       Album_Name_Album_Name_mel\n",
       "8                  Album_Name_Album_Name_lev_dist\n",
       "9                   Album_Name_Album_Name_lev_sim\n",
       "10                      Album_Name_Album_Name_nmw\n",
       "11                       Album_Name_Album_Name_sw\n",
       "12        Artist_Name_Artist_Name_jac_qgm_3_qgm_3\n",
       "13    Artist_Name_Artist_Name_cos_dlm_dc0_dlm_dc0\n",
       "14    Artist_Name_Artist_Name_jac_dlm_dc0_dlm_dc0\n",
       "15                    Artist_Name_Artist_Name_mel\n",
       "16               Artist_Name_Artist_Name_lev_dist\n",
       "17                Artist_Name_Artist_Name_lev_sim\n",
       "18                    Artist_Name_Artist_Name_nmw\n",
       "19                     Artist_Name_Artist_Name_sw\n",
       "20                    Genre_Genre_jac_qgm_3_qgm_3\n",
       "21                Genre_Genre_cos_dlm_dc0_dlm_dc0\n",
       "22                Genre_Genre_jac_dlm_dc0_dlm_dc0\n",
       "23                                Genre_Genre_mel\n",
       "24                           Genre_Genre_lev_dist\n",
       "25                            Genre_Genre_lev_sim\n",
       "26                                Genre_Genre_nmw\n",
       "27                                 Genre_Genre_sw\n",
       "28            Song_Name_Song_Name_jac_qgm_3_qgm_3\n",
       "29        Song_Name_Song_Name_cos_dlm_dc0_dlm_dc0\n",
       "30        Song_Name_Song_Name_jac_dlm_dc0_dlm_dc0\n",
       "31                        Song_Name_Song_Name_mel\n",
       "32                   Song_Name_Song_Name_lev_dist\n",
       "33                    Song_Name_Song_Name_lev_sim\n",
       "34                        Song_Name_Song_Name_nmw\n",
       "35                         Song_Name_Song_Name_sw\n",
       "Name: feature_name, dtype: object"
      ]
     },
     "execution_count": 15,
     "metadata": {},
     "output_type": "execute_result"
    }
   ],
   "source": [
    "# Listing the names of the features generated\n",
    "feature_table['feature_name']"
   ]
  },
  {
   "cell_type": "code",
   "execution_count": 16,
   "metadata": {},
   "outputs": [
    {
     "data": {
      "text/plain": [
       "True"
      ]
     },
     "execution_count": 16,
     "metadata": {},
     "output_type": "execute_result"
    }
   ],
   "source": [
    "# Since feature related to time is not present due to the difference in data types, we create the time feature manually.\n",
    "# Creating function for checking if the two timevalues are equal or not.\n",
    "def time_feature(ltuple, rtuple):\n",
    "    p1 = ltuple.Time\n",
    "    p2 = rtuple.Time\n",
    "    if p1 == p2:\n",
    "        return 1.0\n",
    "    else:\n",
    "        return 0.0\n",
    "\n",
    "# Add feature to the feature table\n",
    "em.add_blackbox_feature(feature_table, 'time_time_feature', time_feature)"
   ]
  },
  {
   "cell_type": "code",
   "execution_count": 17,
   "metadata": {},
   "outputs": [
    {
     "data": {
      "text/plain": [
       "odict_keys(['_rule_0', '_rule_1', '_rule_2'])"
      ]
     },
     "execution_count": 17,
     "metadata": {},
     "output_type": "execute_result"
    }
   ],
   "source": [
    "# Add two rules to the rule-based matcher\n",
    "\n",
    "# The first rule compares the album names\n",
    "brm.add_rule(['Album_Name_Album_Name_lev_sim(ltuple, rtuple) > 0.8'], feature_table)\n",
    "# This second rule compares the genres\n",
    "brm.add_rule(['Genre_Genre_lev_sim(ltuple, rtuple) > 0.8'], feature_table)\n",
    "# This third rule compares the times\n",
    "brm.add_rule(['time_time_feature(ltuple, rtuple) == 1'],feature_table)\n",
    "brm.get_rule_names()"
   ]
  },
  {
   "cell_type": "code",
   "execution_count": 58,
   "metadata": {},
   "outputs": [
    {
     "data": {
      "text/html": [
       "<div>\n",
       "<style scoped>\n",
       "    .dataframe tbody tr th:only-of-type {\n",
       "        vertical-align: middle;\n",
       "    }\n",
       "\n",
       "    .dataframe tbody tr th {\n",
       "        vertical-align: top;\n",
       "    }\n",
       "\n",
       "    .dataframe thead th {\n",
       "        text-align: right;\n",
       "    }\n",
       "</style>\n",
       "<table border=\"1\" class=\"dataframe\">\n",
       "  <thead>\n",
       "    <tr style=\"text-align: right;\">\n",
       "      <th></th>\n",
       "      <th>Unnamed: 0</th>\n",
       "      <th>_id</th>\n",
       "      <th>ltable.Sno</th>\n",
       "      <th>rtable.Sno</th>\n",
       "      <th>ltable.Album_Name</th>\n",
       "      <th>ltable.Artist_Name</th>\n",
       "      <th>ltable.CopyRight</th>\n",
       "      <th>ltable.Released</th>\n",
       "      <th>ltable.Song_Name</th>\n",
       "      <th>ltable.Time</th>\n",
       "      <th>rtable.Album_Name</th>\n",
       "      <th>rtable.Artist_Name</th>\n",
       "      <th>rtable.CopyRight</th>\n",
       "      <th>rtable.Released</th>\n",
       "      <th>rtable.Song_Name</th>\n",
       "      <th>rtable.Time</th>\n",
       "      <th>label</th>\n",
       "      <th>lgenre</th>\n",
       "      <th>rgenre</th>\n",
       "      <th>pred_label</th>\n",
       "    </tr>\n",
       "  </thead>\n",
       "  <tbody>\n",
       "    <tr>\n",
       "      <td>0</td>\n",
       "      <td>916</td>\n",
       "      <td>916</td>\n",
       "      <td>111</td>\n",
       "      <td>53124</td>\n",
       "      <td>vhs</td>\n",
       "      <td>x ambassadors</td>\n",
       "      <td>2015 kidinakorner/interscope records</td>\n",
       "      <td>30-Jun-15</td>\n",
       "      <td>vhs outro (interlude)</td>\n",
       "      <td>1:25</td>\n",
       "      <td>vhs [explicit]</td>\n",
       "      <td>x ambassadors</td>\n",
       "      <td>(c) 2015 kidinakorner/interscope records</td>\n",
       "      <td>June 30, 2015</td>\n",
       "      <td>vhs outro (interlude) [explicit]</td>\n",
       "      <td>1:25</td>\n",
       "      <td>1</td>\n",
       "      <td>Alternative</td>\n",
       "      <td>Alternative</td>\n",
       "      <td>1</td>\n",
       "    </tr>\n",
       "    <tr>\n",
       "      <td>1</td>\n",
       "      <td>1053</td>\n",
       "      <td>1053</td>\n",
       "      <td>148</td>\n",
       "      <td>50767</td>\n",
       "      <td>title (deluxe)</td>\n",
       "      <td>meghan trainor</td>\n",
       "      <td>2014, 2015 epic records, a division of sony music entertainment</td>\n",
       "      <td>9-Jan-15</td>\n",
       "      <td>credit</td>\n",
       "      <td>2:51</td>\n",
       "      <td>title (deluxe)</td>\n",
       "      <td>meghan trainor</td>\n",
       "      <td>2011 what a music ltd, licence exclusive parlophone music france</td>\n",
       "      <td>January 9, 2015</td>\n",
       "      <td>credit</td>\n",
       "      <td>2:51</td>\n",
       "      <td>1</td>\n",
       "      <td>Pop</td>\n",
       "      <td>Pop</td>\n",
       "      <td>1</td>\n",
       "    </tr>\n",
       "    <tr>\n",
       "      <td>2</td>\n",
       "      <td>1290</td>\n",
       "      <td>1290</td>\n",
       "      <td>206</td>\n",
       "      <td>41214</td>\n",
       "      <td>slow down (remixes)</td>\n",
       "      <td>selena gomez</td>\n",
       "      <td>2013 hollywood records, inc.</td>\n",
       "      <td>20-Aug-13</td>\n",
       "      <td>slow down (smash mode remix)</td>\n",
       "      <td>5:21</td>\n",
       "      <td>slow down remixes</td>\n",
       "      <td>selena gomez</td>\n",
       "      <td>(c) 2013 hollywood records, inc.</td>\n",
       "      <td>August 20, 2013</td>\n",
       "      <td>slow down (smash mode remix)</td>\n",
       "      <td>5:21</td>\n",
       "      <td>1</td>\n",
       "      <td>Dance</td>\n",
       "      <td>Dance</td>\n",
       "      <td>1</td>\n",
       "    </tr>\n",
       "    <tr>\n",
       "      <td>3</td>\n",
       "      <td>1424</td>\n",
       "      <td>1424</td>\n",
       "      <td>211</td>\n",
       "      <td>19812</td>\n",
       "      <td>slow down (reggae remixes) - single</td>\n",
       "      <td>selena gomez</td>\n",
       "      <td>2013 hollywood records, inc.</td>\n",
       "      <td>20-Aug-13</td>\n",
       "      <td>slow down (sure shot rockers reggae dub remix)</td>\n",
       "      <td>3:15</td>\n",
       "      <td>good for you (remixes)</td>\n",
       "      <td>selena gomez</td>\n",
       "      <td>(c) 2015 interscope records</td>\n",
       "      <td>September 4, 2015</td>\n",
       "      <td>good for you (yellow claw &amp; cesqeaux remix) [feat. a$ap rocky]</td>\n",
       "      <td>3:01</td>\n",
       "      <td>0</td>\n",
       "      <td>Other</td>\n",
       "      <td>Pop</td>\n",
       "      <td>0</td>\n",
       "    </tr>\n",
       "    <tr>\n",
       "      <td>4</td>\n",
       "      <td>1706</td>\n",
       "      <td>1706</td>\n",
       "      <td>250</td>\n",
       "      <td>53111</td>\n",
       "      <td>vhs</td>\n",
       "      <td>x ambassadors</td>\n",
       "      <td>2015 kidinakorner/interscope records</td>\n",
       "      <td>30-Jun-15</td>\n",
       "      <td>vhs outro (interlude)</td>\n",
       "      <td>1:25</td>\n",
       "      <td>vhs [explicit]</td>\n",
       "      <td>x ambassadors</td>\n",
       "      <td>(c) 2015 kidinakorner/interscope records</td>\n",
       "      <td>June 30, 2015</td>\n",
       "      <td>first show (interlude)</td>\n",
       "      <td>0:11</td>\n",
       "      <td>0</td>\n",
       "      <td>Alternative</td>\n",
       "      <td>Alternative</td>\n",
       "      <td>0</td>\n",
       "    </tr>\n",
       "  </tbody>\n",
       "</table>\n",
       "</div>"
      ],
      "text/plain": [
       "   Unnamed: 0   _id  ltable.Sno  rtable.Sno  \\\n",
       "0         916   916         111       53124   \n",
       "1        1053  1053         148       50767   \n",
       "2        1290  1290         206       41214   \n",
       "3        1424  1424         211       19812   \n",
       "4        1706  1706         250       53111   \n",
       "\n",
       "                     ltable.Album_Name ltable.Artist_Name  \\\n",
       "0                                  vhs      x ambassadors   \n",
       "1                       title (deluxe)     meghan trainor   \n",
       "2                  slow down (remixes)       selena gomez   \n",
       "3  slow down (reggae remixes) - single       selena gomez   \n",
       "4                                  vhs      x ambassadors   \n",
       "\n",
       "                                                   ltable.CopyRight  \\\n",
       "0                              2015 kidinakorner/interscope records   \n",
       "1   2014, 2015 epic records, a division of sony music entertainment   \n",
       "2                                      2013 hollywood records, inc.   \n",
       "3                                      2013 hollywood records, inc.   \n",
       "4                              2015 kidinakorner/interscope records   \n",
       "\n",
       "  ltable.Released                                ltable.Song_Name ltable.Time  \\\n",
       "0       30-Jun-15                           vhs outro (interlude)        1:25   \n",
       "1        9-Jan-15                                          credit        2:51   \n",
       "2       20-Aug-13                    slow down (smash mode remix)        5:21   \n",
       "3       20-Aug-13  slow down (sure shot rockers reggae dub remix)        3:15   \n",
       "4       30-Jun-15                           vhs outro (interlude)        1:25   \n",
       "\n",
       "        rtable.Album_Name rtable.Artist_Name  \\\n",
       "0          vhs [explicit]      x ambassadors   \n",
       "1          title (deluxe)     meghan trainor   \n",
       "2       slow down remixes       selena gomez   \n",
       "3  good for you (remixes)       selena gomez   \n",
       "4          vhs [explicit]      x ambassadors   \n",
       "\n",
       "                                                    rtable.CopyRight  \\\n",
       "0                           (c) 2015 kidinakorner/interscope records   \n",
       "1   2011 what a music ltd, licence exclusive parlophone music france   \n",
       "2                                   (c) 2013 hollywood records, inc.   \n",
       "3                                        (c) 2015 interscope records   \n",
       "4                           (c) 2015 kidinakorner/interscope records   \n",
       "\n",
       "      rtable.Released  \\\n",
       "0       June 30, 2015   \n",
       "1     January 9, 2015   \n",
       "2     August 20, 2013   \n",
       "3   September 4, 2015   \n",
       "4       June 30, 2015   \n",
       "\n",
       "                                                 rtable.Song_Name rtable.Time  \\\n",
       "0                                vhs outro (interlude) [explicit]        1:25   \n",
       "1                                                          credit        2:51   \n",
       "2                                    slow down (smash mode remix)        5:21   \n",
       "3  good for you (yellow claw & cesqeaux remix) [feat. a$ap rocky]        3:01   \n",
       "4                                          first show (interlude)        0:11   \n",
       "\n",
       "   label       lgenre       rgenre  pred_label  \n",
       "0      1  Alternative  Alternative           1  \n",
       "1      1          Pop          Pop           1  \n",
       "2      1        Dance        Dance           1  \n",
       "3      0        Other          Pop           0  \n",
       "4      0  Alternative  Alternative           0  "
      ]
     },
     "execution_count": 58,
     "metadata": {},
     "output_type": "execute_result"
    }
   ],
   "source": [
    "brm.predict(G, target_attr='pred_label', append=True)\n",
    "G.head(5)"
   ]
  },
  {
   "cell_type": "code",
   "execution_count": 19,
   "metadata": {},
   "outputs": [
    {
     "name": "stdout",
     "output_type": "stream",
     "text": [
      "Precision : 71.95% (118/164)\n",
      "Recall : 89.39% (118/132)\n",
      "F1 : 79.73%\n",
      "False positives : 46 (out of 164 positive predictions)\n",
      "False negatives : 14 (out of 375 negative predictions)\n"
     ]
    }
   ],
   "source": [
    "# Evaluate the predictions\n",
    "eval_result = em.eval_matches(G, 'label', 'pred_label')\n",
    "em.print_eval_summary(eval_result)"
   ]
  },
  {
   "cell_type": "markdown",
   "metadata": {},
   "source": [
    "# For involving fairness constraints, we take Genre as the sensitive attributes\n",
    "#### The following distribution of distinct categories was obtained for the two datasets-->\n",
    "#Music 1 : {'Pop': 1758, 'Hip-Hop': 685, 'Rock': 515, 'Dance': 952, 'Country': 1367, \n",
    "'Electronic': 211, 'Alternative': 484, 'Soundtrack': 397, 'Other': 538}\n",
    "\n",
    "#Music 2 : {'Pop': 7130, 'Rap & Hip-Hop': 3400, 'Rock': 3248, 'Dance': 8274, 'Country': 8317, 'Electronic': 4019, 'Alternative': 4806, 'Soundtrack': 3594, 'Other': 13135}\n",
    "\n",
    "Rap & Hip-Hop converted to Hip-Hop in music2 for consistency.\n",
    "\n",
    "## There were mamy distinct categories in the dataset, they have been clubbed into umbrella categories as shown above.\n"
   ]
  },
  {
   "cell_type": "code",
   "execution_count": 64,
   "metadata": {},
   "outputs": [
    {
     "name": "stdout",
     "output_type": "stream",
     "text": [
      "Total count of Pop = 85\n",
      "Positive =  26\n",
      "Negative =  50\n",
      "False Pos =  5\n",
      "False Neg =  4\n",
      "\n",
      "\n",
      "\n",
      "\n",
      "Total count of Hip-Hop = 121\n",
      "Positive =  16\n",
      "Negative =  100\n",
      "False Pos =  1\n",
      "False Neg =  4\n",
      "\n",
      "\n",
      "\n",
      "\n",
      "Total count of Rock = 34\n",
      "Positive =  7\n",
      "Negative =  27\n",
      "False Pos =  0\n",
      "False Neg =  0\n",
      "\n",
      "\n",
      "\n",
      "\n",
      "Total count of Dance = 156\n",
      "Positive =  17\n",
      "Negative =  110\n",
      "False Pos =  28\n",
      "False Neg =  1\n",
      "\n",
      "\n",
      "\n",
      "\n",
      "Total count of Country = 57\n",
      "Positive =  36\n",
      "Negative =  13\n",
      "False Pos =  6\n",
      "False Neg =  2\n",
      "\n",
      "\n",
      "\n",
      "\n",
      "Total count of Electronic = 27\n",
      "Positive =  3\n",
      "Negative =  20\n",
      "False Pos =  4\n",
      "False Neg =  0\n",
      "\n",
      "\n",
      "\n",
      "\n",
      "Total count of Alternative = 27\n",
      "Positive =  8\n",
      "Negative =  17\n",
      "False Pos =  0\n",
      "False Neg =  2\n",
      "\n",
      "\n",
      "\n",
      "\n",
      "Total count of Soundtrack = 4\n",
      "Positive =  1\n",
      "Negative =  1\n",
      "False Pos =  2\n",
      "False Neg =  0\n",
      "\n",
      "\n",
      "\n",
      "\n",
      "Total count of Other = 28\n",
      "Positive =  4\n",
      "Negative =  23\n",
      "False Pos =  0\n",
      "False Neg =  1\n",
      "\n",
      "\n",
      "\n",
      "\n",
      "End\n"
     ]
    }
   ],
   "source": [
    "NG = G.to_numpy()\n",
    "\n",
    "lst = ['Pop','Hip-Hop','Rock','Dance','Country','Electronic','Alternative','Soundtrack','Other']\n",
    "for z in lst:\n",
    "    cnt,pos,neg,fp,fn= [0,0,0,0,0]\n",
    "    for x in NG:\n",
    "        if(x[-2]== z):\n",
    "            cnt+=1\n",
    "            if(x[-1]==1 and x[-4]==1):\n",
    "                pos+=1\n",
    "            elif(x[-1]==1 and x[-4]==0):\n",
    "                fp+=1\n",
    "            elif(x[-1]==0 and x[-4]==1):\n",
    "                fn+=1\n",
    "            else:\n",
    "                neg+=1\n",
    "    print('Total count of '+z+' = '+str(cnt))\n",
    "    print('Positive = ',pos)\n",
    "    print('Negative = ',neg)\n",
    "    print('False Pos = ',fp)\n",
    "    print('False Neg = ',fn)\n",
    "    print('\\n\\n\\n')\n",
    "    \n",
    "print('End')"
   ]
  },
  {
   "cell_type": "code",
   "execution_count": null,
   "metadata": {},
   "outputs": [],
   "source": []
  }
 ],
 "metadata": {
  "kernelspec": {
   "display_name": "Python 3",
   "language": "python",
   "name": "python3"
  },
  "language_info": {
   "codemirror_mode": {
    "name": "ipython",
    "version": 3
   },
   "file_extension": ".py",
   "mimetype": "text/x-python",
   "name": "python",
   "nbconvert_exporter": "python",
   "pygments_lexer": "ipython3",
   "version": "3.7.4"
  }
 },
 "nbformat": 4,
 "nbformat_minor": 4
}
