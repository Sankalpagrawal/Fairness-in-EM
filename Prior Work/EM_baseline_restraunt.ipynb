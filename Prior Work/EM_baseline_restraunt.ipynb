{
 "cells": [
  {
   "cell_type": "code",
   "execution_count": 1,
   "metadata": {},
   "outputs": [],
   "source": [
    "# https://hpi.de/naumann/projects/repeatability/datasets/restaurants-dataset.html\n",
    "#Importing the libraries\n",
    "import sys\n",
    "import py_entitymatching as em\n",
    "import pandas as pd\n",
    "import os"
   ]
  },
  {
   "cell_type": "code",
   "execution_count": 2,
   "metadata": {},
   "outputs": [
    {
     "name": "stdout",
     "output_type": "stream",
     "text": [
      "python version: 3.6.12 |Anaconda, Inc.| (default, Sep  9 2020, 00:29:25) [MSC v.1916 64 bit (AMD64)]\n",
      "pandas version: 0.25.1\n",
      "magellan version: 0.3.1\n"
     ]
    }
   ],
   "source": [
    "# Display the versions\n",
    "print('python version: ' + sys.version )\n",
    "print('pandas version: ' + pd.__version__ )\n",
    "print('magellan version: ' + em.__version__ )"
   ]
  },
  {
   "cell_type": "code",
   "execution_count": 3,
   "metadata": {},
   "outputs": [
    {
     "name": "stderr",
     "output_type": "stream",
     "text": [
      "Metadata file is not present in the given path; proceeding to read the csv file.\n",
      "Metadata file is not present in the given path; proceeding to read the csv file.\n"
     ]
    },
    {
     "name": "stdout",
     "output_type": "stream",
     "text": [
      "<class 'pandas.core.frame.DataFrame'>\n"
     ]
    }
   ],
   "source": [
    "# Load csv files as dataframes and set the key attribute in the dataframe\n",
    "path_A = './data/restaurants.csv'\n",
    "A = em.read_csv_metadata(path_A, key='id')\n",
    "B = em.read_csv_metadata(path_A, key='id')\n",
    "print(type(A))"
   ]
  },
  {
   "cell_type": "code",
   "execution_count": 4,
   "metadata": {},
   "outputs": [
    {
     "name": "stdout",
     "output_type": "stream",
     "text": [
      "Number of tuples in A: 864\n",
      "Number of tuples in B: 864\n",
      "Number of tuples in A X B (i.e the cartesian product): 746496\n"
     ]
    }
   ],
   "source": [
    "# Display number of tuples in the datasets\n",
    "print('Number of tuples in A: ' + str(len(A)))\n",
    "print('Number of tuples in B: ' + str(len(B)))\n",
    "print('Number of tuples in A X B (i.e the cartesian product): ' + str(len(A)*len(B)))"
   ]
  },
  {
   "cell_type": "code",
   "execution_count": 5,
   "metadata": {},
   "outputs": [
    {
     "data": {
      "text/html": [
       "<div>\n",
       "<style scoped>\n",
       "    .dataframe tbody tr th:only-of-type {\n",
       "        vertical-align: middle;\n",
       "    }\n",
       "\n",
       "    .dataframe tbody tr th {\n",
       "        vertical-align: top;\n",
       "    }\n",
       "\n",
       "    .dataframe thead th {\n",
       "        text-align: right;\n",
       "    }\n",
       "</style>\n",
       "<table border=\"1\" class=\"dataframe\">\n",
       "  <thead>\n",
       "    <tr style=\"text-align: right;\">\n",
       "      <th></th>\n",
       "      <th>address</th>\n",
       "      <th>city</th>\n",
       "      <th>id</th>\n",
       "      <th>name</th>\n",
       "      <th>phone</th>\n",
       "      <th>type</th>\n",
       "    </tr>\n",
       "  </thead>\n",
       "  <tbody>\n",
       "    <tr>\n",
       "      <td>0</td>\n",
       "      <td>435 s la cienega blv</td>\n",
       "      <td>los angeles</td>\n",
       "      <td>1</td>\n",
       "      <td>arnie morton s of chicago</td>\n",
       "      <td>310 246 1501</td>\n",
       "      <td>american</td>\n",
       "    </tr>\n",
       "    <tr>\n",
       "      <td>1</td>\n",
       "      <td>435 s la cienega blvd</td>\n",
       "      <td>los angeles</td>\n",
       "      <td>2</td>\n",
       "      <td>arnie morton s of chicago</td>\n",
       "      <td>310 246 1501</td>\n",
       "      <td>steakhouses</td>\n",
       "    </tr>\n",
       "  </tbody>\n",
       "</table>\n",
       "</div>"
      ],
      "text/plain": [
       "                  address         city  id                       name  \\\n",
       "0   435 s la cienega blv   los angeles   1  arnie morton s of chicago   \n",
       "1  435 s la cienega blvd   los angeles   2  arnie morton s of chicago   \n",
       "\n",
       "          phone         type  \n",
       "0  310 246 1501     american  \n",
       "1  310 246 1501  steakhouses  "
      ]
     },
     "execution_count": 5,
     "metadata": {},
     "output_type": "execute_result"
    }
   ],
   "source": [
    "# Displaying first two entries from the first music dataset\n",
    "A.head(2)"
   ]
  },
  {
   "cell_type": "code",
   "execution_count": 6,
   "metadata": {},
   "outputs": [
    {
     "data": {
      "text/html": [
       "<div>\n",
       "<style scoped>\n",
       "    .dataframe tbody tr th:only-of-type {\n",
       "        vertical-align: middle;\n",
       "    }\n",
       "\n",
       "    .dataframe tbody tr th {\n",
       "        vertical-align: top;\n",
       "    }\n",
       "\n",
       "    .dataframe thead th {\n",
       "        text-align: right;\n",
       "    }\n",
       "</style>\n",
       "<table border=\"1\" class=\"dataframe\">\n",
       "  <thead>\n",
       "    <tr style=\"text-align: right;\">\n",
       "      <th></th>\n",
       "      <th>address</th>\n",
       "      <th>city</th>\n",
       "      <th>id</th>\n",
       "      <th>name</th>\n",
       "      <th>phone</th>\n",
       "      <th>type</th>\n",
       "    </tr>\n",
       "  </thead>\n",
       "  <tbody>\n",
       "    <tr>\n",
       "      <td>0</td>\n",
       "      <td>435 s la cienega blv</td>\n",
       "      <td>los angeles</td>\n",
       "      <td>1</td>\n",
       "      <td>arnie morton s of chicago</td>\n",
       "      <td>310 246 1501</td>\n",
       "      <td>american</td>\n",
       "    </tr>\n",
       "    <tr>\n",
       "      <td>1</td>\n",
       "      <td>435 s la cienega blvd</td>\n",
       "      <td>los angeles</td>\n",
       "      <td>2</td>\n",
       "      <td>arnie morton s of chicago</td>\n",
       "      <td>310 246 1501</td>\n",
       "      <td>steakhouses</td>\n",
       "    </tr>\n",
       "  </tbody>\n",
       "</table>\n",
       "</div>"
      ],
      "text/plain": [
       "                  address         city  id                       name  \\\n",
       "0   435 s la cienega blv   los angeles   1  arnie morton s of chicago   \n",
       "1  435 s la cienega blvd   los angeles   2  arnie morton s of chicago   \n",
       "\n",
       "          phone         type  \n",
       "0  310 246 1501     american  \n",
       "1  310 246 1501  steakhouses  "
      ]
     },
     "execution_count": 6,
     "metadata": {},
     "output_type": "execute_result"
    }
   ],
   "source": [
    "# Displaying first two entries from the second music dataset\n",
    "B.head(2)"
   ]
  },
  {
   "cell_type": "code",
   "execution_count": 7,
   "metadata": {},
   "outputs": [
    {
     "name": "stderr",
     "output_type": "stream",
     "text": [
      "Size of table B is less than b_size parameter - using entire table B\n"
     ]
    },
    {
     "name": "stdout",
     "output_type": "stream",
     "text": [
      "id id\n",
      "Lengths after downsampling-\n",
      "854 864\n"
     ]
    }
   ],
   "source": [
    "# Display the keys of the input tables\n",
    "print(em.get_key(A), em.get_key(B))\n",
    "# If the tables are large we can downsample the tables like this\n",
    "A1, B1 = em.down_sample(A, B, 1000, 1, show_progress=False)\n",
    "print(\"Lengths after downsampling-\")\n",
    "print(len(A1), len(B1))"
   ]
  },
  {
   "cell_type": "code",
   "execution_count": 8,
   "metadata": {},
   "outputs": [],
   "source": [
    "colA = [\"address\",\"city\",\"id\",\"name\",\"phone\",\"type\"]"
   ]
  },
  {
   "cell_type": "markdown",
   "metadata": {},
   "source": [
    "Feature Generation"
   ]
  },
  {
   "cell_type": "code",
   "execution_count": 20,
   "metadata": {},
   "outputs": [],
   "source": [
    "# Generate features\n",
    "feature_table = em.get_features_for_matching(A, B, validate_inferred_attr_types=False)"
   ]
  },
  {
   "cell_type": "code",
   "execution_count": 21,
   "metadata": {},
   "outputs": [
    {
     "data": {
      "text/plain": [
       "0         address_address_jac_qgm_3_qgm_3\n",
       "1     address_address_cos_dlm_dc0_dlm_dc0\n",
       "2     address_address_jac_dlm_dc0_dlm_dc0\n",
       "3                     address_address_mel\n",
       "4                address_address_lev_dist\n",
       "5                 address_address_lev_sim\n",
       "6                     address_address_nmw\n",
       "7                      address_address_sw\n",
       "8               city_city_jac_qgm_3_qgm_3\n",
       "9           city_city_cos_dlm_dc0_dlm_dc0\n",
       "10          city_city_jac_dlm_dc0_dlm_dc0\n",
       "11                          city_city_mel\n",
       "12                     city_city_lev_dist\n",
       "13                      city_city_lev_sim\n",
       "14                          city_city_nmw\n",
       "15                           city_city_sw\n",
       "16                              id_id_exm\n",
       "17                              id_id_anm\n",
       "18                         id_id_lev_dist\n",
       "19                          id_id_lev_sim\n",
       "20              name_name_jac_qgm_3_qgm_3\n",
       "21          name_name_cos_dlm_dc0_dlm_dc0\n",
       "22          name_name_jac_dlm_dc0_dlm_dc0\n",
       "23                          name_name_mel\n",
       "24                     name_name_lev_dist\n",
       "25                      name_name_lev_sim\n",
       "26                          name_name_nmw\n",
       "27                           name_name_sw\n",
       "28            phone_phone_jac_qgm_3_qgm_3\n",
       "29        phone_phone_cos_dlm_dc0_dlm_dc0\n",
       "30        phone_phone_jac_dlm_dc0_dlm_dc0\n",
       "31                        phone_phone_mel\n",
       "32                   phone_phone_lev_dist\n",
       "33                    phone_phone_lev_sim\n",
       "34                        phone_phone_nmw\n",
       "35                         phone_phone_sw\n",
       "36              type_type_jac_qgm_3_qgm_3\n",
       "37          type_type_cos_dlm_dc0_dlm_dc0\n",
       "38          type_type_jac_dlm_dc0_dlm_dc0\n",
       "39                          type_type_mel\n",
       "40                     type_type_lev_dist\n",
       "41                      type_type_lev_sim\n",
       "42                          type_type_nmw\n",
       "43                           type_type_sw\n",
       "Name: feature_name, dtype: object"
      ]
     },
     "execution_count": 21,
     "metadata": {},
     "output_type": "execute_result"
    }
   ],
   "source": [
    "# List the names of the features generated\n",
    "feature_table['feature_name']"
   ]
  },
  {
   "cell_type": "code",
   "execution_count": 22,
   "metadata": {},
   "outputs": [],
   "source": [
    "lit = []\n",
    "\n",
    "for i in range(44):\n",
    "    if(i%8!=5):\n",
    "        lit.append(i)\n",
    "        \n",
    "# feature_table = feature_table.drop([28,29,30,36,37,38,39,40,41,42,43],axis=0) \n",
    "\n",
    "feature_table = feature_table.drop(lit,axis=0) \n",
    "\n",
    "# em.add_blackbox_feature(feature_table, 'time_time_feature', time_feature)\n",
    "# em.add_blackbox_feature(feature_table, 'released_released_feature', released_feature)\n",
    "# em.add_blackbox_feature(feature_table, 'price_price_feature', price_feature)\n",
    "# em.add_blackbox_feature(feature_table, 'copyright_copyright_feature', copyright_feature)"
   ]
  },
  {
   "cell_type": "code",
   "execution_count": 23,
   "metadata": {},
   "outputs": [
    {
     "data": {
      "text/plain": [
       "5             address_address_lev_sim\n",
       "13                  city_city_lev_sim\n",
       "21      name_name_cos_dlm_dc0_dlm_dc0\n",
       "29    phone_phone_cos_dlm_dc0_dlm_dc0\n",
       "37      type_type_cos_dlm_dc0_dlm_dc0\n",
       "Name: feature_name, dtype: object"
      ]
     },
     "execution_count": 23,
     "metadata": {},
     "output_type": "execute_result"
    }
   ],
   "source": [
    "# List the names of the features generated\n",
    "feature_table['feature_name']"
   ]
  },
  {
   "cell_type": "code",
   "execution_count": 24,
   "metadata": {},
   "outputs": [
    {
     "name": "stderr",
     "output_type": "stream",
     "text": [
      "Metadata file is not present in the given path; proceeding to read the csv file.\n"
     ]
    },
    {
     "name": "stdout",
     "output_type": "stream",
     "text": [
      "746496\n"
     ]
    }
   ],
   "source": [
    "# Load the pre-labeled data\n",
    "path_G = './data/labeled_res_data.csv'\n",
    "\n",
    "# path_G = em.get_install_path() + os.sep + 'datasets' + os.sep + 'end-to-end' + os.sep + 'restaurants/lbl_restnt_wf1.csv'\n",
    "G = em.read_csv_metadata(path_G, key=\"_id\",\n",
    "                         ltable=A, rtable=B, \n",
    "                         fk_ltable='ltable.id', fk_rtable='rtable.id')\n",
    "print(len(G))"
   ]
  },
  {
   "cell_type": "code",
   "execution_count": 25,
   "metadata": {},
   "outputs": [
    {
     "name": "stderr",
     "output_type": "stream",
     "text": [
      "0% [##############################] 100% | ETA: 00:00:00\n",
      "Total time elapsed: 00:12:37\n"
     ]
    },
    {
     "data": {
      "text/html": [
       "<div>\n",
       "<style scoped>\n",
       "    .dataframe tbody tr th:only-of-type {\n",
       "        vertical-align: middle;\n",
       "    }\n",
       "\n",
       "    .dataframe tbody tr th {\n",
       "        vertical-align: top;\n",
       "    }\n",
       "\n",
       "    .dataframe thead th {\n",
       "        text-align: right;\n",
       "    }\n",
       "</style>\n",
       "<table border=\"1\" class=\"dataframe\">\n",
       "  <thead>\n",
       "    <tr style=\"text-align: right;\">\n",
       "      <th></th>\n",
       "      <th>_id</th>\n",
       "      <th>ltable.id</th>\n",
       "      <th>rtable.id</th>\n",
       "      <th>address_address_lev_sim</th>\n",
       "      <th>city_city_lev_sim</th>\n",
       "      <th>name_name_cos_dlm_dc0_dlm_dc0</th>\n",
       "      <th>phone_phone_cos_dlm_dc0_dlm_dc0</th>\n",
       "      <th>type_type_cos_dlm_dc0_dlm_dc0</th>\n",
       "    </tr>\n",
       "  </thead>\n",
       "  <tbody>\n",
       "    <tr>\n",
       "      <td>0</td>\n",
       "      <td>1</td>\n",
       "      <td>1</td>\n",
       "      <td>1</td>\n",
       "      <td>1.000000</td>\n",
       "      <td>1.000000</td>\n",
       "      <td>1.000000</td>\n",
       "      <td>1.000000</td>\n",
       "      <td>1.0</td>\n",
       "    </tr>\n",
       "    <tr>\n",
       "      <td>1</td>\n",
       "      <td>2</td>\n",
       "      <td>1</td>\n",
       "      <td>2</td>\n",
       "      <td>0.954545</td>\n",
       "      <td>1.000000</td>\n",
       "      <td>1.000000</td>\n",
       "      <td>1.000000</td>\n",
       "      <td>0.0</td>\n",
       "    </tr>\n",
       "    <tr>\n",
       "      <td>2</td>\n",
       "      <td>3</td>\n",
       "      <td>1</td>\n",
       "      <td>3</td>\n",
       "      <td>0.333333</td>\n",
       "      <td>0.000000</td>\n",
       "      <td>0.258199</td>\n",
       "      <td>0.000000</td>\n",
       "      <td>1.0</td>\n",
       "    </tr>\n",
       "    <tr>\n",
       "      <td>3</td>\n",
       "      <td>4</td>\n",
       "      <td>1</td>\n",
       "      <td>4</td>\n",
       "      <td>0.333333</td>\n",
       "      <td>0.000000</td>\n",
       "      <td>0.258199</td>\n",
       "      <td>0.000000</td>\n",
       "      <td>0.0</td>\n",
       "    </tr>\n",
       "    <tr>\n",
       "      <td>4</td>\n",
       "      <td>5</td>\n",
       "      <td>1</td>\n",
       "      <td>5</td>\n",
       "      <td>0.285714</td>\n",
       "      <td>0.181818</td>\n",
       "      <td>0.000000</td>\n",
       "      <td>0.333333</td>\n",
       "      <td>0.0</td>\n",
       "    </tr>\n",
       "    <tr>\n",
       "      <td>...</td>\n",
       "      <td>...</td>\n",
       "      <td>...</td>\n",
       "      <td>...</td>\n",
       "      <td>...</td>\n",
       "      <td>...</td>\n",
       "      <td>...</td>\n",
       "      <td>...</td>\n",
       "      <td>...</td>\n",
       "    </tr>\n",
       "    <tr>\n",
       "      <td>746491</td>\n",
       "      <td>746492</td>\n",
       "      <td>864</td>\n",
       "      <td>860</td>\n",
       "      <td>0.461538</td>\n",
       "      <td>1.000000</td>\n",
       "      <td>0.000000</td>\n",
       "      <td>0.333333</td>\n",
       "      <td>0.0</td>\n",
       "    </tr>\n",
       "    <tr>\n",
       "      <td>746492</td>\n",
       "      <td>746493</td>\n",
       "      <td>864</td>\n",
       "      <td>861</td>\n",
       "      <td>0.352941</td>\n",
       "      <td>1.000000</td>\n",
       "      <td>0.000000</td>\n",
       "      <td>0.333333</td>\n",
       "      <td>0.0</td>\n",
       "    </tr>\n",
       "    <tr>\n",
       "      <td>746493</td>\n",
       "      <td>746494</td>\n",
       "      <td>864</td>\n",
       "      <td>862</td>\n",
       "      <td>0.307692</td>\n",
       "      <td>1.000000</td>\n",
       "      <td>0.000000</td>\n",
       "      <td>0.333333</td>\n",
       "      <td>0.0</td>\n",
       "    </tr>\n",
       "    <tr>\n",
       "      <td>746494</td>\n",
       "      <td>746495</td>\n",
       "      <td>864</td>\n",
       "      <td>863</td>\n",
       "      <td>0.538462</td>\n",
       "      <td>1.000000</td>\n",
       "      <td>0.000000</td>\n",
       "      <td>0.333333</td>\n",
       "      <td>0.0</td>\n",
       "    </tr>\n",
       "    <tr>\n",
       "      <td>746495</td>\n",
       "      <td>746496</td>\n",
       "      <td>864</td>\n",
       "      <td>864</td>\n",
       "      <td>1.000000</td>\n",
       "      <td>1.000000</td>\n",
       "      <td>1.000000</td>\n",
       "      <td>1.000000</td>\n",
       "      <td>1.0</td>\n",
       "    </tr>\n",
       "  </tbody>\n",
       "</table>\n",
       "<p>746496 rows × 8 columns</p>\n",
       "</div>"
      ],
      "text/plain": [
       "           _id  ltable.id  rtable.id  address_address_lev_sim  \\\n",
       "0            1          1          1                 1.000000   \n",
       "1            2          1          2                 0.954545   \n",
       "2            3          1          3                 0.333333   \n",
       "3            4          1          4                 0.333333   \n",
       "4            5          1          5                 0.285714   \n",
       "...        ...        ...        ...                      ...   \n",
       "746491  746492        864        860                 0.461538   \n",
       "746492  746493        864        861                 0.352941   \n",
       "746493  746494        864        862                 0.307692   \n",
       "746494  746495        864        863                 0.538462   \n",
       "746495  746496        864        864                 1.000000   \n",
       "\n",
       "        city_city_lev_sim  name_name_cos_dlm_dc0_dlm_dc0  \\\n",
       "0                1.000000                       1.000000   \n",
       "1                1.000000                       1.000000   \n",
       "2                0.000000                       0.258199   \n",
       "3                0.000000                       0.258199   \n",
       "4                0.181818                       0.000000   \n",
       "...                   ...                            ...   \n",
       "746491           1.000000                       0.000000   \n",
       "746492           1.000000                       0.000000   \n",
       "746493           1.000000                       0.000000   \n",
       "746494           1.000000                       0.000000   \n",
       "746495           1.000000                       1.000000   \n",
       "\n",
       "        phone_phone_cos_dlm_dc0_dlm_dc0  type_type_cos_dlm_dc0_dlm_dc0  \n",
       "0                              1.000000                            1.0  \n",
       "1                              1.000000                            0.0  \n",
       "2                              0.000000                            1.0  \n",
       "3                              0.000000                            0.0  \n",
       "4                              0.333333                            0.0  \n",
       "...                                 ...                            ...  \n",
       "746491                         0.333333                            0.0  \n",
       "746492                         0.333333                            0.0  \n",
       "746493                         0.333333                            0.0  \n",
       "746494                         0.333333                            0.0  \n",
       "746495                         1.000000                            1.0  \n",
       "\n",
       "[746496 rows x 8 columns]"
      ]
     },
     "execution_count": 25,
     "metadata": {},
     "output_type": "execute_result"
    }
   ],
   "source": [
    "H = em.extract_feature_vecs(G, feature_table=feature_table)\n",
    "H"
   ]
  },
  {
   "cell_type": "code",
   "execution_count": 34,
   "metadata": {},
   "outputs": [],
   "source": [
    "import pickle\n",
    "\n",
    "dbfile = open('f_vec', 'ab') \n",
    "pickle.dump(H, dbfile)                      \n",
    "dbfile.close()"
   ]
  },
  {
   "cell_type": "code",
   "execution_count": 40,
   "metadata": {},
   "outputs": [
    {
     "data": {
      "text/html": [
       "<div>\n",
       "<style scoped>\n",
       "    .dataframe tbody tr th:only-of-type {\n",
       "        vertical-align: middle;\n",
       "    }\n",
       "\n",
       "    .dataframe tbody tr th {\n",
       "        vertical-align: top;\n",
       "    }\n",
       "\n",
       "    .dataframe thead th {\n",
       "        text-align: right;\n",
       "    }\n",
       "</style>\n",
       "<table border=\"1\" class=\"dataframe\">\n",
       "  <thead>\n",
       "    <tr style=\"text-align: right;\">\n",
       "      <th></th>\n",
       "      <th>_id</th>\n",
       "      <th>ltable.id</th>\n",
       "      <th>rtable.id</th>\n",
       "      <th>address_address_lev_sim</th>\n",
       "      <th>city_city_lev_sim</th>\n",
       "      <th>name_name_cos_dlm_dc0_dlm_dc0</th>\n",
       "      <th>phone_phone_cos_dlm_dc0_dlm_dc0</th>\n",
       "      <th>type_type_cos_dlm_dc0_dlm_dc0</th>\n",
       "    </tr>\n",
       "  </thead>\n",
       "  <tbody>\n",
       "    <tr>\n",
       "      <td>0</td>\n",
       "      <td>1</td>\n",
       "      <td>1</td>\n",
       "      <td>1</td>\n",
       "      <td>1.000000</td>\n",
       "      <td>1.000000</td>\n",
       "      <td>1.000000</td>\n",
       "      <td>1.000000</td>\n",
       "      <td>1.0</td>\n",
       "    </tr>\n",
       "    <tr>\n",
       "      <td>1</td>\n",
       "      <td>2</td>\n",
       "      <td>1</td>\n",
       "      <td>2</td>\n",
       "      <td>0.954545</td>\n",
       "      <td>1.000000</td>\n",
       "      <td>1.000000</td>\n",
       "      <td>1.000000</td>\n",
       "      <td>0.0</td>\n",
       "    </tr>\n",
       "    <tr>\n",
       "      <td>2</td>\n",
       "      <td>3</td>\n",
       "      <td>1</td>\n",
       "      <td>3</td>\n",
       "      <td>0.333333</td>\n",
       "      <td>0.000000</td>\n",
       "      <td>0.258199</td>\n",
       "      <td>0.000000</td>\n",
       "      <td>1.0</td>\n",
       "    </tr>\n",
       "    <tr>\n",
       "      <td>3</td>\n",
       "      <td>4</td>\n",
       "      <td>1</td>\n",
       "      <td>4</td>\n",
       "      <td>0.333333</td>\n",
       "      <td>0.000000</td>\n",
       "      <td>0.258199</td>\n",
       "      <td>0.000000</td>\n",
       "      <td>0.0</td>\n",
       "    </tr>\n",
       "    <tr>\n",
       "      <td>4</td>\n",
       "      <td>5</td>\n",
       "      <td>1</td>\n",
       "      <td>5</td>\n",
       "      <td>0.285714</td>\n",
       "      <td>0.181818</td>\n",
       "      <td>0.000000</td>\n",
       "      <td>0.333333</td>\n",
       "      <td>0.0</td>\n",
       "    </tr>\n",
       "    <tr>\n",
       "      <td>...</td>\n",
       "      <td>...</td>\n",
       "      <td>...</td>\n",
       "      <td>...</td>\n",
       "      <td>...</td>\n",
       "      <td>...</td>\n",
       "      <td>...</td>\n",
       "      <td>...</td>\n",
       "      <td>...</td>\n",
       "    </tr>\n",
       "    <tr>\n",
       "      <td>746491</td>\n",
       "      <td>746492</td>\n",
       "      <td>864</td>\n",
       "      <td>860</td>\n",
       "      <td>0.461538</td>\n",
       "      <td>1.000000</td>\n",
       "      <td>0.000000</td>\n",
       "      <td>0.333333</td>\n",
       "      <td>0.0</td>\n",
       "    </tr>\n",
       "    <tr>\n",
       "      <td>746492</td>\n",
       "      <td>746493</td>\n",
       "      <td>864</td>\n",
       "      <td>861</td>\n",
       "      <td>0.352941</td>\n",
       "      <td>1.000000</td>\n",
       "      <td>0.000000</td>\n",
       "      <td>0.333333</td>\n",
       "      <td>0.0</td>\n",
       "    </tr>\n",
       "    <tr>\n",
       "      <td>746493</td>\n",
       "      <td>746494</td>\n",
       "      <td>864</td>\n",
       "      <td>862</td>\n",
       "      <td>0.307692</td>\n",
       "      <td>1.000000</td>\n",
       "      <td>0.000000</td>\n",
       "      <td>0.333333</td>\n",
       "      <td>0.0</td>\n",
       "    </tr>\n",
       "    <tr>\n",
       "      <td>746494</td>\n",
       "      <td>746495</td>\n",
       "      <td>864</td>\n",
       "      <td>863</td>\n",
       "      <td>0.538462</td>\n",
       "      <td>1.000000</td>\n",
       "      <td>0.000000</td>\n",
       "      <td>0.333333</td>\n",
       "      <td>0.0</td>\n",
       "    </tr>\n",
       "    <tr>\n",
       "      <td>746495</td>\n",
       "      <td>746496</td>\n",
       "      <td>864</td>\n",
       "      <td>864</td>\n",
       "      <td>1.000000</td>\n",
       "      <td>1.000000</td>\n",
       "      <td>1.000000</td>\n",
       "      <td>1.000000</td>\n",
       "      <td>1.0</td>\n",
       "    </tr>\n",
       "  </tbody>\n",
       "</table>\n",
       "<p>746496 rows × 8 columns</p>\n",
       "</div>"
      ],
      "text/plain": [
       "           _id  ltable.id  rtable.id  address_address_lev_sim  \\\n",
       "0            1          1          1                 1.000000   \n",
       "1            2          1          2                 0.954545   \n",
       "2            3          1          3                 0.333333   \n",
       "3            4          1          4                 0.333333   \n",
       "4            5          1          5                 0.285714   \n",
       "...        ...        ...        ...                      ...   \n",
       "746491  746492        864        860                 0.461538   \n",
       "746492  746493        864        861                 0.352941   \n",
       "746493  746494        864        862                 0.307692   \n",
       "746494  746495        864        863                 0.538462   \n",
       "746495  746496        864        864                 1.000000   \n",
       "\n",
       "        city_city_lev_sim  name_name_cos_dlm_dc0_dlm_dc0  \\\n",
       "0                1.000000                       1.000000   \n",
       "1                1.000000                       1.000000   \n",
       "2                0.000000                       0.258199   \n",
       "3                0.000000                       0.258199   \n",
       "4                0.181818                       0.000000   \n",
       "...                   ...                            ...   \n",
       "746491           1.000000                       0.000000   \n",
       "746492           1.000000                       0.000000   \n",
       "746493           1.000000                       0.000000   \n",
       "746494           1.000000                       0.000000   \n",
       "746495           1.000000                       1.000000   \n",
       "\n",
       "        phone_phone_cos_dlm_dc0_dlm_dc0  type_type_cos_dlm_dc0_dlm_dc0  \n",
       "0                              1.000000                            1.0  \n",
       "1                              1.000000                            0.0  \n",
       "2                              0.000000                            1.0  \n",
       "3                              0.000000                            0.0  \n",
       "4                              0.333333                            0.0  \n",
       "...                                 ...                            ...  \n",
       "746491                         0.333333                            0.0  \n",
       "746492                         0.333333                            0.0  \n",
       "746493                         0.333333                            0.0  \n",
       "746494                         0.333333                            0.0  \n",
       "746495                         1.000000                            1.0  \n",
       "\n",
       "[746496 rows x 8 columns]"
      ]
     },
     "execution_count": 40,
     "metadata": {},
     "output_type": "execute_result"
    }
   ],
   "source": [
    "import pickle\n",
    "\n",
    "dbfile = open('f_vec', 'rb')      \n",
    "S = pickle.load(dbfile) \n",
    "S"
   ]
  },
  {
   "cell_type": "code",
   "execution_count": 41,
   "metadata": {},
   "outputs": [],
   "source": [
    "import numpy as np\n",
    "S = S.to_numpy(dtype=np.longdouble)\n",
    "\n",
    "w_init  = (1 / S.shape[1] ) ** 2\n",
    "W = np.full((S.shape[0], S.shape[1]), w_init,dtype=np.longdouble)"
   ]
  },
  {
   "cell_type": "code",
   "execution_count": 44,
   "metadata": {},
   "outputs": [],
   "source": [
    "def derivative_loss_function(S,W,j,phi,tau):\n",
    "    partial_deriv = 0\n",
    "    for i in range(S.shape[0]):\n",
    "        num = 2 * S[j,:].dot(W[j,:]) * ( np.exp(phi * S[i,:].dot(W[i,:])) - np.exp(phi * (tau - S[i,:].dot(W[i,:]) )) )\n",
    "        denom = np.exp(phi * S[i,:].dot(W[i,:])) + np.exp(phi * (tau - S[i,:].dot(W[i,:])))\n",
    "        partial_deriv += num/denom\n",
    "    return partial_deriv\n",
    "\n",
    "def algorithm_gradient_descent(W,S,learning_rate,iterations):\n",
    "    for i in range(iterations):\n",
    "        W_new = np.zeros(W.shape) \n",
    "        sum_W_new = 0\n",
    "        for j in range(W.shape[0]):\n",
    "            W_new[j,:] = W[j,:] - learning_rate * derivative_loss_function(S,W,j,-50,1)\n",
    "            W_new[j,:] = W_new[j,:] / np.sum(W_new[j,:])\n",
    "        W = W_new\n",
    "        print(\"Iteration \" + str(i) + \"completed\")\n",
    "    return W"
   ]
  },
  {
   "cell_type": "code",
   "execution_count": 45,
   "metadata": {},
   "outputs": [
    {
     "name": "stderr",
     "output_type": "stream",
     "text": [
      "C:\\Users\\Sankalp Agrawal\\anaconda3\\envs\\em-env\\lib\\site-packages\\ipykernel_launcher.py:4: RuntimeWarning: overflow encountered in exp\n",
      "  after removing the cwd from sys.path.\n",
      "C:\\Users\\Sankalp Agrawal\\anaconda3\\envs\\em-env\\lib\\site-packages\\ipykernel_launcher.py:5: RuntimeWarning: overflow encountered in exp\n",
      "  \"\"\"\n",
      "C:\\Users\\Sankalp Agrawal\\anaconda3\\envs\\em-env\\lib\\site-packages\\ipykernel_launcher.py:6: RuntimeWarning: invalid value encountered in longdouble_scalars\n",
      "  \n",
      "C:\\Users\\Sankalp Agrawal\\anaconda3\\envs\\em-env\\lib\\site-packages\\ipykernel_launcher.py:4: RuntimeWarning: overflow encountered in longdouble_scalars\n",
      "  after removing the cwd from sys.path.\n"
     ]
    },
    {
     "ename": "KeyboardInterrupt",
     "evalue": "",
     "output_type": "error",
     "traceback": [
      "\u001b[1;31m---------------------------------------------------------------------------\u001b[0m",
      "\u001b[1;31mKeyboardInterrupt\u001b[0m                         Traceback (most recent call last)",
      "\u001b[1;32m<ipython-input-45-4c2df21a31d0>\u001b[0m in \u001b[0;36m<module>\u001b[1;34m\u001b[0m\n\u001b[1;32m----> 1\u001b[1;33m \u001b[0mprint\u001b[0m\u001b[1;33m(\u001b[0m\u001b[0malgorithm_gradient_descent\u001b[0m\u001b[1;33m(\u001b[0m\u001b[0mW\u001b[0m\u001b[1;33m,\u001b[0m\u001b[0mS\u001b[0m\u001b[1;33m,\u001b[0m\u001b[1;36m0.001\u001b[0m\u001b[1;33m,\u001b[0m\u001b[1;36m200\u001b[0m\u001b[1;33m)\u001b[0m\u001b[1;33m)\u001b[0m\u001b[1;33m\u001b[0m\u001b[1;33m\u001b[0m\u001b[0m\n\u001b[0m",
      "\u001b[1;32m<ipython-input-44-78aa02f1a44c>\u001b[0m in \u001b[0;36malgorithm_gradient_descent\u001b[1;34m(W, S, learning_rate, iterations)\u001b[0m\n\u001b[0;32m     12\u001b[0m         \u001b[0msum_W_new\u001b[0m \u001b[1;33m=\u001b[0m \u001b[1;36m0\u001b[0m\u001b[1;33m\u001b[0m\u001b[1;33m\u001b[0m\u001b[0m\n\u001b[0;32m     13\u001b[0m         \u001b[1;32mfor\u001b[0m \u001b[0mj\u001b[0m \u001b[1;32min\u001b[0m \u001b[0mrange\u001b[0m\u001b[1;33m(\u001b[0m\u001b[0mW\u001b[0m\u001b[1;33m.\u001b[0m\u001b[0mshape\u001b[0m\u001b[1;33m[\u001b[0m\u001b[1;36m0\u001b[0m\u001b[1;33m]\u001b[0m\u001b[1;33m)\u001b[0m\u001b[1;33m:\u001b[0m\u001b[1;33m\u001b[0m\u001b[1;33m\u001b[0m\u001b[0m\n\u001b[1;32m---> 14\u001b[1;33m             \u001b[0mW_new\u001b[0m\u001b[1;33m[\u001b[0m\u001b[0mj\u001b[0m\u001b[1;33m,\u001b[0m\u001b[1;33m:\u001b[0m\u001b[1;33m]\u001b[0m \u001b[1;33m=\u001b[0m \u001b[0mW\u001b[0m\u001b[1;33m[\u001b[0m\u001b[0mj\u001b[0m\u001b[1;33m,\u001b[0m\u001b[1;33m:\u001b[0m\u001b[1;33m]\u001b[0m \u001b[1;33m-\u001b[0m \u001b[0mlearning_rate\u001b[0m \u001b[1;33m*\u001b[0m \u001b[0mderivative_loss_function\u001b[0m\u001b[1;33m(\u001b[0m\u001b[0mS\u001b[0m\u001b[1;33m,\u001b[0m\u001b[0mW\u001b[0m\u001b[1;33m,\u001b[0m\u001b[0mj\u001b[0m\u001b[1;33m,\u001b[0m\u001b[1;33m-\u001b[0m\u001b[1;36m50\u001b[0m\u001b[1;33m,\u001b[0m\u001b[1;36m1\u001b[0m\u001b[1;33m)\u001b[0m\u001b[1;33m\u001b[0m\u001b[1;33m\u001b[0m\u001b[0m\n\u001b[0m\u001b[0;32m     15\u001b[0m             \u001b[0mW_new\u001b[0m\u001b[1;33m[\u001b[0m\u001b[0mj\u001b[0m\u001b[1;33m,\u001b[0m\u001b[1;33m:\u001b[0m\u001b[1;33m]\u001b[0m \u001b[1;33m=\u001b[0m \u001b[0mW_new\u001b[0m\u001b[1;33m[\u001b[0m\u001b[0mj\u001b[0m\u001b[1;33m,\u001b[0m\u001b[1;33m:\u001b[0m\u001b[1;33m]\u001b[0m \u001b[1;33m/\u001b[0m \u001b[0mnp\u001b[0m\u001b[1;33m.\u001b[0m\u001b[0msum\u001b[0m\u001b[1;33m(\u001b[0m\u001b[0mW_new\u001b[0m\u001b[1;33m[\u001b[0m\u001b[0mj\u001b[0m\u001b[1;33m,\u001b[0m\u001b[1;33m:\u001b[0m\u001b[1;33m]\u001b[0m\u001b[1;33m)\u001b[0m\u001b[1;33m\u001b[0m\u001b[1;33m\u001b[0m\u001b[0m\n\u001b[0;32m     16\u001b[0m         \u001b[0mW\u001b[0m \u001b[1;33m=\u001b[0m \u001b[0mW_new\u001b[0m\u001b[1;33m\u001b[0m\u001b[1;33m\u001b[0m\u001b[0m\n",
      "\u001b[1;32m<ipython-input-44-78aa02f1a44c>\u001b[0m in \u001b[0;36mderivative_loss_function\u001b[1;34m(S, W, j, phi, tau)\u001b[0m\n\u001b[0;32m      2\u001b[0m     \u001b[0mpartial_deriv\u001b[0m \u001b[1;33m=\u001b[0m \u001b[1;36m0\u001b[0m\u001b[1;33m\u001b[0m\u001b[1;33m\u001b[0m\u001b[0m\n\u001b[0;32m      3\u001b[0m     \u001b[1;32mfor\u001b[0m \u001b[0mi\u001b[0m \u001b[1;32min\u001b[0m \u001b[0mrange\u001b[0m\u001b[1;33m(\u001b[0m\u001b[0mS\u001b[0m\u001b[1;33m.\u001b[0m\u001b[0mshape\u001b[0m\u001b[1;33m[\u001b[0m\u001b[1;36m0\u001b[0m\u001b[1;33m]\u001b[0m\u001b[1;33m)\u001b[0m\u001b[1;33m:\u001b[0m\u001b[1;33m\u001b[0m\u001b[1;33m\u001b[0m\u001b[0m\n\u001b[1;32m----> 4\u001b[1;33m         \u001b[0mnum\u001b[0m \u001b[1;33m=\u001b[0m \u001b[1;36m2\u001b[0m \u001b[1;33m*\u001b[0m \u001b[0mS\u001b[0m\u001b[1;33m[\u001b[0m\u001b[0mj\u001b[0m\u001b[1;33m,\u001b[0m\u001b[1;33m:\u001b[0m\u001b[1;33m]\u001b[0m\u001b[1;33m.\u001b[0m\u001b[0mdot\u001b[0m\u001b[1;33m(\u001b[0m\u001b[0mW\u001b[0m\u001b[1;33m[\u001b[0m\u001b[0mj\u001b[0m\u001b[1;33m,\u001b[0m\u001b[1;33m:\u001b[0m\u001b[1;33m]\u001b[0m\u001b[1;33m)\u001b[0m \u001b[1;33m*\u001b[0m \u001b[1;33m(\u001b[0m \u001b[0mnp\u001b[0m\u001b[1;33m.\u001b[0m\u001b[0mexp\u001b[0m\u001b[1;33m(\u001b[0m\u001b[0mphi\u001b[0m \u001b[1;33m*\u001b[0m \u001b[0mS\u001b[0m\u001b[1;33m[\u001b[0m\u001b[0mi\u001b[0m\u001b[1;33m,\u001b[0m\u001b[1;33m:\u001b[0m\u001b[1;33m]\u001b[0m\u001b[1;33m.\u001b[0m\u001b[0mdot\u001b[0m\u001b[1;33m(\u001b[0m\u001b[0mW\u001b[0m\u001b[1;33m[\u001b[0m\u001b[0mi\u001b[0m\u001b[1;33m,\u001b[0m\u001b[1;33m:\u001b[0m\u001b[1;33m]\u001b[0m\u001b[1;33m)\u001b[0m\u001b[1;33m)\u001b[0m \u001b[1;33m-\u001b[0m \u001b[0mnp\u001b[0m\u001b[1;33m.\u001b[0m\u001b[0mexp\u001b[0m\u001b[1;33m(\u001b[0m\u001b[0mphi\u001b[0m \u001b[1;33m*\u001b[0m \u001b[1;33m(\u001b[0m\u001b[0mtau\u001b[0m \u001b[1;33m-\u001b[0m \u001b[0mS\u001b[0m\u001b[1;33m[\u001b[0m\u001b[0mi\u001b[0m\u001b[1;33m,\u001b[0m\u001b[1;33m:\u001b[0m\u001b[1;33m]\u001b[0m\u001b[1;33m.\u001b[0m\u001b[0mdot\u001b[0m\u001b[1;33m(\u001b[0m\u001b[0mW\u001b[0m\u001b[1;33m[\u001b[0m\u001b[0mi\u001b[0m\u001b[1;33m,\u001b[0m\u001b[1;33m:\u001b[0m\u001b[1;33m]\u001b[0m\u001b[1;33m)\u001b[0m \u001b[1;33m)\u001b[0m\u001b[1;33m)\u001b[0m \u001b[1;33m)\u001b[0m\u001b[1;33m\u001b[0m\u001b[1;33m\u001b[0m\u001b[0m\n\u001b[0m\u001b[0;32m      5\u001b[0m         \u001b[0mdenom\u001b[0m \u001b[1;33m=\u001b[0m \u001b[0mnp\u001b[0m\u001b[1;33m.\u001b[0m\u001b[0mexp\u001b[0m\u001b[1;33m(\u001b[0m\u001b[0mphi\u001b[0m \u001b[1;33m*\u001b[0m \u001b[0mS\u001b[0m\u001b[1;33m[\u001b[0m\u001b[0mi\u001b[0m\u001b[1;33m,\u001b[0m\u001b[1;33m:\u001b[0m\u001b[1;33m]\u001b[0m\u001b[1;33m.\u001b[0m\u001b[0mdot\u001b[0m\u001b[1;33m(\u001b[0m\u001b[0mW\u001b[0m\u001b[1;33m[\u001b[0m\u001b[0mi\u001b[0m\u001b[1;33m,\u001b[0m\u001b[1;33m:\u001b[0m\u001b[1;33m]\u001b[0m\u001b[1;33m)\u001b[0m\u001b[1;33m)\u001b[0m \u001b[1;33m+\u001b[0m \u001b[0mnp\u001b[0m\u001b[1;33m.\u001b[0m\u001b[0mexp\u001b[0m\u001b[1;33m(\u001b[0m\u001b[0mphi\u001b[0m \u001b[1;33m*\u001b[0m \u001b[1;33m(\u001b[0m\u001b[0mtau\u001b[0m \u001b[1;33m-\u001b[0m \u001b[0mS\u001b[0m\u001b[1;33m[\u001b[0m\u001b[0mi\u001b[0m\u001b[1;33m,\u001b[0m\u001b[1;33m:\u001b[0m\u001b[1;33m]\u001b[0m\u001b[1;33m.\u001b[0m\u001b[0mdot\u001b[0m\u001b[1;33m(\u001b[0m\u001b[0mW\u001b[0m\u001b[1;33m[\u001b[0m\u001b[0mi\u001b[0m\u001b[1;33m,\u001b[0m\u001b[1;33m:\u001b[0m\u001b[1;33m]\u001b[0m\u001b[1;33m)\u001b[0m\u001b[1;33m)\u001b[0m\u001b[1;33m)\u001b[0m\u001b[1;33m\u001b[0m\u001b[1;33m\u001b[0m\u001b[0m\n\u001b[0;32m      6\u001b[0m         \u001b[0mpartial_deriv\u001b[0m \u001b[1;33m+=\u001b[0m \u001b[0mnum\u001b[0m\u001b[1;33m/\u001b[0m\u001b[0mdenom\u001b[0m\u001b[1;33m\u001b[0m\u001b[1;33m\u001b[0m\u001b[0m\n",
      "\u001b[1;31mKeyboardInterrupt\u001b[0m: "
     ]
    }
   ],
   "source": [
    "print(algorithm_gradient_descent(W,S,0.001,200))"
   ]
  },
  {
   "cell_type": "code",
   "execution_count": 24,
   "metadata": {},
   "outputs": [
    {
     "data": {
      "text/plain": [
       "0.125"
      ]
     },
     "execution_count": 24,
     "metadata": {},
     "output_type": "execute_result"
    }
   ],
   "source": []
  }
 ],
 "metadata": {
  "kernelspec": {
   "display_name": "Python 3",
   "language": "python",
   "name": "python3"
  },
  "language_info": {
   "codemirror_mode": {
    "name": "ipython",
    "version": 3
   },
   "file_extension": ".py",
   "mimetype": "text/x-python",
   "name": "python",
   "nbconvert_exporter": "python",
   "pygments_lexer": "ipython3",
   "version": "3.6.12"
  }
 },
 "nbformat": 4,
 "nbformat_minor": 4
}
