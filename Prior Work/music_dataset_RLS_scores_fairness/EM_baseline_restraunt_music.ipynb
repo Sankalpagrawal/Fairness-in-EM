{
 "cells": [
  {
   "cell_type": "code",
   "execution_count": null,
   "metadata": {
    "id": "3-sIJFZTYLED"
   },
   "outputs": [],
   "source": [
    "!pip install py-entitymatching"
   ]
  },
  {
   "cell_type": "code",
   "execution_count": null,
   "metadata": {
    "colab": {
     "base_uri": "https://localhost:8080/"
    },
    "executionInfo": {
     "elapsed": 121776,
     "status": "ok",
     "timestamp": 1615060013686,
     "user": {
      "displayName": "Sankalp Agrawal",
      "photoUrl": "https://lh3.googleusercontent.com/a-/AOh14GhoVudkM9d_srs9J1hYsJzK7rmJZaslTwtk7WwIZQ=s64",
      "userId": "11271083903274706685"
     },
     "user_tz": -330
    },
    "id": "RCzAyqDiZ5-d",
    "outputId": "1e82c28f-59c9-4e0b-cced-79f3c0871c4c"
   },
   "outputs": [],
   "source": [
    "# https://hpi.de/naumann/projects/repeatability/datasets/restaurants-dataset.html\n",
    "# http://www.iesl.cs.umass.edu/datasets.html - CORA dataset\n",
    "# Importing the libraries\n",
    "import sys\n",
    "import py_entitymatching as em\n",
    "import pandas as pd\n",
    "import os\n",
    "import torch\n",
    "# from google.colab import drive\n",
    "# drive.mount('/content/gdrive')"
   ]
  },
  {
   "cell_type": "code",
   "execution_count": 4,
   "metadata": {
    "colab": {
     "base_uri": "https://localhost:8080/"
    },
    "executionInfo": {
     "elapsed": 113970,
     "status": "ok",
     "timestamp": 1615060013688,
     "user": {
      "displayName": "Sankalp Agrawal",
      "photoUrl": "https://lh3.googleusercontent.com/a-/AOh14GhoVudkM9d_srs9J1hYsJzK7rmJZaslTwtk7WwIZQ=s64",
      "userId": "11271083903274706685"
     },
     "user_tz": -330
    },
    "id": "iOTylBSTYLEQ",
    "outputId": "9c2c3145-7380-408a-ebf2-5aa8259e003b"
   },
   "outputs": [
    {
     "name": "stdout",
     "output_type": "stream",
     "text": [
      "python version: 3.7.4 (default, Aug  9 2019, 18:34:13) [MSC v.1915 64 bit (AMD64)]\n",
      "pandas version: 0.25.1\n",
      "magellan version: 0.3.3\n"
     ]
    }
   ],
   "source": [
    "# Display the versions\n",
    "print('python version: ' + sys.version )\n",
    "print('pandas version: ' + pd.__version__ )\n",
    "print('magellan version: ' + em.__version__ )"
   ]
  },
  {
   "cell_type": "code",
   "execution_count": 4,
   "metadata": {
    "colab": {
     "base_uri": "https://localhost:8080/"
    },
    "executionInfo": {
     "elapsed": 3597,
     "status": "ok",
     "timestamp": 1615060017314,
     "user": {
      "displayName": "Sankalp Agrawal",
      "photoUrl": "https://lh3.googleusercontent.com/a-/AOh14GhoVudkM9d_srs9J1hYsJzK7rmJZaslTwtk7WwIZQ=s64",
      "userId": "11271083903274706685"
     },
     "user_tz": -330
    },
    "id": "1vNlmQGBYLET",
    "outputId": "84e307d1-525c-4bfe-deec-6785ae348e2f"
   },
   "outputs": [
    {
     "name": "stderr",
     "output_type": "stream",
     "text": [
      "Metadata file is not present in the given path; proceeding to read the csv file.\n",
      "Metadata file is not present in the given path; proceeding to read the csv file.\n"
     ]
    }
   ],
   "source": [
    "# Load csv files as dataframes and set the key attribute in the dataframe\n",
    "path_A = \"/content/gdrive/My Drive/Colab Notebooks/BTP/music_data/music1.csv\"\n",
    "path_B = \"/content/gdrive/My Drive/Colab Notebooks/BTP/music_data/music2.csv\"\n",
    "A = em.read_csv_metadata(path_A, key='Sno')\n",
    "B = em.read_csv_metadata(path_B, key='Sno')"
   ]
  },
  {
   "cell_type": "code",
   "execution_count": 5,
   "metadata": {
    "colab": {
     "base_uri": "https://localhost:8080/"
    },
    "executionInfo": {
     "elapsed": 3580,
     "status": "ok",
     "timestamp": 1615060017316,
     "user": {
      "displayName": "Sankalp Agrawal",
      "photoUrl": "https://lh3.googleusercontent.com/a-/AOh14GhoVudkM9d_srs9J1hYsJzK7rmJZaslTwtk7WwIZQ=s64",
      "userId": "11271083903274706685"
     },
     "user_tz": -330
    },
    "id": "T8PTk0nYYLEV",
    "outputId": "a15fd505-1c5e-4644-ee82-9eba98ab5b33"
   },
   "outputs": [
    {
     "name": "stdout",
     "output_type": "stream",
     "text": [
      "Number of tuples in A: 6907\n",
      "Number of tuples in B: 21163\n",
      "Number of tuples in A X B (i.e the cartesian product): 146172841\n"
     ]
    }
   ],
   "source": [
    "# Display number of tuples in the datasets\n",
    "print('Number of tuples in A: ' + str(len(A)))\n",
    "print('Number of tuples in B: ' + str(len(B)))\n",
    "print('Number of tuples in A X B (i.e the cartesian product): ' + str(len(A)*len(B)))"
   ]
  },
  {
   "cell_type": "code",
   "execution_count": 6,
   "metadata": {
    "colab": {
     "base_uri": "https://localhost:8080/",
     "height": 318
    },
    "executionInfo": {
     "elapsed": 3562,
     "status": "ok",
     "timestamp": 1615060017318,
     "user": {
      "displayName": "Sankalp Agrawal",
      "photoUrl": "https://lh3.googleusercontent.com/a-/AOh14GhoVudkM9d_srs9J1hYsJzK7rmJZaslTwtk7WwIZQ=s64",
      "userId": "11271083903274706685"
     },
     "user_tz": -330
    },
    "id": "eqIZ8IwkYLEX",
    "outputId": "2dcdfc36-eb9a-4313-cce7-b2ca68acb7f8"
   },
   "outputs": [
    {
     "data": {
      "text/html": [
       "<div>\n",
       "<style scoped>\n",
       "    .dataframe tbody tr th:only-of-type {\n",
       "        vertical-align: middle;\n",
       "    }\n",
       "\n",
       "    .dataframe tbody tr th {\n",
       "        vertical-align: top;\n",
       "    }\n",
       "\n",
       "    .dataframe thead th {\n",
       "        text-align: right;\n",
       "    }\n",
       "</style>\n",
       "<table border=\"1\" class=\"dataframe\">\n",
       "  <thead>\n",
       "    <tr style=\"text-align: right;\">\n",
       "      <th></th>\n",
       "      <th>Sno</th>\n",
       "      <th>Album_Name</th>\n",
       "      <th>Album_Price</th>\n",
       "      <th>Artist_Name</th>\n",
       "      <th>CopyRight</th>\n",
       "      <th>Customer_Rating</th>\n",
       "      <th>Genre</th>\n",
       "      <th>Price</th>\n",
       "      <th>Released</th>\n",
       "      <th>Song_Name</th>\n",
       "      <th>Time</th>\n",
       "      <th>Group</th>\n",
       "    </tr>\n",
       "  </thead>\n",
       "  <tbody>\n",
       "    <tr>\n",
       "      <th>0</th>\n",
       "      <td>1</td>\n",
       "      <td>Welcome to Cam Country - EP</td>\n",
       "      <td>$4.26</td>\n",
       "      <td>Cam</td>\n",
       "      <td>2015 Sony Music Entertainment</td>\n",
       "      <td>4.72396</td>\n",
       "      <td>Country,Music,Contemporary Country,Honky Tonk</td>\n",
       "      <td>$0.99</td>\n",
       "      <td>31-Mar-15</td>\n",
       "      <td>Runaway Train</td>\n",
       "      <td>3:01</td>\n",
       "      <td>Country</td>\n",
       "    </tr>\n",
       "    <tr>\n",
       "      <th>1</th>\n",
       "      <td>2</td>\n",
       "      <td>Me 4 U</td>\n",
       "      <td>$9.99</td>\n",
       "      <td>Omi</td>\n",
       "      <td>2015 Ultra Records, LLC under exclusive license to Columbia Records, a Division of Sony Music E...</td>\n",
       "      <td>3.38158</td>\n",
       "      <td>Pop/Rock,Music,Pop,Dance,R&amp;B/Soul</td>\n",
       "      <td>Album Only</td>\n",
       "      <td>NaN</td>\n",
       "      <td>Track 14</td>\n",
       "      <td>3:41</td>\n",
       "      <td>Pop</td>\n",
       "    </tr>\n",
       "  </tbody>\n",
       "</table>\n",
       "</div>"
      ],
      "text/plain": [
       "   Sno                   Album_Name Album_Price  ...      Song_Name  Time    Group\n",
       "0    1  Welcome to Cam Country - EP      $4.26   ...  Runaway Train  3:01  Country\n",
       "1    2                       Me 4 U      $9.99   ...       Track 14  3:41      Pop\n",
       "\n",
       "[2 rows x 12 columns]"
      ]
     },
     "execution_count": 6,
     "metadata": {
      "tags": []
     },
     "output_type": "execute_result"
    }
   ],
   "source": [
    "# Displaying first two entries from the first music dataset\n",
    "A.head(2)"
   ]
  },
  {
   "cell_type": "code",
   "execution_count": 7,
   "metadata": {
    "colab": {
     "base_uri": "https://localhost:8080/",
     "height": 145
    },
    "executionInfo": {
     "elapsed": 4766,
     "status": "ok",
     "timestamp": 1615060018542,
     "user": {
      "displayName": "Sankalp Agrawal",
      "photoUrl": "https://lh3.googleusercontent.com/a-/AOh14GhoVudkM9d_srs9J1hYsJzK7rmJZaslTwtk7WwIZQ=s64",
      "userId": "11271083903274706685"
     },
     "user_tz": -330
    },
    "id": "56YGtSmVYLEY",
    "outputId": "aaa50f4e-9cc7-40c4-a0e2-8823b0cd2b8d"
   },
   "outputs": [
    {
     "data": {
      "text/html": [
       "<div>\n",
       "<style scoped>\n",
       "    .dataframe tbody tr th:only-of-type {\n",
       "        vertical-align: middle;\n",
       "    }\n",
       "\n",
       "    .dataframe tbody tr th {\n",
       "        vertical-align: top;\n",
       "    }\n",
       "\n",
       "    .dataframe thead th {\n",
       "        text-align: right;\n",
       "    }\n",
       "</style>\n",
       "<table border=\"1\" class=\"dataframe\">\n",
       "  <thead>\n",
       "    <tr style=\"text-align: right;\">\n",
       "      <th></th>\n",
       "      <th>Sno</th>\n",
       "      <th>Album_Name</th>\n",
       "      <th>Artist_Name</th>\n",
       "      <th>Song_Name</th>\n",
       "      <th>Price</th>\n",
       "      <th>Time</th>\n",
       "      <th>Released</th>\n",
       "      <th>Label</th>\n",
       "      <th>Copyright</th>\n",
       "      <th>Genre</th>\n",
       "      <th>Group</th>\n",
       "    </tr>\n",
       "  </thead>\n",
       "  <tbody>\n",
       "    <tr>\n",
       "      <th>0</th>\n",
       "      <td>1</td>\n",
       "      <td>! (Volume 2) [Explicit]</td>\n",
       "      <td>Rusko</td>\n",
       "      <td>Saxophone Stomp [Explicit]</td>\n",
       "      <td>$1.29</td>\n",
       "      <td>3:20</td>\n",
       "      <td>September 16, 2014</td>\n",
       "      <td>Decca International</td>\n",
       "      <td>(C) 2014 FMLY Under Exclusive License To Universal Music Canada Inc.</td>\n",
       "      <td>Dance &amp; Electronic,Dubstep</td>\n",
       "      <td>Dance</td>\n",
       "    </tr>\n",
       "    <tr>\n",
       "      <th>1</th>\n",
       "      <td>2</td>\n",
       "      <td>! (Volume 2) [Explicit]</td>\n",
       "      <td>Rusko</td>\n",
       "      <td>I Wanna Mingle [feat. Pusher]</td>\n",
       "      <td>$1.29</td>\n",
       "      <td>2:36</td>\n",
       "      <td>September 16, 2014</td>\n",
       "      <td>Decca International</td>\n",
       "      <td>(C) 2014 FMLY Under Exclusive License To Universal Music Canada Inc.</td>\n",
       "      <td>Dance &amp; Electronic,Dubstep</td>\n",
       "      <td>Dance</td>\n",
       "    </tr>\n",
       "  </tbody>\n",
       "</table>\n",
       "</div>"
      ],
      "text/plain": [
       "   Sno               Album_Name  ...                       Genre  Group\n",
       "0    1  ! (Volume 2) [Explicit]  ...  Dance & Electronic,Dubstep  Dance\n",
       "1    2  ! (Volume 2) [Explicit]  ...  Dance & Electronic,Dubstep  Dance\n",
       "\n",
       "[2 rows x 11 columns]"
      ]
     },
     "execution_count": 7,
     "metadata": {
      "tags": []
     },
     "output_type": "execute_result"
    }
   ],
   "source": [
    "# Displaying first two entries from the second music dataset\n",
    "B.head(2)"
   ]
  },
  {
   "cell_type": "markdown",
   "metadata": {
    "id": "8BrOGd4Ar-qD"
   },
   "source": [
    "**Downsampling**"
   ]
  },
  {
   "cell_type": "code",
   "execution_count": null,
   "metadata": {
    "colab": {
     "base_uri": "https://localhost:8080/"
    },
    "executionInfo": {
     "elapsed": 28539,
     "status": "ok",
     "timestamp": 1614955852877,
     "user": {
      "displayName": "Sankalp Agrawal",
      "photoUrl": "https://lh3.googleusercontent.com/a-/AOh14GhoVudkM9d_srs9J1hYsJzK7rmJZaslTwtk7WwIZQ=s64",
      "userId": "11271083903274706685"
     },
     "user_tz": -330
    },
    "id": "lMQYjL1hYLEa",
    "outputId": "bdac8033-679b-4d35-96a1-bee32ce3b57d"
   },
   "outputs": [
    {
     "name": "stdout",
     "output_type": "stream",
     "text": [
      "Sno Sno\n",
      "Lengths after downsampling-\n",
      "1245 5000\n"
     ]
    }
   ],
   "source": [
    "# Display the keys of the input tables\n",
    "print(em.get_key(A), em.get_key(B))\n",
    "# If the tables are large we can downsample the tables like this\n",
    "A1, B1 = em.down_sample(A, B, 5000, 1, show_progress=False)\n",
    "print(\"Lengths after downsampling-\")\n",
    "print(len(A1), len(B1))"
   ]
  },
  {
   "cell_type": "markdown",
   "metadata": {
    "id": "DhVZc5kpsPII"
   },
   "source": [
    "**Blocking**"
   ]
  },
  {
   "cell_type": "code",
   "execution_count": null,
   "metadata": {
    "colab": {
     "base_uri": "https://localhost:8080/"
    },
    "executionInfo": {
     "elapsed": 57725,
     "status": "ok",
     "timestamp": 1614955882084,
     "user": {
      "displayName": "Sankalp Agrawal",
      "photoUrl": "https://lh3.googleusercontent.com/a-/AOh14GhoVudkM9d_srs9J1hYsJzK7rmJZaslTwtk7WwIZQ=s64",
      "userId": "11271083903274706685"
     },
     "user_tz": -330
    },
    "id": "MdFFeWAvsDzx",
    "outputId": "562239b2-36b2-4b99-bf2e-5221c45b55d7"
   },
   "outputs": [
    {
     "name": "stderr",
     "output_type": "stream",
     "text": [
      "/usr/local/lib/python3.7/dist-packages/py_entitymatching/blocker/overlap_blocker.py:258: SettingWithCopyWarning: \n",
      "A value is trying to be set on a copy of a slice from a DataFrame.\n",
      "Try using .loc[row_indexer,col_indexer] = value instead\n",
      "\n",
      "See the caveats in the documentation: https://pandas.pydata.org/pandas-docs/stable/user_guide/indexing.html#returning-a-view-versus-a-copy\n",
      "  l_df[l_dummy_overlap_attr] = l_df[l_overlap_attr]\n",
      "/usr/local/lib/python3.7/dist-packages/py_entitymatching/blocker/overlap_blocker.py:615: SettingWithCopyWarning: \n",
      "A value is trying to be set on a copy of a slice from a DataFrame.\n",
      "Try using .loc[row_indexer,col_indexer] = value instead\n",
      "\n",
      "See the caveats in the documentation: https://pandas.pydata.org/pandas-docs/stable/user_guide/indexing.html#returning-a-view-versus-a-copy\n",
      "  table[overlap_attr] = values\n",
      "0% [##############################] 100% | ETA: 00:00:00\n",
      "Total time elapsed: 00:00:19\n"
     ]
    }
   ],
   "source": [
    "# # Create attribute equivalence blocker\n",
    "# ab = em.AttrEquivalenceBlocker()\n",
    "\n",
    "# # Block using artist_name attribute\n",
    "# C = ab.block_tables(A1, B1, \"Artist_Name\",\"Artist_Name\",\n",
    "#                     l_output_attrs=[\"Sno\", \"Album_Name\", \"Artist_Name\", \"CopyRight\", \"Released\", \"Song_Name\" ,\"Time\"], \n",
    "#                     r_output_attrs=[\"Sno\", \"Album_Name\", \"Artist_Name\", \"Copyright\", \"Released\", \"Song_Name\", \"Time\"]\n",
    "#                     )\n",
    "\n",
    "\n",
    "# Overlap based blocker, which blocks on the basis of overlap of some qgram between two strings\n",
    "ob = em.OverlapBlocker()\n",
    "C = ob.block_tables(A, B, \"Album_Name\", \"Album_Name\", overlap_size=2, \n",
    "                    l_output_attrs=[\"Sno\", \"Album_Name\", \"Artist_Name\",\"Genre\",\"Song_Name\",\"CopyRight\", \"Released\", \"Price\" ,\"Time\"], \n",
    "                    r_output_attrs=[\"Sno\", \"Album_Name\", \"Artist_Name\",\"Genre\",\"Song_Name\",\"Copyright\", \"Released\", \"Price\" ,\"Time\"]\n",
    "                    )\n",
    "\n",
    "\n",
    "# Rule based blocker, which blocks on the basis of a rule\n",
    "# rb = em.RuleBasedBlocker()\n",
    "# block_f = em.get_features_for_blocking(A, B,validate_inferred_attr_types=False)\n",
    "# # Add more rules\n",
    "# rule1 = [\"Album_Name_Album_Name_lev_sim(ltuple, rtuple) > 0.8\"]\n",
    "# rule2 = [\"Song_Name_Song_Name_lev_sim(ltuple, rtuple) > 0.8\"]\n",
    "\n",
    "# rb.add_rule(rule1, block_f)\n",
    "# rb.add_rule(rule2, block_f)\n",
    "\n",
    "# C = rb.block_tables(A, B, \n",
    "#                     l_output_attrs=[\"Sno\", \"Album_Name\", \"Artist_Name\",\"Genre\",\"Song_Name\",\"CopyRight\", \"Released\", \"Price\" ,\"Time\"], \n",
    "#                     r_output_attrs=[\"Sno\", \"Album_Name\", \"Artist_Name\",\"Genre\",\"Song_Name\",\"Copyright\", \"Released\", \"Price\" ,\"Time\"]\n",
    "#                     )"
   ]
  },
  {
   "cell_type": "code",
   "execution_count": null,
   "metadata": {
    "colab": {
     "base_uri": "https://localhost:8080/"
    },
    "executionInfo": {
     "elapsed": 57719,
     "status": "ok",
     "timestamp": 1614955882085,
     "user": {
      "displayName": "Sankalp Agrawal",
      "photoUrl": "https://lh3.googleusercontent.com/a-/AOh14GhoVudkM9d_srs9J1hYsJzK7rmJZaslTwtk7WwIZQ=s64",
      "userId": "11271083903274706685"
     },
     "user_tz": -330
    },
    "id": "MdwQArF6sb50",
    "outputId": "18a4d855-e711-407f-b170-a284c010abf0"
   },
   "outputs": [
    {
     "name": "stdout",
     "output_type": "stream",
     "text": [
      "3042443\n",
      "   _id  ltable_Sno  rtable_Sno  ...      rtable_Released rtable_Price rtable_Time\n",
      "0    0        3996           1  ...   September 16, 2014        $1.29        3:20\n",
      "1    1        3996           2  ...   September 16, 2014        $1.29        2:36\n",
      "\n",
      "[2 rows x 19 columns]\n"
     ]
    }
   ],
   "source": [
    "# Printing length of candidate set\n",
    "print(len(C))\n",
    "print(C.head(2))"
   ]
  },
  {
   "cell_type": "code",
   "execution_count": null,
   "metadata": {
    "colab": {
     "base_uri": "https://localhost:8080/",
     "height": 269
    },
    "executionInfo": {
     "elapsed": 848,
     "status": "ok",
     "timestamp": 1614955924440,
     "user": {
      "displayName": "Sankalp Agrawal",
      "photoUrl": "https://lh3.googleusercontent.com/a-/AOh14GhoVudkM9d_srs9J1hYsJzK7rmJZaslTwtk7WwIZQ=s64",
      "userId": "11271083903274706685"
     },
     "user_tz": -330
    },
    "id": "WTiYnN2-35Tc",
    "outputId": "3fe07855-ad6c-4400-f5a2-e996c1f501b9"
   },
   "outputs": [
    {
     "data": {
      "text/html": [
       "<div>\n",
       "<style scoped>\n",
       "    .dataframe tbody tr th:only-of-type {\n",
       "        vertical-align: middle;\n",
       "    }\n",
       "\n",
       "    .dataframe tbody tr th {\n",
       "        vertical-align: top;\n",
       "    }\n",
       "\n",
       "    .dataframe thead th {\n",
       "        text-align: right;\n",
       "    }\n",
       "</style>\n",
       "<table border=\"1\" class=\"dataframe\">\n",
       "  <thead>\n",
       "    <tr style=\"text-align: right;\">\n",
       "      <th></th>\n",
       "      <th>_id</th>\n",
       "      <th>ltable_Sno</th>\n",
       "      <th>rtable_Sno</th>\n",
       "      <th>ltable_Album_Name</th>\n",
       "      <th>ltable_Artist_Name</th>\n",
       "      <th>ltable_Genre</th>\n",
       "      <th>ltable_Song_Name</th>\n",
       "      <th>ltable_CopyRight</th>\n",
       "      <th>ltable_Released</th>\n",
       "      <th>ltable_Price</th>\n",
       "      <th>ltable_Time</th>\n",
       "      <th>rtable_Album_Name</th>\n",
       "      <th>rtable_Artist_Name</th>\n",
       "      <th>rtable_Genre</th>\n",
       "      <th>rtable_Song_Name</th>\n",
       "      <th>rtable_Copyright</th>\n",
       "      <th>rtable_Released</th>\n",
       "      <th>rtable_Price</th>\n",
       "      <th>rtable_Time</th>\n",
       "    </tr>\n",
       "  </thead>\n",
       "  <tbody>\n",
       "    <tr>\n",
       "      <th>0</th>\n",
       "      <td>0</td>\n",
       "      <td>3996</td>\n",
       "      <td>1</td>\n",
       "      <td>A Rock By The Sea Christmas :: Volume 2</td>\n",
       "      <td>Brian Fechino</td>\n",
       "      <td>Holiday,Music,Rock</td>\n",
       "      <td>Rudolph Blue</td>\n",
       "      <td>2011 Hubbub!</td>\n",
       "      <td>8-Nov-11</td>\n",
       "      <td>$0.99</td>\n",
       "      <td>1:57</td>\n",
       "      <td>! (Volume 2) [Explicit]</td>\n",
       "      <td>Rusko</td>\n",
       "      <td>Dance &amp; Electronic,Dubstep</td>\n",
       "      <td>Saxophone Stomp [Explicit]</td>\n",
       "      <td>(C) 2014 FMLY Under Exclusive License To Universal Music Canada Inc.</td>\n",
       "      <td>September 16, 2014</td>\n",
       "      <td>$1.29</td>\n",
       "      <td>3:20</td>\n",
       "    </tr>\n",
       "    <tr>\n",
       "      <th>1</th>\n",
       "      <td>1</td>\n",
       "      <td>3996</td>\n",
       "      <td>2</td>\n",
       "      <td>A Rock By The Sea Christmas :: Volume 2</td>\n",
       "      <td>Brian Fechino</td>\n",
       "      <td>Holiday,Music,Rock</td>\n",
       "      <td>Rudolph Blue</td>\n",
       "      <td>2011 Hubbub!</td>\n",
       "      <td>8-Nov-11</td>\n",
       "      <td>$0.99</td>\n",
       "      <td>1:57</td>\n",
       "      <td>! (Volume 2) [Explicit]</td>\n",
       "      <td>Rusko</td>\n",
       "      <td>Dance &amp; Electronic,Dubstep</td>\n",
       "      <td>I Wanna Mingle [feat. Pusher]</td>\n",
       "      <td>(C) 2014 FMLY Under Exclusive License To Universal Music Canada Inc.</td>\n",
       "      <td>September 16, 2014</td>\n",
       "      <td>$1.29</td>\n",
       "      <td>2:36</td>\n",
       "    </tr>\n",
       "  </tbody>\n",
       "</table>\n",
       "</div>"
      ],
      "text/plain": [
       "   _id  ltable_Sno  rtable_Sno  ...      rtable_Released rtable_Price rtable_Time\n",
       "0    0        3996           1  ...   September 16, 2014        $1.29        3:20\n",
       "1    1        3996           2  ...   September 16, 2014        $1.29        2:36\n",
       "\n",
       "[2 rows x 19 columns]"
      ]
     },
     "execution_count": 14,
     "metadata": {
      "tags": []
     },
     "output_type": "execute_result"
    }
   ],
   "source": [
    "C.head(2)"
   ]
  },
  {
   "cell_type": "code",
   "execution_count": null,
   "metadata": {
    "colab": {
     "base_uri": "https://localhost:8080/"
    },
    "executionInfo": {
     "elapsed": 46655,
     "status": "ok",
     "timestamp": 1614956257843,
     "user": {
      "displayName": "Sankalp Agrawal",
      "photoUrl": "https://lh3.googleusercontent.com/a-/AOh14GhoVudkM9d_srs9J1hYsJzK7rmJZaslTwtk7WwIZQ=s64",
      "userId": "11271083903274706685"
     },
     "user_tz": -330
    },
    "id": "1KSGWU-A3GpT",
    "outputId": "f6f67122-66e5-47ee-e958-59ec57f6ac09"
   },
   "outputs": [
    {
     "name": "stderr",
     "output_type": "stream",
     "text": [
      "/usr/local/lib/python3.7/dist-packages/py_entitymatching/blocker/overlap_blocker.py:615: SettingWithCopyWarning: \n",
      "A value is trying to be set on a copy of a slice from a DataFrame.\n",
      "Try using .loc[row_indexer,col_indexer] = value instead\n",
      "\n",
      "See the caveats in the documentation: https://pandas.pydata.org/pandas-docs/stable/user_guide/indexing.html#returning-a-view-versus-a-copy\n",
      "  table[overlap_attr] = values\n",
      "0% [##############################] 100% | ETA: 00:00:00\n",
      "Total time elapsed: 00:00:44\n"
     ]
    }
   ],
   "source": [
    "# Overlap based blocker, which blocks on the basis of overlap of some qgram between two strings\n",
    "C = ob.block_candset(C,\"Song_Name\", \"Song_Name\",overlap_size=2)"
   ]
  },
  {
   "cell_type": "code",
   "execution_count": null,
   "metadata": {
    "colab": {
     "base_uri": "https://localhost:8080/"
    },
    "executionInfo": {
     "elapsed": 35824,
     "status": "ok",
     "timestamp": 1614956258521,
     "user": {
      "displayName": "Sankalp Agrawal",
      "photoUrl": "https://lh3.googleusercontent.com/a-/AOh14GhoVudkM9d_srs9J1hYsJzK7rmJZaslTwtk7WwIZQ=s64",
      "userId": "11271083903274706685"
     },
     "user_tz": -330
    },
    "id": "4yTcPDu-3alj",
    "outputId": "d9fbf935-7ba3-4481-b9fc-b7296adc8f72"
   },
   "outputs": [
    {
     "name": "stdout",
     "output_type": "stream",
     "text": [
      "63246\n",
      "    _id  ltable_Sno  rtable_Sno  ... rtable_Released rtable_Price rtable_Time\n",
      "9     9         726          28  ...   July 30, 2012        $0.99        8:49\n",
      "10   10         727          28  ...   July 30, 2012        $0.99        8:49\n",
      "\n",
      "[2 rows x 19 columns]\n"
     ]
    }
   ],
   "source": [
    "# Printing length of candidate set\n",
    "print(len(C))\n",
    "print(C.head(2))"
   ]
  },
  {
   "cell_type": "code",
   "execution_count": null,
   "metadata": {
    "colab": {
     "base_uri": "https://localhost:8080/",
     "height": 234
    },
    "executionInfo": {
     "elapsed": 30002,
     "status": "ok",
     "timestamp": 1614956258524,
     "user": {
      "displayName": "Sankalp Agrawal",
      "photoUrl": "https://lh3.googleusercontent.com/a-/AOh14GhoVudkM9d_srs9J1hYsJzK7rmJZaslTwtk7WwIZQ=s64",
      "userId": "11271083903274706685"
     },
     "user_tz": -330
    },
    "id": "SlJ0Qphb5Ggi",
    "outputId": "99038a18-b446-4533-d5e5-38d19b57e5a2"
   },
   "outputs": [
    {
     "data": {
      "text/html": [
       "<div>\n",
       "<style scoped>\n",
       "    .dataframe tbody tr th:only-of-type {\n",
       "        vertical-align: middle;\n",
       "    }\n",
       "\n",
       "    .dataframe tbody tr th {\n",
       "        vertical-align: top;\n",
       "    }\n",
       "\n",
       "    .dataframe thead th {\n",
       "        text-align: right;\n",
       "    }\n",
       "</style>\n",
       "<table border=\"1\" class=\"dataframe\">\n",
       "  <thead>\n",
       "    <tr style=\"text-align: right;\">\n",
       "      <th></th>\n",
       "      <th>_id</th>\n",
       "      <th>ltable_Sno</th>\n",
       "      <th>rtable_Sno</th>\n",
       "      <th>ltable_Album_Name</th>\n",
       "      <th>ltable_Artist_Name</th>\n",
       "      <th>ltable_Genre</th>\n",
       "      <th>ltable_Song_Name</th>\n",
       "      <th>ltable_CopyRight</th>\n",
       "      <th>ltable_Released</th>\n",
       "      <th>ltable_Price</th>\n",
       "      <th>ltable_Time</th>\n",
       "      <th>rtable_Album_Name</th>\n",
       "      <th>rtable_Artist_Name</th>\n",
       "      <th>rtable_Genre</th>\n",
       "      <th>rtable_Song_Name</th>\n",
       "      <th>rtable_Copyright</th>\n",
       "      <th>rtable_Released</th>\n",
       "      <th>rtable_Price</th>\n",
       "      <th>rtable_Time</th>\n",
       "    </tr>\n",
       "  </thead>\n",
       "  <tbody>\n",
       "    <tr>\n",
       "      <th>9</th>\n",
       "      <td>9</td>\n",
       "      <td>726</td>\n",
       "      <td>28</td>\n",
       "      <td>A Little Less 16 Candles, a Little More \"Touch Me\" - Single</td>\n",
       "      <td>Fall Out Boy</td>\n",
       "      <td>Alternative,Music,Rock,Punk</td>\n",
       "      <td>A Little Less 16 Candles, a Little More \"Touch Me\"</td>\n",
       "      <td>2006 The Island Def Jam Music Group</td>\n",
       "      <td>20-Jun-06</td>\n",
       "      <td>$1.99</td>\n",
       "      <td>6:44</td>\n",
       "      <td>Notice Me\" 2012 - Little Carlos Retro Mix\"</td>\n",
       "      <td>Matthias Heilbronn, Sandee</td>\n",
       "      <td>Electronica,Dance &amp; Electronic,House</td>\n",
       "      <td>Notice Me (Little Carlos Retro Mix)</td>\n",
       "      <td>2012 InHouse Records</td>\n",
       "      <td>July 30, 2012</td>\n",
       "      <td>$0.99</td>\n",
       "      <td>8:49</td>\n",
       "    </tr>\n",
       "    <tr>\n",
       "      <th>10</th>\n",
       "      <td>10</td>\n",
       "      <td>727</td>\n",
       "      <td>28</td>\n",
       "      <td>A Little Less 16 Candles, a Little More \"Touch Me\" - Single</td>\n",
       "      <td>Fall Out Boy</td>\n",
       "      <td>Alternative,Music,Rock,Punk</td>\n",
       "      <td>A Little Less Sixteen Candles, a Little More \"Touch Me\"</td>\n",
       "      <td>2006 The Island Def Jam Music Group</td>\n",
       "      <td>20-Jun-06</td>\n",
       "      <td>$1.29</td>\n",
       "      <td>2:49</td>\n",
       "      <td>Notice Me\" 2012 - Little Carlos Retro Mix\"</td>\n",
       "      <td>Matthias Heilbronn, Sandee</td>\n",
       "      <td>Electronica,Dance &amp; Electronic,House</td>\n",
       "      <td>Notice Me (Little Carlos Retro Mix)</td>\n",
       "      <td>2012 InHouse Records</td>\n",
       "      <td>July 30, 2012</td>\n",
       "      <td>$0.99</td>\n",
       "      <td>8:49</td>\n",
       "    </tr>\n",
       "  </tbody>\n",
       "</table>\n",
       "</div>"
      ],
      "text/plain": [
       "    _id  ltable_Sno  rtable_Sno  ... rtable_Released rtable_Price rtable_Time\n",
       "9     9         726          28  ...   July 30, 2012        $0.99        8:49\n",
       "10   10         727          28  ...   July 30, 2012        $0.99        8:49\n",
       "\n",
       "[2 rows x 19 columns]"
      ]
     },
     "execution_count": 19,
     "metadata": {
      "tags": []
     },
     "output_type": "execute_result"
    }
   ],
   "source": [
    "C.head(2)"
   ]
  },
  {
   "cell_type": "code",
   "execution_count": null,
   "metadata": {
    "colab": {
     "base_uri": "https://localhost:8080/"
    },
    "executionInfo": {
     "elapsed": 2463,
     "status": "ok",
     "timestamp": 1614956372625,
     "user": {
      "displayName": "Sankalp Agrawal",
      "photoUrl": "https://lh3.googleusercontent.com/a-/AOh14GhoVudkM9d_srs9J1hYsJzK7rmJZaslTwtk7WwIZQ=s64",
      "userId": "11271083903274706685"
     },
     "user_tz": -330
    },
    "id": "1LjFBJP25pEr",
    "outputId": "9b0a66a9-3d78-4e5b-c82d-52ea10c6a8ef"
   },
   "outputs": [
    {
     "name": "stderr",
     "output_type": "stream",
     "text": [
      "/usr/local/lib/python3.7/dist-packages/py_entitymatching/blocker/overlap_blocker.py:615: SettingWithCopyWarning: \n",
      "A value is trying to be set on a copy of a slice from a DataFrame.\n",
      "Try using .loc[row_indexer,col_indexer] = value instead\n",
      "\n",
      "See the caveats in the documentation: https://pandas.pydata.org/pandas-docs/stable/user_guide/indexing.html#returning-a-view-versus-a-copy\n",
      "  table[overlap_attr] = values\n",
      "0% [##############################] 100% | ETA: 00:00:00\n",
      "Total time elapsed: 00:00:01\n"
     ]
    }
   ],
   "source": [
    "C = ob.block_candset(C, 'CopyRight', 'Copyright',overlap_size=2)"
   ]
  },
  {
   "cell_type": "code",
   "execution_count": null,
   "metadata": {
    "colab": {
     "base_uri": "https://localhost:8080/"
    },
    "executionInfo": {
     "elapsed": 769,
     "status": "ok",
     "timestamp": 1614956385285,
     "user": {
      "displayName": "Sankalp Agrawal",
      "photoUrl": "https://lh3.googleusercontent.com/a-/AOh14GhoVudkM9d_srs9J1hYsJzK7rmJZaslTwtk7WwIZQ=s64",
      "userId": "11271083903274706685"
     },
     "user_tz": -330
    },
    "id": "k4jExl2N5sqs",
    "outputId": "e0db055b-372c-4acb-bafb-95dc9a5fcd57"
   },
   "outputs": [
    {
     "name": "stdout",
     "output_type": "stream",
     "text": [
      "12829\n",
      "       _id  ltable_Sno  rtable_Sno  ...  rtable_Released rtable_Price rtable_Time\n",
      "3173  3173        2584         229  ...   March 20, 2014        $1.29        3:03\n",
      "3210  3210        2004         230  ...    June 17, 2014        $1.29        3:52\n",
      "\n",
      "[2 rows x 19 columns]\n"
     ]
    }
   ],
   "source": [
    "# Printing length of candidate set\n",
    "print(len(C))\n",
    "print(C.head(2))"
   ]
  },
  {
   "cell_type": "code",
   "execution_count": null,
   "metadata": {
    "colab": {
     "base_uri": "https://localhost:8080/",
     "height": 303
    },
    "executionInfo": {
     "elapsed": 871,
     "status": "ok",
     "timestamp": 1614956404536,
     "user": {
      "displayName": "Sankalp Agrawal",
      "photoUrl": "https://lh3.googleusercontent.com/a-/AOh14GhoVudkM9d_srs9J1hYsJzK7rmJZaslTwtk7WwIZQ=s64",
      "userId": "11271083903274706685"
     },
     "user_tz": -330
    },
    "id": "IKBaQjVx5wjh",
    "outputId": "b8a91fb0-ca6e-4afc-f5ea-b0f3da396c2f"
   },
   "outputs": [
    {
     "data": {
      "text/html": [
       "<div>\n",
       "<style scoped>\n",
       "    .dataframe tbody tr th:only-of-type {\n",
       "        vertical-align: middle;\n",
       "    }\n",
       "\n",
       "    .dataframe tbody tr th {\n",
       "        vertical-align: top;\n",
       "    }\n",
       "\n",
       "    .dataframe thead th {\n",
       "        text-align: right;\n",
       "    }\n",
       "</style>\n",
       "<table border=\"1\" class=\"dataframe\">\n",
       "  <thead>\n",
       "    <tr style=\"text-align: right;\">\n",
       "      <th></th>\n",
       "      <th>_id</th>\n",
       "      <th>ltable_Sno</th>\n",
       "      <th>rtable_Sno</th>\n",
       "      <th>ltable_Album_Name</th>\n",
       "      <th>ltable_Artist_Name</th>\n",
       "      <th>ltable_Genre</th>\n",
       "      <th>ltable_Song_Name</th>\n",
       "      <th>ltable_CopyRight</th>\n",
       "      <th>ltable_Released</th>\n",
       "      <th>ltable_Price</th>\n",
       "      <th>ltable_Time</th>\n",
       "      <th>rtable_Album_Name</th>\n",
       "      <th>rtable_Artist_Name</th>\n",
       "      <th>rtable_Genre</th>\n",
       "      <th>rtable_Song_Name</th>\n",
       "      <th>rtable_Copyright</th>\n",
       "      <th>rtable_Released</th>\n",
       "      <th>rtable_Price</th>\n",
       "      <th>rtable_Time</th>\n",
       "    </tr>\n",
       "  </thead>\n",
       "  <tbody>\n",
       "    <tr>\n",
       "      <th>3173</th>\n",
       "      <td>3173</td>\n",
       "      <td>2584</td>\n",
       "      <td>229</td>\n",
       "      <td>#Selfie (Instrumental Mix) - Single</td>\n",
       "      <td>The Chainsmokers</td>\n",
       "      <td>Dance,Music,Electronic</td>\n",
       "      <td>#Selfie (Instrumental Mix)</td>\n",
       "      <td>2014 Dim Mak Inc. under exclusive license to Republic Records, a Division of UMG Recordings, Inc.</td>\n",
       "      <td>20-Mar-14</td>\n",
       "      <td>$1.29</td>\n",
       "      <td>3:03</td>\n",
       "      <td>#SELFIE (Instrumental Mix)</td>\n",
       "      <td>The Chainsmokers</td>\n",
       "      <td>Dance &amp; Electronic</td>\n",
       "      <td>#SELFIE (Instrumental Mix)</td>\n",
       "      <td>(C) 2014 Dim Mak Inc. under exclusive license to Republic Records, a Division of UMG Recordings...</td>\n",
       "      <td>March 20, 2014</td>\n",
       "      <td>$1.29</td>\n",
       "      <td>3:03</td>\n",
       "    </tr>\n",
       "    <tr>\n",
       "      <th>3210</th>\n",
       "      <td>3210</td>\n",
       "      <td>2004</td>\n",
       "      <td>230</td>\n",
       "      <td>#SELFIE (The Remixes) - Single</td>\n",
       "      <td>The Chainsmokers</td>\n",
       "      <td>Electronic,Music,Dance</td>\n",
       "      <td>#SELFIE (Caked Up Remix)</td>\n",
       "      <td>2014 Dim Mak Inc. under exclusive license to Republic Records, a Division of UMG Recordings, In...</td>\n",
       "      <td>17-Jun-14</td>\n",
       "      <td>$1.29</td>\n",
       "      <td>3:15</td>\n",
       "      <td>#Selfie (The Remixes)</td>\n",
       "      <td>The Chainsmokers</td>\n",
       "      <td>Electronica,Dance &amp; Electronic</td>\n",
       "      <td>#Selfie (Will Sparks Remix)</td>\n",
       "      <td>(C) 2014 Dim Mak Inc. under exclusive license to Republic Records, a Division of UMG Recordings...</td>\n",
       "      <td>June 17, 2014</td>\n",
       "      <td>$1.29</td>\n",
       "      <td>3:52</td>\n",
       "    </tr>\n",
       "  </tbody>\n",
       "</table>\n",
       "</div>"
      ],
      "text/plain": [
       "       _id  ltable_Sno  rtable_Sno  ...  rtable_Released rtable_Price rtable_Time\n",
       "3173  3173        2584         229  ...   March 20, 2014        $1.29        3:03\n",
       "3210  3210        2004         230  ...    June 17, 2014        $1.29        3:52\n",
       "\n",
       "[2 rows x 19 columns]"
      ]
     },
     "execution_count": 22,
     "metadata": {
      "tags": []
     },
     "output_type": "execute_result"
    }
   ],
   "source": [
    "C.head(2)"
   ]
  },
  {
   "cell_type": "markdown",
   "metadata": {
    "id": "0Atp_3ZlYLEc"
   },
   "source": [
    "**Feature Generation**"
   ]
  },
  {
   "cell_type": "code",
   "execution_count": null,
   "metadata": {
    "id": "9QtxfsdqYLEd"
   },
   "outputs": [],
   "source": [
    "# Generate features\n",
    "feature_table = em.get_features_for_matching(A, B, validate_inferred_attr_types=False)"
   ]
  },
  {
   "cell_type": "code",
   "execution_count": null,
   "metadata": {
    "colab": {
     "base_uri": "https://localhost:8080/"
    },
    "executionInfo": {
     "elapsed": 2104,
     "status": "ok",
     "timestamp": 1614956494274,
     "user": {
      "displayName": "Sankalp Agrawal",
      "photoUrl": "https://lh3.googleusercontent.com/a-/AOh14GhoVudkM9d_srs9J1hYsJzK7rmJZaslTwtk7WwIZQ=s64",
      "userId": "11271083903274706685"
     },
     "user_tz": -330
    },
    "id": "lhqLD4ELYLEe",
    "outputId": "82abdcfa-3101-41b3-a74c-9d6ea2c92de1"
   },
   "outputs": [
    {
     "data": {
      "text/plain": [
       "0                                     Sno_Sno_exm\n",
       "1                                     Sno_Sno_anm\n",
       "2                                Sno_Sno_lev_dist\n",
       "3                                 Sno_Sno_lev_sim\n",
       "4           Album_Name_Album_Name_jac_qgm_3_qgm_3\n",
       "5       Album_Name_Album_Name_cos_dlm_dc0_dlm_dc0\n",
       "6       Album_Name_Album_Name_jac_dlm_dc0_dlm_dc0\n",
       "7                       Album_Name_Album_Name_mel\n",
       "8                  Album_Name_Album_Name_lev_dist\n",
       "9                   Album_Name_Album_Name_lev_sim\n",
       "10                      Album_Name_Album_Name_nmw\n",
       "11                       Album_Name_Album_Name_sw\n",
       "12        Artist_Name_Artist_Name_jac_qgm_3_qgm_3\n",
       "13    Artist_Name_Artist_Name_cos_dlm_dc0_dlm_dc0\n",
       "14    Artist_Name_Artist_Name_jac_dlm_dc0_dlm_dc0\n",
       "15                    Artist_Name_Artist_Name_mel\n",
       "16               Artist_Name_Artist_Name_lev_dist\n",
       "17                Artist_Name_Artist_Name_lev_sim\n",
       "18                    Artist_Name_Artist_Name_nmw\n",
       "19                     Artist_Name_Artist_Name_sw\n",
       "20                    Genre_Genre_jac_qgm_3_qgm_3\n",
       "21                Genre_Genre_cos_dlm_dc0_dlm_dc0\n",
       "22                Genre_Genre_jac_dlm_dc0_dlm_dc0\n",
       "23                                Genre_Genre_mel\n",
       "24                           Genre_Genre_lev_dist\n",
       "25                            Genre_Genre_lev_sim\n",
       "26                                Genre_Genre_nmw\n",
       "27                                 Genre_Genre_sw\n",
       "28            Song_Name_Song_Name_jac_qgm_3_qgm_3\n",
       "29        Song_Name_Song_Name_cos_dlm_dc0_dlm_dc0\n",
       "30        Song_Name_Song_Name_jac_dlm_dc0_dlm_dc0\n",
       "31                        Song_Name_Song_Name_mel\n",
       "32                   Song_Name_Song_Name_lev_dist\n",
       "33                    Song_Name_Song_Name_lev_sim\n",
       "34                        Song_Name_Song_Name_nmw\n",
       "35                         Song_Name_Song_Name_sw\n",
       "Name: feature_name, dtype: object"
      ]
     },
     "execution_count": 24,
     "metadata": {
      "tags": []
     },
     "output_type": "execute_result"
    }
   ],
   "source": [
    "# List the names of the features generated\n",
    "feature_table['feature_name']"
   ]
  },
  {
   "cell_type": "code",
   "execution_count": null,
   "metadata": {
    "id": "lM-XHYeYHit5"
   },
   "outputs": [],
   "source": [
    "from math import *\n",
    "\n",
    "def jaccard_sim(x,y):\n",
    "    intersection_cardinality = len(set.intersection(*[set(x), set(y)]))\n",
    "    union_cardinality = len(set.union(*[set(x), set(y)]))\n",
    "    return intersection_cardinality/float(union_cardinality)"
   ]
  },
  {
   "cell_type": "code",
   "execution_count": null,
   "metadata": {
    "id": "A0uZoCbx0BSo"
   },
   "outputs": [],
   "source": [
    "# Manually creating features for some attribute\n",
    "\n",
    "def time_time_lev_sim(ltuple, rtuple):\n",
    "    p1 = ltuple.Time\n",
    "    p2 = rtuple.Time\n",
    "    return em.lev_sim(p1,p2)\n",
    "\n",
    "def time_time_cos(ltuple, rtuple):\n",
    "    p1 = ltuple.Time\n",
    "    p2 = rtuple.Time\n",
    "    return em.cosine(list(p1),list(p2))\n",
    "\n",
    "def time_time_jac(ltuple, rtuple):\n",
    "    p1 = ltuple.Time\n",
    "    p2 = rtuple.Time\n",
    "    return jaccard_sim(p1,p2)\n",
    "    \n",
    "def released_released_lev_sim(ltuple, rtuple):\n",
    "    p1 = str(ltuple.Released)\n",
    "    p2 = str(rtuple.Released)\n",
    "    if p1==\"nan\" or p2==\"nan\":\n",
    "        return 0\n",
    "    p1 = p1.split(\"-\") # 31,mar,15\n",
    "    if len(p1)<3:\n",
    "        return 0\n",
    "    d = {\"Jan\":\"January\",\"Feb\":\"February\",\"Mar\":\"March\",\"Apr\":\"April\",\"May\":\"May\",\"Jun\":\"June\",\"Jul\":\"July\",\"Aug\":\"August\",\"Sep\":\"September\",\"Oct\":\"October\",\"Nov\":\"November\",\"Dec\":\"December\"}\n",
    "    s1 = \" \" + d[p1[1]] + \" \" + p1[0] + \", 20\" + p1[2]\n",
    "    return em.lev_sim(s1,p2)\n",
    "\n",
    "def released_released_cos(ltuple, rtuple):\n",
    "    p1 = str(ltuple.Released)\n",
    "    p2 = str(rtuple.Released)\n",
    "    if p1==\"nan\" or p2==\"nan\":\n",
    "        return 0\n",
    "    p1 = p1.split(\"-\") # 31,mar,15\n",
    "    if len(p1)<3:\n",
    "        return 0\n",
    "    d = {\"Jan\":\"January\",\"Feb\":\"February\",\"Mar\":\"March\",\"Apr\":\"April\",\"May\":\"May\",\"Jun\":\"June\",\"Jul\":\"July\",\"Aug\":\"August\",\"Sep\":\"September\",\"Oct\":\"October\",\"Nov\":\"November\",\"Dec\":\"December\"}\n",
    "    s1 = \" \" + d[p1[1]] + \" \" + p1[0] + \", 20\" + p1[2]\n",
    "    return em.cosine(list(s1),list(p2))\n",
    "\n",
    "def released_released_jac(ltuple, rtuple):\n",
    "    p1 = str(ltuple.Released)\n",
    "    p2 = str(rtuple.Released)\n",
    "    if p1==\"nan\" or p2==\"nan\":\n",
    "        return 0\n",
    "    p1 = p1.split(\"-\") # 31,mar,15\n",
    "    if len(p1)<3:\n",
    "        return 0\n",
    "    d = {\"Jan\":\"January\",\"Feb\":\"February\",\"Mar\":\"March\",\"Apr\":\"April\",\"May\":\"May\",\"Jun\":\"June\",\"Jul\":\"July\",\"Aug\":\"August\",\"Sep\":\"September\",\"Oct\":\"October\",\"Nov\":\"November\",\"Dec\":\"December\"}\n",
    "    s1 = \" \" + d[p1[1]] + \" \" + p1[0] + \", 20\" + p1[2]\n",
    "    return jaccard_sim(s1,p2)\n",
    "    \n",
    "def copyright_copyright_lev_sim(ltuple, rtuple):\n",
    "    p1 = ltuple.CopyRight\n",
    "    p2 = rtuple.Copyright\n",
    "    return em.lev_sim(p1,p2)\n",
    "\n",
    "def copyright_copyright_cos(ltuple, rtuple):\n",
    "    p1 = ltuple.CopyRight\n",
    "    p2 = rtuple.Copyright\n",
    "    return em.cosine(list(p1),list(p2))\n",
    "\n",
    "def copyright_copyright_jac(ltuple, rtuple):\n",
    "    p1 = ltuple.CopyRight\n",
    "    p2 = rtuple.Copyright\n",
    "    return jaccard_sim(p1,p2)\n",
    "\n",
    "def price_price_lev_sim(ltuple, rtuple):\n",
    "    p1 = str(ltuple.Price).strip()\n",
    "    p2 = str(rtuple.Price).strip()\n",
    "    return em.lev_sim(p1,p2)\n",
    "\n",
    "def price_price_cos(ltuple, rtuple):\n",
    "    p1 = str(ltuple.Price).strip()\n",
    "    p2 = str(rtuple.Price).strip()\n",
    "    return em.cosine(list(p1),list(p2))\n",
    "\n",
    "def price_price_jac(ltuple, rtuple):\n",
    "    p1 = str(ltuple.Price).strip()\n",
    "    p2 = str(rtuple.Price).strip()\n",
    "    return jaccard_sim(p1,p2)"
   ]
  },
  {
   "cell_type": "code",
   "execution_count": null,
   "metadata": {
    "colab": {
     "base_uri": "https://localhost:8080/"
    },
    "executionInfo": {
     "elapsed": 1061,
     "status": "ok",
     "timestamp": 1614956508090,
     "user": {
      "displayName": "Sankalp Agrawal",
      "photoUrl": "https://lh3.googleusercontent.com/a-/AOh14GhoVudkM9d_srs9J1hYsJzK7rmJZaslTwtk7WwIZQ=s64",
      "userId": "11271083903274706685"
     },
     "user_tz": -330
    },
    "id": "FLjtty5fKbgE",
    "outputId": "460e444f-7571-4c34-a498-ca79d5b38a5a"
   },
   "outputs": [
    {
     "data": {
      "text/plain": [
       "True"
      ]
     },
     "execution_count": 28,
     "metadata": {
      "tags": []
     },
     "output_type": "execute_result"
    }
   ],
   "source": [
    "em.add_blackbox_feature(feature_table, 'time_time_lev_sim', time_time_lev_sim)\n",
    "em.add_blackbox_feature(feature_table, 'time_time_cos', time_time_cos)\n",
    "em.add_blackbox_feature(feature_table, 'time_time_jac', time_time_jac)\n",
    "em.add_blackbox_feature(feature_table, 'released_released_lev_sim', released_released_lev_sim)\n",
    "em.add_blackbox_feature(feature_table, 'released_released_cos', released_released_cos)\n",
    "em.add_blackbox_feature(feature_table, 'released_released_jac', released_released_jac)\n",
    "em.add_blackbox_feature(feature_table, 'copyright_copyright_lev_sim', copyright_copyright_lev_sim)\n",
    "em.add_blackbox_feature(feature_table, 'copyright_copyright_cos', copyright_copyright_cos)\n",
    "em.add_blackbox_feature(feature_table, 'copyright_copyright_jac', copyright_copyright_jac)\n",
    "em.add_blackbox_feature(feature_table, 'price_price_lev_sim', price_price_lev_sim)\n",
    "em.add_blackbox_feature(feature_table, 'price_price_cos', price_price_cos)\n",
    "em.add_blackbox_feature(feature_table, 'price_price_jac', price_price_jac)"
   ]
  },
  {
   "cell_type": "code",
   "execution_count": null,
   "metadata": {
    "colab": {
     "base_uri": "https://localhost:8080/"
    },
    "executionInfo": {
     "elapsed": 876,
     "status": "ok",
     "timestamp": 1614956511177,
     "user": {
      "displayName": "Sankalp Agrawal",
      "photoUrl": "https://lh3.googleusercontent.com/a-/AOh14GhoVudkM9d_srs9J1hYsJzK7rmJZaslTwtk7WwIZQ=s64",
      "userId": "11271083903274706685"
     },
     "user_tz": -330
    },
    "id": "EV5g-lTeKXbJ",
    "outputId": "646b3f54-e6fa-41b2-d36d-b5384fbc0f45"
   },
   "outputs": [
    {
     "data": {
      "text/plain": [
       "0                                     Sno_Sno_exm\n",
       "1                                     Sno_Sno_anm\n",
       "2                                Sno_Sno_lev_dist\n",
       "3                                 Sno_Sno_lev_sim\n",
       "4           Album_Name_Album_Name_jac_qgm_3_qgm_3\n",
       "5       Album_Name_Album_Name_cos_dlm_dc0_dlm_dc0\n",
       "6       Album_Name_Album_Name_jac_dlm_dc0_dlm_dc0\n",
       "7                       Album_Name_Album_Name_mel\n",
       "8                  Album_Name_Album_Name_lev_dist\n",
       "9                   Album_Name_Album_Name_lev_sim\n",
       "10                      Album_Name_Album_Name_nmw\n",
       "11                       Album_Name_Album_Name_sw\n",
       "12        Artist_Name_Artist_Name_jac_qgm_3_qgm_3\n",
       "13    Artist_Name_Artist_Name_cos_dlm_dc0_dlm_dc0\n",
       "14    Artist_Name_Artist_Name_jac_dlm_dc0_dlm_dc0\n",
       "15                    Artist_Name_Artist_Name_mel\n",
       "16               Artist_Name_Artist_Name_lev_dist\n",
       "17                Artist_Name_Artist_Name_lev_sim\n",
       "18                    Artist_Name_Artist_Name_nmw\n",
       "19                     Artist_Name_Artist_Name_sw\n",
       "20                    Genre_Genre_jac_qgm_3_qgm_3\n",
       "21                Genre_Genre_cos_dlm_dc0_dlm_dc0\n",
       "22                Genre_Genre_jac_dlm_dc0_dlm_dc0\n",
       "23                                Genre_Genre_mel\n",
       "24                           Genre_Genre_lev_dist\n",
       "25                            Genre_Genre_lev_sim\n",
       "26                                Genre_Genre_nmw\n",
       "27                                 Genre_Genre_sw\n",
       "28            Song_Name_Song_Name_jac_qgm_3_qgm_3\n",
       "29        Song_Name_Song_Name_cos_dlm_dc0_dlm_dc0\n",
       "30        Song_Name_Song_Name_jac_dlm_dc0_dlm_dc0\n",
       "31                        Song_Name_Song_Name_mel\n",
       "32                   Song_Name_Song_Name_lev_dist\n",
       "33                    Song_Name_Song_Name_lev_sim\n",
       "34                        Song_Name_Song_Name_nmw\n",
       "35                         Song_Name_Song_Name_sw\n",
       "36                              time_time_lev_sim\n",
       "37                                  time_time_cos\n",
       "38                                  time_time_jac\n",
       "39                      released_released_lev_sim\n",
       "40                          released_released_cos\n",
       "41                          released_released_jac\n",
       "42                    copyright_copyright_lev_sim\n",
       "43                        copyright_copyright_cos\n",
       "44                        copyright_copyright_jac\n",
       "45                            price_price_lev_sim\n",
       "46                                price_price_cos\n",
       "47                                price_price_jac\n",
       "Name: feature_name, dtype: object"
      ]
     },
     "execution_count": 29,
     "metadata": {
      "tags": []
     },
     "output_type": "execute_result"
    }
   ],
   "source": [
    "feature_table['feature_name']"
   ]
  },
  {
   "cell_type": "code",
   "execution_count": null,
   "metadata": {
    "id": "HrdlGZS4LV4M"
   },
   "outputs": [],
   "source": [
    "# Only take features corresponding to the three sim scores : cosine, Jaccard, lev_sim\n",
    "feature_table = feature_table.drop([0,1,2,3,6,7,8,10,11,14,15,16,18,19,22,23,24,26,27,30,31,32,34,35],axis=0)"
   ]
  },
  {
   "cell_type": "code",
   "execution_count": null,
   "metadata": {
    "id": "i_wkUXSzYLEe"
   },
   "outputs": [],
   "source": [
    "# ##### code written for restuarant dataset-\n",
    "# lit = []\n",
    "\n",
    "# for i in range(44):\n",
    "#     if(i%8!=5):\n",
    "#         lit.append(i)\n",
    "        \n",
    "# # feature_table = feature_table.drop([28,29,30,36,37,38,39,40,41,42,43],axis=0) \n",
    "\n",
    "# feature_table = feature_table.drop(lit,axis=0) "
   ]
  },
  {
   "cell_type": "code",
   "execution_count": null,
   "metadata": {
    "colab": {
     "base_uri": "https://localhost:8080/"
    },
    "executionInfo": {
     "elapsed": 890,
     "status": "ok",
     "timestamp": 1614956519176,
     "user": {
      "displayName": "Sankalp Agrawal",
      "photoUrl": "https://lh3.googleusercontent.com/a-/AOh14GhoVudkM9d_srs9J1hYsJzK7rmJZaslTwtk7WwIZQ=s64",
      "userId": "11271083903274706685"
     },
     "user_tz": -330
    },
    "id": "C5uAW0L0YLEf",
    "outputId": "7a7d0d5d-d360-463f-92ae-461640b4ee4b"
   },
   "outputs": [
    {
     "data": {
      "text/plain": [
       "4           Album_Name_Album_Name_jac_qgm_3_qgm_3\n",
       "5       Album_Name_Album_Name_cos_dlm_dc0_dlm_dc0\n",
       "9                   Album_Name_Album_Name_lev_sim\n",
       "12        Artist_Name_Artist_Name_jac_qgm_3_qgm_3\n",
       "13    Artist_Name_Artist_Name_cos_dlm_dc0_dlm_dc0\n",
       "17                Artist_Name_Artist_Name_lev_sim\n",
       "20                    Genre_Genre_jac_qgm_3_qgm_3\n",
       "21                Genre_Genre_cos_dlm_dc0_dlm_dc0\n",
       "25                            Genre_Genre_lev_sim\n",
       "28            Song_Name_Song_Name_jac_qgm_3_qgm_3\n",
       "29        Song_Name_Song_Name_cos_dlm_dc0_dlm_dc0\n",
       "33                    Song_Name_Song_Name_lev_sim\n",
       "36                              time_time_lev_sim\n",
       "37                                  time_time_cos\n",
       "38                                  time_time_jac\n",
       "39                      released_released_lev_sim\n",
       "40                          released_released_cos\n",
       "41                          released_released_jac\n",
       "42                    copyright_copyright_lev_sim\n",
       "43                        copyright_copyright_cos\n",
       "44                        copyright_copyright_jac\n",
       "45                            price_price_lev_sim\n",
       "46                                price_price_cos\n",
       "47                                price_price_jac\n",
       "Name: feature_name, dtype: object"
      ]
     },
     "execution_count": 31,
     "metadata": {
      "tags": []
     },
     "output_type": "execute_result"
    }
   ],
   "source": [
    "# List the names of the features generated\n",
    "feature_table['feature_name']"
   ]
  },
  {
   "cell_type": "code",
   "execution_count": null,
   "metadata": {
    "id": "Y7U6VX6IYLEg"
   },
   "outputs": [],
   "source": [
    "# # Load the pre-labeled data\n",
    "# path_G = './data/labeled_res_data.csv'\n",
    "\n",
    "# # path_G = em.get_install_path() + os.sep + 'datasets' + os.sep + 'end-to-end' + os.sep + 'restaurants/lbl_restnt_wf1.csv'\n",
    "# G = em.read_csv_metadata(path_G, key=\"_id\",\n",
    "#                          ltable=A, rtable=B, \n",
    "#                          fk_ltable='ltable.id', fk_rtable='rtable.id')\n",
    "# print(len(G))"
   ]
  },
  {
   "cell_type": "code",
   "execution_count": null,
   "metadata": {
    "colab": {
     "base_uri": "https://localhost:8080/",
     "height": 470
    },
    "executionInfo": {
     "elapsed": 35242,
     "status": "ok",
     "timestamp": 1614956557467,
     "user": {
      "displayName": "Sankalp Agrawal",
      "photoUrl": "https://lh3.googleusercontent.com/a-/AOh14GhoVudkM9d_srs9J1hYsJzK7rmJZaslTwtk7WwIZQ=s64",
      "userId": "11271083903274706685"
     },
     "user_tz": -330
    },
    "id": "7feDzu0rYLEh",
    "outputId": "3ff74ef9-6a29-43de-931e-3683050ec6b2"
   },
   "outputs": [
    {
     "name": "stderr",
     "output_type": "stream",
     "text": [
      "0% [##############################] 100% | ETA: 00:00:00\n",
      "Total time elapsed: 00:00:34\n"
     ]
    },
    {
     "data": {
      "text/html": [
       "<div>\n",
       "<style scoped>\n",
       "    .dataframe tbody tr th:only-of-type {\n",
       "        vertical-align: middle;\n",
       "    }\n",
       "\n",
       "    .dataframe tbody tr th {\n",
       "        vertical-align: top;\n",
       "    }\n",
       "\n",
       "    .dataframe thead th {\n",
       "        text-align: right;\n",
       "    }\n",
       "</style>\n",
       "<table border=\"1\" class=\"dataframe\">\n",
       "  <thead>\n",
       "    <tr style=\"text-align: right;\">\n",
       "      <th></th>\n",
       "      <th>_id</th>\n",
       "      <th>ltable_Sno</th>\n",
       "      <th>rtable_Sno</th>\n",
       "      <th>Album_Name_Album_Name_jac_qgm_3_qgm_3</th>\n",
       "      <th>Album_Name_Album_Name_cos_dlm_dc0_dlm_dc0</th>\n",
       "      <th>Album_Name_Album_Name_lev_sim</th>\n",
       "      <th>Artist_Name_Artist_Name_jac_qgm_3_qgm_3</th>\n",
       "      <th>Artist_Name_Artist_Name_cos_dlm_dc0_dlm_dc0</th>\n",
       "      <th>Artist_Name_Artist_Name_lev_sim</th>\n",
       "      <th>Genre_Genre_jac_qgm_3_qgm_3</th>\n",
       "      <th>Genre_Genre_cos_dlm_dc0_dlm_dc0</th>\n",
       "      <th>Genre_Genre_lev_sim</th>\n",
       "      <th>Song_Name_Song_Name_jac_qgm_3_qgm_3</th>\n",
       "      <th>Song_Name_Song_Name_cos_dlm_dc0_dlm_dc0</th>\n",
       "      <th>Song_Name_Song_Name_lev_sim</th>\n",
       "      <th>time_time_lev_sim</th>\n",
       "      <th>time_time_cos</th>\n",
       "      <th>time_time_jac</th>\n",
       "      <th>released_released_lev_sim</th>\n",
       "      <th>released_released_cos</th>\n",
       "      <th>released_released_jac</th>\n",
       "      <th>copyright_copyright_lev_sim</th>\n",
       "      <th>copyright_copyright_cos</th>\n",
       "      <th>copyright_copyright_jac</th>\n",
       "      <th>price_price_lev_sim</th>\n",
       "      <th>price_price_cos</th>\n",
       "      <th>price_price_jac</th>\n",
       "    </tr>\n",
       "  </thead>\n",
       "  <tbody>\n",
       "    <tr>\n",
       "      <th>3173</th>\n",
       "      <td>3173</td>\n",
       "      <td>2584</td>\n",
       "      <td>229</td>\n",
       "      <td>0.413043</td>\n",
       "      <td>0.516398</td>\n",
       "      <td>0.600000</td>\n",
       "      <td>1.0</td>\n",
       "      <td>1.0</td>\n",
       "      <td>1.000000</td>\n",
       "      <td>0.517241</td>\n",
       "      <td>0.0</td>\n",
       "      <td>0.681818</td>\n",
       "      <td>0.600000</td>\n",
       "      <td>0.666667</td>\n",
       "      <td>0.807692</td>\n",
       "      <td>1.00</td>\n",
       "      <td>1.00000</td>\n",
       "      <td>1.000000</td>\n",
       "      <td>1.000000</td>\n",
       "      <td>1.000000</td>\n",
       "      <td>1.000000</td>\n",
       "      <td>0.960784</td>\n",
       "      <td>0.957427</td>\n",
       "      <td>0.916667</td>\n",
       "      <td>1.0</td>\n",
       "      <td>1.0</td>\n",
       "      <td>1.0</td>\n",
       "    </tr>\n",
       "    <tr>\n",
       "      <th>3210</th>\n",
       "      <td>3210</td>\n",
       "      <td>2004</td>\n",
       "      <td>230</td>\n",
       "      <td>0.341463</td>\n",
       "      <td>0.516398</td>\n",
       "      <td>0.533333</td>\n",
       "      <td>1.0</td>\n",
       "      <td>1.0</td>\n",
       "      <td>1.000000</td>\n",
       "      <td>0.424242</td>\n",
       "      <td>0.0</td>\n",
       "      <td>0.433333</td>\n",
       "      <td>0.195652</td>\n",
       "      <td>0.250000</td>\n",
       "      <td>0.444444</td>\n",
       "      <td>0.50</td>\n",
       "      <td>0.75000</td>\n",
       "      <td>0.600000</td>\n",
       "      <td>1.000000</td>\n",
       "      <td>1.000000</td>\n",
       "      <td>1.000000</td>\n",
       "      <td>0.977528</td>\n",
       "      <td>0.959715</td>\n",
       "      <td>0.921053</td>\n",
       "      <td>1.0</td>\n",
       "      <td>1.0</td>\n",
       "      <td>1.0</td>\n",
       "    </tr>\n",
       "    <tr>\n",
       "      <th>3211</th>\n",
       "      <td>3211</td>\n",
       "      <td>2575</td>\n",
       "      <td>230</td>\n",
       "      <td>0.341463</td>\n",
       "      <td>0.516398</td>\n",
       "      <td>0.533333</td>\n",
       "      <td>1.0</td>\n",
       "      <td>1.0</td>\n",
       "      <td>1.000000</td>\n",
       "      <td>0.424242</td>\n",
       "      <td>0.0</td>\n",
       "      <td>0.433333</td>\n",
       "      <td>0.195652</td>\n",
       "      <td>0.250000</td>\n",
       "      <td>0.444444</td>\n",
       "      <td>0.50</td>\n",
       "      <td>0.75000</td>\n",
       "      <td>0.600000</td>\n",
       "      <td>1.000000</td>\n",
       "      <td>1.000000</td>\n",
       "      <td>1.000000</td>\n",
       "      <td>0.977528</td>\n",
       "      <td>0.959715</td>\n",
       "      <td>0.921053</td>\n",
       "      <td>1.0</td>\n",
       "      <td>1.0</td>\n",
       "      <td>1.0</td>\n",
       "    </tr>\n",
       "    <tr>\n",
       "      <th>3212</th>\n",
       "      <td>3212</td>\n",
       "      <td>2576</td>\n",
       "      <td>230</td>\n",
       "      <td>0.341463</td>\n",
       "      <td>0.516398</td>\n",
       "      <td>0.533333</td>\n",
       "      <td>1.0</td>\n",
       "      <td>1.0</td>\n",
       "      <td>1.000000</td>\n",
       "      <td>0.424242</td>\n",
       "      <td>0.0</td>\n",
       "      <td>0.433333</td>\n",
       "      <td>0.195652</td>\n",
       "      <td>0.250000</td>\n",
       "      <td>0.444444</td>\n",
       "      <td>0.50</td>\n",
       "      <td>0.75000</td>\n",
       "      <td>0.600000</td>\n",
       "      <td>1.000000</td>\n",
       "      <td>1.000000</td>\n",
       "      <td>1.000000</td>\n",
       "      <td>0.977528</td>\n",
       "      <td>0.959715</td>\n",
       "      <td>0.921053</td>\n",
       "      <td>1.0</td>\n",
       "      <td>1.0</td>\n",
       "      <td>1.0</td>\n",
       "    </tr>\n",
       "    <tr>\n",
       "      <th>3295</th>\n",
       "      <td>3295</td>\n",
       "      <td>2004</td>\n",
       "      <td>231</td>\n",
       "      <td>0.341463</td>\n",
       "      <td>0.516398</td>\n",
       "      <td>0.533333</td>\n",
       "      <td>1.0</td>\n",
       "      <td>1.0</td>\n",
       "      <td>1.000000</td>\n",
       "      <td>0.424242</td>\n",
       "      <td>0.0</td>\n",
       "      <td>0.433333</td>\n",
       "      <td>0.219512</td>\n",
       "      <td>0.288675</td>\n",
       "      <td>0.458333</td>\n",
       "      <td>0.50</td>\n",
       "      <td>0.57735</td>\n",
       "      <td>0.400000</td>\n",
       "      <td>1.000000</td>\n",
       "      <td>1.000000</td>\n",
       "      <td>1.000000</td>\n",
       "      <td>0.977528</td>\n",
       "      <td>0.959715</td>\n",
       "      <td>0.921053</td>\n",
       "      <td>1.0</td>\n",
       "      <td>1.0</td>\n",
       "      <td>1.0</td>\n",
       "    </tr>\n",
       "    <tr>\n",
       "      <th>...</th>\n",
       "      <td>...</td>\n",
       "      <td>...</td>\n",
       "      <td>...</td>\n",
       "      <td>...</td>\n",
       "      <td>...</td>\n",
       "      <td>...</td>\n",
       "      <td>...</td>\n",
       "      <td>...</td>\n",
       "      <td>...</td>\n",
       "      <td>...</td>\n",
       "      <td>...</td>\n",
       "      <td>...</td>\n",
       "      <td>...</td>\n",
       "      <td>...</td>\n",
       "      <td>...</td>\n",
       "      <td>...</td>\n",
       "      <td>...</td>\n",
       "      <td>...</td>\n",
       "      <td>...</td>\n",
       "      <td>...</td>\n",
       "      <td>...</td>\n",
       "      <td>...</td>\n",
       "      <td>...</td>\n",
       "      <td>...</td>\n",
       "      <td>...</td>\n",
       "      <td>...</td>\n",
       "      <td>...</td>\n",
       "    </tr>\n",
       "    <tr>\n",
       "      <th>3015737</th>\n",
       "      <td>3015737</td>\n",
       "      <td>1412</td>\n",
       "      <td>55461</td>\n",
       "      <td>0.102362</td>\n",
       "      <td>0.084515</td>\n",
       "      <td>0.298851</td>\n",
       "      <td>0.0</td>\n",
       "      <td>0.0</td>\n",
       "      <td>0.096774</td>\n",
       "      <td>0.000000</td>\n",
       "      <td>0.0</td>\n",
       "      <td>0.125000</td>\n",
       "      <td>0.110169</td>\n",
       "      <td>0.094491</td>\n",
       "      <td>0.287356</td>\n",
       "      <td>0.50</td>\n",
       "      <td>0.50000</td>\n",
       "      <td>0.333333</td>\n",
       "      <td>0.470588</td>\n",
       "      <td>0.483494</td>\n",
       "      <td>0.315789</td>\n",
       "      <td>0.184000</td>\n",
       "      <td>0.633866</td>\n",
       "      <td>0.416667</td>\n",
       "      <td>1.0</td>\n",
       "      <td>1.0</td>\n",
       "      <td>1.0</td>\n",
       "    </tr>\n",
       "    <tr>\n",
       "      <th>3015749</th>\n",
       "      <td>3015749</td>\n",
       "      <td>2589</td>\n",
       "      <td>55461</td>\n",
       "      <td>0.080000</td>\n",
       "      <td>0.077152</td>\n",
       "      <td>0.195402</td>\n",
       "      <td>0.0</td>\n",
       "      <td>0.0</td>\n",
       "      <td>0.161290</td>\n",
       "      <td>0.000000</td>\n",
       "      <td>0.0</td>\n",
       "      <td>0.181818</td>\n",
       "      <td>0.086207</td>\n",
       "      <td>0.084515</td>\n",
       "      <td>0.206897</td>\n",
       "      <td>0.50</td>\n",
       "      <td>0.57735</td>\n",
       "      <td>0.400000</td>\n",
       "      <td>0.411765</td>\n",
       "      <td>0.617213</td>\n",
       "      <td>0.444444</td>\n",
       "      <td>0.408000</td>\n",
       "      <td>0.706188</td>\n",
       "      <td>0.545455</td>\n",
       "      <td>1.0</td>\n",
       "      <td>1.0</td>\n",
       "      <td>1.0</td>\n",
       "    </tr>\n",
       "    <tr>\n",
       "      <th>3015750</th>\n",
       "      <td>3015750</td>\n",
       "      <td>3518</td>\n",
       "      <td>55461</td>\n",
       "      <td>0.073171</td>\n",
       "      <td>0.000000</td>\n",
       "      <td>0.206897</td>\n",
       "      <td>0.0</td>\n",
       "      <td>0.0</td>\n",
       "      <td>0.129032</td>\n",
       "      <td>0.000000</td>\n",
       "      <td>0.0</td>\n",
       "      <td>0.000000</td>\n",
       "      <td>0.078947</td>\n",
       "      <td>0.000000</td>\n",
       "      <td>0.275862</td>\n",
       "      <td>0.75</td>\n",
       "      <td>0.75000</td>\n",
       "      <td>0.600000</td>\n",
       "      <td>0.631579</td>\n",
       "      <td>0.741249</td>\n",
       "      <td>0.588235</td>\n",
       "      <td>0.218750</td>\n",
       "      <td>0.789330</td>\n",
       "      <td>0.650000</td>\n",
       "      <td>1.0</td>\n",
       "      <td>1.0</td>\n",
       "      <td>1.0</td>\n",
       "    </tr>\n",
       "    <tr>\n",
       "      <th>3015751</th>\n",
       "      <td>3015751</td>\n",
       "      <td>4466</td>\n",
       "      <td>55461</td>\n",
       "      <td>0.068376</td>\n",
       "      <td>0.089087</td>\n",
       "      <td>0.218391</td>\n",
       "      <td>0.0</td>\n",
       "      <td>0.0</td>\n",
       "      <td>0.129032</td>\n",
       "      <td>0.133333</td>\n",
       "      <td>0.0</td>\n",
       "      <td>0.312500</td>\n",
       "      <td>0.084112</td>\n",
       "      <td>0.101015</td>\n",
       "      <td>0.218391</td>\n",
       "      <td>0.50</td>\n",
       "      <td>0.50000</td>\n",
       "      <td>0.333333</td>\n",
       "      <td>0.823529</td>\n",
       "      <td>0.889499</td>\n",
       "      <td>0.800000</td>\n",
       "      <td>0.392000</td>\n",
       "      <td>0.762443</td>\n",
       "      <td>0.605263</td>\n",
       "      <td>1.0</td>\n",
       "      <td>1.0</td>\n",
       "      <td>1.0</td>\n",
       "    </tr>\n",
       "    <tr>\n",
       "      <th>3015752</th>\n",
       "      <td>3015752</td>\n",
       "      <td>4467</td>\n",
       "      <td>55461</td>\n",
       "      <td>0.072581</td>\n",
       "      <td>0.084515</td>\n",
       "      <td>0.218391</td>\n",
       "      <td>0.0</td>\n",
       "      <td>0.0</td>\n",
       "      <td>0.129032</td>\n",
       "      <td>0.133333</td>\n",
       "      <td>0.0</td>\n",
       "      <td>0.312500</td>\n",
       "      <td>0.087719</td>\n",
       "      <td>0.094491</td>\n",
       "      <td>0.218391</td>\n",
       "      <td>0.25</td>\n",
       "      <td>0.50000</td>\n",
       "      <td>0.333333</td>\n",
       "      <td>0.823529</td>\n",
       "      <td>0.889499</td>\n",
       "      <td>0.800000</td>\n",
       "      <td>0.392000</td>\n",
       "      <td>0.762443</td>\n",
       "      <td>0.605263</td>\n",
       "      <td>1.0</td>\n",
       "      <td>1.0</td>\n",
       "      <td>1.0</td>\n",
       "    </tr>\n",
       "  </tbody>\n",
       "</table>\n",
       "<p>12829 rows × 27 columns</p>\n",
       "</div>"
      ],
      "text/plain": [
       "             _id  ltable_Sno  ...  price_price_cos  price_price_jac\n",
       "3173        3173        2584  ...              1.0              1.0\n",
       "3210        3210        2004  ...              1.0              1.0\n",
       "3211        3211        2575  ...              1.0              1.0\n",
       "3212        3212        2576  ...              1.0              1.0\n",
       "3295        3295        2004  ...              1.0              1.0\n",
       "...          ...         ...  ...              ...              ...\n",
       "3015737  3015737        1412  ...              1.0              1.0\n",
       "3015749  3015749        2589  ...              1.0              1.0\n",
       "3015750  3015750        3518  ...              1.0              1.0\n",
       "3015751  3015751        4466  ...              1.0              1.0\n",
       "3015752  3015752        4467  ...              1.0              1.0\n",
       "\n",
       "[12829 rows x 27 columns]"
      ]
     },
     "execution_count": 32,
     "metadata": {
      "tags": []
     },
     "output_type": "execute_result"
    }
   ],
   "source": [
    "H = em.extract_feature_vecs(C, feature_table=feature_table)\n",
    "H"
   ]
  },
  {
   "cell_type": "code",
   "execution_count": null,
   "metadata": {
    "id": "h3CXlwkq8-8-"
   },
   "outputs": [],
   "source": [
    "col = H['Genre_Genre_cos_dlm_dc0_dlm_dc0'].unique() # just for testing"
   ]
  },
  {
   "cell_type": "code",
   "execution_count": null,
   "metadata": {
    "id": "TY8y5Cs7YLEj"
   },
   "outputs": [],
   "source": [
    "import pickle\n",
    "\n",
    "dbfile = open('/content/gdrive/My Drive/Colab Notebooks/BTP/feature_matrix', 'wb') \n",
    "pickle.dump(H, dbfile) \n",
    "dbfile.close()\n",
    "\n",
    "candidate_set = open('/content/gdrive/My Drive/Colab Notebooks/BTP/C', 'wb') \n",
    "pickle.dump(C, candidate_set)\n",
    "candidate_set.close()"
   ]
  },
  {
   "cell_type": "code",
   "execution_count": null,
   "metadata": {
    "id": "KGwoSGKlOXJt"
   },
   "outputs": [],
   "source": [
    "pp"
   ]
  },
  {
   "cell_type": "code",
   "execution_count": 8,
   "metadata": {
    "executionInfo": {
     "elapsed": 4768,
     "status": "ok",
     "timestamp": 1615060018552,
     "user": {
      "displayName": "Sankalp Agrawal",
      "photoUrl": "https://lh3.googleusercontent.com/a-/AOh14GhoVudkM9d_srs9J1hYsJzK7rmJZaslTwtk7WwIZQ=s64",
      "userId": "11271083903274706685"
     },
     "user_tz": -330
    },
    "id": "XPaC2dHKYLEk"
   },
   "outputs": [],
   "source": [
    "import pickle\n",
    "\n",
    "dbfile = open('/content/gdrive/My Drive/Colab Notebooks/BTP/feature_matrix', 'rb')    \n",
    "cand_file = open('/content/gdrive/My Drive/Colab Notebooks/BTP/C', 'rb')  \n",
    "S = pickle.load(dbfile)\n",
    "cand = pickle.load(cand_file)"
   ]
  },
  {
   "cell_type": "code",
   "execution_count": null,
   "metadata": {
    "id": "K6lIYGbgugE_"
   },
   "outputs": [],
   "source": [
    "# verify values in S\n",
    "S"
   ]
  },
  {
   "cell_type": "code",
   "execution_count": 41,
   "metadata": {
    "colab": {
     "base_uri": "https://localhost:8080/",
     "height": 1000
    },
    "executionInfo": {
     "elapsed": 799,
     "status": "ok",
     "timestamp": 1615061672359,
     "user": {
      "displayName": "Sankalp Agrawal",
      "photoUrl": "https://lh3.googleusercontent.com/a-/AOh14GhoVudkM9d_srs9J1hYsJzK7rmJZaslTwtk7WwIZQ=s64",
      "userId": "11271083903274706685"
     },
     "user_tz": -330
    },
    "id": "3KQ13uGdn450",
    "outputId": "c45b8006-28cf-415c-b701-233faa6ea42c"
   },
   "outputs": [
    {
     "data": {
      "text/html": [
       "<div>\n",
       "<style scoped>\n",
       "    .dataframe tbody tr th:only-of-type {\n",
       "        vertical-align: middle;\n",
       "    }\n",
       "\n",
       "    .dataframe tbody tr th {\n",
       "        vertical-align: top;\n",
       "    }\n",
       "\n",
       "    .dataframe thead th {\n",
       "        text-align: right;\n",
       "    }\n",
       "</style>\n",
       "<table border=\"1\" class=\"dataframe\">\n",
       "  <thead>\n",
       "    <tr style=\"text-align: right;\">\n",
       "      <th></th>\n",
       "      <th>_id</th>\n",
       "      <th>ltable_Sno</th>\n",
       "      <th>rtable_Sno</th>\n",
       "      <th>ltable_Album_Name</th>\n",
       "      <th>ltable_Artist_Name</th>\n",
       "      <th>ltable_Genre</th>\n",
       "      <th>ltable_Song_Name</th>\n",
       "      <th>ltable_CopyRight</th>\n",
       "      <th>ltable_Released</th>\n",
       "      <th>ltable_Price</th>\n",
       "      <th>ltable_Time</th>\n",
       "      <th>rtable_Album_Name</th>\n",
       "      <th>rtable_Artist_Name</th>\n",
       "      <th>rtable_Genre</th>\n",
       "      <th>rtable_Song_Name</th>\n",
       "      <th>rtable_Copyright</th>\n",
       "      <th>rtable_Released</th>\n",
       "      <th>rtable_Price</th>\n",
       "      <th>rtable_Time</th>\n",
       "    </tr>\n",
       "  </thead>\n",
       "  <tbody>\n",
       "    <tr>\n",
       "      <th>3173</th>\n",
       "      <td>3173</td>\n",
       "      <td>2584</td>\n",
       "      <td>229</td>\n",
       "      <td>#Selfie (Instrumental Mix) - Single</td>\n",
       "      <td>The Chainsmokers</td>\n",
       "      <td>Dance,Music,Electronic</td>\n",
       "      <td>#Selfie (Instrumental Mix)</td>\n",
       "      <td>2014 Dim Mak Inc. under exclusive license to Republic Records, a Division of UMG Recordings, Inc.</td>\n",
       "      <td>20-Mar-14</td>\n",
       "      <td>$1.29</td>\n",
       "      <td>3:03</td>\n",
       "      <td>#SELFIE (Instrumental Mix)</td>\n",
       "      <td>The Chainsmokers</td>\n",
       "      <td>Dance &amp; Electronic</td>\n",
       "      <td>#SELFIE (Instrumental Mix)</td>\n",
       "      <td>(C) 2014 Dim Mak Inc. under exclusive license to Republic Records, a Division of UMG Recordings...</td>\n",
       "      <td>March 20, 2014</td>\n",
       "      <td>$1.29</td>\n",
       "      <td>3:03</td>\n",
       "    </tr>\n",
       "    <tr>\n",
       "      <th>3210</th>\n",
       "      <td>3210</td>\n",
       "      <td>2004</td>\n",
       "      <td>230</td>\n",
       "      <td>#SELFIE (The Remixes) - Single</td>\n",
       "      <td>The Chainsmokers</td>\n",
       "      <td>Electronic,Music,Dance</td>\n",
       "      <td>#SELFIE (Caked Up Remix)</td>\n",
       "      <td>2014 Dim Mak Inc. under exclusive license to Republic Records, a Division of UMG Recordings, In...</td>\n",
       "      <td>17-Jun-14</td>\n",
       "      <td>$1.29</td>\n",
       "      <td>3:15</td>\n",
       "      <td>#Selfie (The Remixes)</td>\n",
       "      <td>The Chainsmokers</td>\n",
       "      <td>Electronica,Dance &amp; Electronic</td>\n",
       "      <td>#Selfie (Will Sparks Remix)</td>\n",
       "      <td>(C) 2014 Dim Mak Inc. under exclusive license to Republic Records, a Division of UMG Recordings...</td>\n",
       "      <td>June 17, 2014</td>\n",
       "      <td>$1.29</td>\n",
       "      <td>3:52</td>\n",
       "    </tr>\n",
       "    <tr>\n",
       "      <th>3211</th>\n",
       "      <td>3211</td>\n",
       "      <td>2575</td>\n",
       "      <td>230</td>\n",
       "      <td>#SELFIE (The Remixes) - Single</td>\n",
       "      <td>The Chainsmokers</td>\n",
       "      <td>Electronic,Music,Dance</td>\n",
       "      <td>#SELFIE (Caked Up Remix)</td>\n",
       "      <td>2014 Dim Mak Inc. under exclusive license to Republic Records, a Division of UMG Recordings, In...</td>\n",
       "      <td>17-Jun-14</td>\n",
       "      <td>$1.29</td>\n",
       "      <td>3:15</td>\n",
       "      <td>#Selfie (The Remixes)</td>\n",
       "      <td>The Chainsmokers</td>\n",
       "      <td>Electronica,Dance &amp; Electronic</td>\n",
       "      <td>#Selfie (Will Sparks Remix)</td>\n",
       "      <td>(C) 2014 Dim Mak Inc. under exclusive license to Republic Records, a Division of UMG Recordings...</td>\n",
       "      <td>June 17, 2014</td>\n",
       "      <td>$1.29</td>\n",
       "      <td>3:52</td>\n",
       "    </tr>\n",
       "    <tr>\n",
       "      <th>3212</th>\n",
       "      <td>3212</td>\n",
       "      <td>2576</td>\n",
       "      <td>230</td>\n",
       "      <td>#SELFIE (The Remixes) - Single</td>\n",
       "      <td>The Chainsmokers</td>\n",
       "      <td>Electronic,Music,Dance</td>\n",
       "      <td>#SELFIE (Caked Up Remix)</td>\n",
       "      <td>2014 Dim Mak Inc. under exclusive license to Republic Records, a Division of UMG Recordings, In...</td>\n",
       "      <td>17-Jun-14</td>\n",
       "      <td>$1.29</td>\n",
       "      <td>3:15</td>\n",
       "      <td>#Selfie (The Remixes)</td>\n",
       "      <td>The Chainsmokers</td>\n",
       "      <td>Electronica,Dance &amp; Electronic</td>\n",
       "      <td>#Selfie (Will Sparks Remix)</td>\n",
       "      <td>(C) 2014 Dim Mak Inc. under exclusive license to Republic Records, a Division of UMG Recordings...</td>\n",
       "      <td>June 17, 2014</td>\n",
       "      <td>$1.29</td>\n",
       "      <td>3:52</td>\n",
       "    </tr>\n",
       "    <tr>\n",
       "      <th>3295</th>\n",
       "      <td>3295</td>\n",
       "      <td>2004</td>\n",
       "      <td>231</td>\n",
       "      <td>#SELFIE (The Remixes) - Single</td>\n",
       "      <td>The Chainsmokers</td>\n",
       "      <td>Electronic,Music,Dance</td>\n",
       "      <td>#SELFIE (Caked Up Remix)</td>\n",
       "      <td>2014 Dim Mak Inc. under exclusive license to Republic Records, a Division of UMG Recordings, In...</td>\n",
       "      <td>17-Jun-14</td>\n",
       "      <td>$1.29</td>\n",
       "      <td>3:15</td>\n",
       "      <td>#Selfie (The Remixes)</td>\n",
       "      <td>The Chainsmokers</td>\n",
       "      <td>Electronica,Dance &amp; Electronic</td>\n",
       "      <td>#Selfie (Botnek Remix)</td>\n",
       "      <td>(C) 2014 Dim Mak Inc. under exclusive license to Republic Records, a Division of UMG Recordings...</td>\n",
       "      <td>June 17, 2014</td>\n",
       "      <td>$1.29</td>\n",
       "      <td>3:36</td>\n",
       "    </tr>\n",
       "    <tr>\n",
       "      <th>...</th>\n",
       "      <td>...</td>\n",
       "      <td>...</td>\n",
       "      <td>...</td>\n",
       "      <td>...</td>\n",
       "      <td>...</td>\n",
       "      <td>...</td>\n",
       "      <td>...</td>\n",
       "      <td>...</td>\n",
       "      <td>...</td>\n",
       "      <td>...</td>\n",
       "      <td>...</td>\n",
       "      <td>...</td>\n",
       "      <td>...</td>\n",
       "      <td>...</td>\n",
       "      <td>...</td>\n",
       "      <td>...</td>\n",
       "      <td>...</td>\n",
       "      <td>...</td>\n",
       "      <td>...</td>\n",
       "    </tr>\n",
       "    <tr>\n",
       "      <th>3015737</th>\n",
       "      <td>3015737</td>\n",
       "      <td>1412</td>\n",
       "      <td>55461</td>\n",
       "      <td>Beautiful Now (feat. Jon Bellion) [Dirty South Remix] - Single</td>\n",
       "      <td>Zedd</td>\n",
       "      <td>Dance,Music</td>\n",
       "      <td>Beautiful Now (feat. Jon Bellion) [Dirty South Remix]</td>\n",
       "      <td>2015 Interscope Records</td>\n",
       "      <td>16-Jun-15</td>\n",
       "      <td>$1.29</td>\n",
       "      <td>3:18</td>\n",
       "      <td>Young And Beautiful [Lana Del Rey vs. Cedric Gervais] (Cedric Gervais Remix Radio Edit)</td>\n",
       "      <td>Cedric Gervais and Lana Del Rey</td>\n",
       "      <td>Alternative Rock</td>\n",
       "      <td>Young And Beautiful [Lana Del Rey vs. Cedric Gervais] (Cedric Gervais Remix Radio Edit)</td>\n",
       "      <td>(C) 2013 Lana Del Rey under exclusive licence to Polydor Ltd. (UK). Under exclusive licence to ...</td>\n",
       "      <td>October 29, 2013</td>\n",
       "      <td>$1.29</td>\n",
       "      <td>3:47</td>\n",
       "    </tr>\n",
       "    <tr>\n",
       "      <th>3015749</th>\n",
       "      <td>3015749</td>\n",
       "      <td>2589</td>\n",
       "      <td>55461</td>\n",
       "      <td>Let You Go (Radio Edit) [feat. Great Good Fine Ok] - Single</td>\n",
       "      <td>The Chainsmokers</td>\n",
       "      <td>Dance,Music,Electronic</td>\n",
       "      <td>Let You Go (Radio Edit) [feat. Great Good Fine Ok]</td>\n",
       "      <td>2015 Dim Mak Inc. under exclusive license to Republic Records, a Division of UMG Recordings, Inc.</td>\n",
       "      <td>3-Mar-15</td>\n",
       "      <td>$1.29</td>\n",
       "      <td>3:38</td>\n",
       "      <td>Young And Beautiful [Lana Del Rey vs. Cedric Gervais] (Cedric Gervais Remix Radio Edit)</td>\n",
       "      <td>Cedric Gervais and Lana Del Rey</td>\n",
       "      <td>Alternative Rock</td>\n",
       "      <td>Young And Beautiful [Lana Del Rey vs. Cedric Gervais] (Cedric Gervais Remix Radio Edit)</td>\n",
       "      <td>(C) 2013 Lana Del Rey under exclusive licence to Polydor Ltd. (UK). Under exclusive licence to ...</td>\n",
       "      <td>October 29, 2013</td>\n",
       "      <td>$1.29</td>\n",
       "      <td>3:47</td>\n",
       "    </tr>\n",
       "    <tr>\n",
       "      <th>3015750</th>\n",
       "      <td>3015750</td>\n",
       "      <td>3518</td>\n",
       "      <td>55461</td>\n",
       "      <td>Can't Believe It (feat. Pitbull) [Radio Edit] - Single</td>\n",
       "      <td>Flo Rida</td>\n",
       "      <td>Hip-Hop/Rap,Music</td>\n",
       "      <td>Can't Believe It (feat. Pitbull) [Radio Edit]</td>\n",
       "      <td>2013 Atlantic Recording Corporation for the United States and WEA International Inc. for the wo...</td>\n",
       "      <td>10-Sep-13</td>\n",
       "      <td>$1.29</td>\n",
       "      <td>3:40</td>\n",
       "      <td>Young And Beautiful [Lana Del Rey vs. Cedric Gervais] (Cedric Gervais Remix Radio Edit)</td>\n",
       "      <td>Cedric Gervais and Lana Del Rey</td>\n",
       "      <td>Alternative Rock</td>\n",
       "      <td>Young And Beautiful [Lana Del Rey vs. Cedric Gervais] (Cedric Gervais Remix Radio Edit)</td>\n",
       "      <td>(C) 2013 Lana Del Rey under exclusive licence to Polydor Ltd. (UK). Under exclusive licence to ...</td>\n",
       "      <td>October 29, 2013</td>\n",
       "      <td>$1.29</td>\n",
       "      <td>3:47</td>\n",
       "    </tr>\n",
       "    <tr>\n",
       "      <th>3015751</th>\n",
       "      <td>3015751</td>\n",
       "      <td>4466</td>\n",
       "      <td>55461</td>\n",
       "      <td>Live While We're Young (Dave Aude Remix) - Single</td>\n",
       "      <td>One Direction</td>\n",
       "      <td>Pop,Music,Rock</td>\n",
       "      <td>Live While We're Young (Dave Aude Remix)</td>\n",
       "      <td>2012 Simco Limited under exclusive license to Sony Music Entertainment UK Limited</td>\n",
       "      <td>8-Oct-12</td>\n",
       "      <td>$1.29</td>\n",
       "      <td>5:40</td>\n",
       "      <td>Young And Beautiful [Lana Del Rey vs. Cedric Gervais] (Cedric Gervais Remix Radio Edit)</td>\n",
       "      <td>Cedric Gervais and Lana Del Rey</td>\n",
       "      <td>Alternative Rock</td>\n",
       "      <td>Young And Beautiful [Lana Del Rey vs. Cedric Gervais] (Cedric Gervais Remix Radio Edit)</td>\n",
       "      <td>(C) 2013 Lana Del Rey under exclusive licence to Polydor Ltd. (UK). Under exclusive licence to ...</td>\n",
       "      <td>October 29, 2013</td>\n",
       "      <td>$1.29</td>\n",
       "      <td>3:47</td>\n",
       "    </tr>\n",
       "    <tr>\n",
       "      <th>3015752</th>\n",
       "      <td>3015752</td>\n",
       "      <td>4467</td>\n",
       "      <td>55461</td>\n",
       "      <td>Live While We're Young (The Jump Smokers Remix) - Single</td>\n",
       "      <td>One Direction</td>\n",
       "      <td>Pop,Music,Rock</td>\n",
       "      <td>Live While We're Young (The Jump Smokers Remix)</td>\n",
       "      <td>2012 Simco Limited under exclusive license to Sony Music Entertainment UK Limited</td>\n",
       "      <td>8-Oct-12</td>\n",
       "      <td>$1.29</td>\n",
       "      <td>4:25</td>\n",
       "      <td>Young And Beautiful [Lana Del Rey vs. Cedric Gervais] (Cedric Gervais Remix Radio Edit)</td>\n",
       "      <td>Cedric Gervais and Lana Del Rey</td>\n",
       "      <td>Alternative Rock</td>\n",
       "      <td>Young And Beautiful [Lana Del Rey vs. Cedric Gervais] (Cedric Gervais Remix Radio Edit)</td>\n",
       "      <td>(C) 2013 Lana Del Rey under exclusive licence to Polydor Ltd. (UK). Under exclusive licence to ...</td>\n",
       "      <td>October 29, 2013</td>\n",
       "      <td>$1.29</td>\n",
       "      <td>3:47</td>\n",
       "    </tr>\n",
       "  </tbody>\n",
       "</table>\n",
       "<p>12829 rows × 19 columns</p>\n",
       "</div>"
      ],
      "text/plain": [
       "             _id  ltable_Sno  ...  rtable_Price rtable_Time\n",
       "3173        3173        2584  ...         $1.29        3:03\n",
       "3210        3210        2004  ...         $1.29        3:52\n",
       "3211        3211        2575  ...         $1.29        3:52\n",
       "3212        3212        2576  ...         $1.29        3:52\n",
       "3295        3295        2004  ...         $1.29        3:36\n",
       "...          ...         ...  ...           ...         ...\n",
       "3015737  3015737        1412  ...         $1.29        3:47\n",
       "3015749  3015749        2589  ...         $1.29        3:47\n",
       "3015750  3015750        3518  ...         $1.29        3:47\n",
       "3015751  3015751        4466  ...         $1.29        3:47\n",
       "3015752  3015752        4467  ...         $1.29        3:47\n",
       "\n",
       "[12829 rows x 19 columns]"
      ]
     },
     "execution_count": 41,
     "metadata": {
      "tags": []
     },
     "output_type": "execute_result"
    }
   ],
   "source": [
    "cand"
   ]
  },
  {
   "cell_type": "code",
   "execution_count": 9,
   "metadata": {
    "executionInfo": {
     "elapsed": 7123,
     "status": "ok",
     "timestamp": 1615060020912,
     "user": {
      "displayName": "Sankalp Agrawal",
      "photoUrl": "https://lh3.googleusercontent.com/a-/AOh14GhoVudkM9d_srs9J1hYsJzK7rmJZaslTwtk7WwIZQ=s64",
      "userId": "11271083903274706685"
     },
     "user_tz": -330
    },
    "id": "Z4q4TznfYLEl"
   },
   "outputs": [],
   "source": [
    "import numpy as np\n",
    "import torch\n",
    "\n",
    "S = torch.tensor(S.values,dtype=torch.double)\n",
    "S = S[:,3:]\n",
    "# S = S.to_numpy(dtype=np.longdouble)\n",
    "device = torch.device(\"cuda:0\" if torch.cuda.is_available() else \"cpu\")\n",
    "\n",
    "# Initial weights would be 1/(num_attributes*num_sim_scores) due to add-to-1 constraint\n",
    "w_init  = (1 / S.shape[1] ) ** 2\n",
    "# W = np.full((S.shape[0], S.shape[1]), w_init,dtype=np.longdouble)\n",
    "W = torch.DoubleTensor(S.shape[0],S.shape[1]).fill_(w_init)"
   ]
  },
  {
   "cell_type": "code",
   "execution_count": 10,
   "metadata": {
    "executionInfo": {
     "elapsed": 7123,
     "status": "ok",
     "timestamp": 1615060020916,
     "user": {
      "displayName": "Sankalp Agrawal",
      "photoUrl": "https://lh3.googleusercontent.com/a-/AOh14GhoVudkM9d_srs9J1hYsJzK7rmJZaslTwtk7WwIZQ=s64",
      "userId": "11271083903274706685"
     },
     "user_tz": -330
    },
    "id": "QWxyLfFWYLEm"
   },
   "outputs": [],
   "source": [
    "# ith row of RLS matrix will return RLS value of the ith record pair \n",
    "# It should be a diagonal matrix, as all other values would correspond to RLS for pairs which are not together.\n",
    "def get_RLS(W,S):\n",
    "    rls = torch.matmul(S,torch.transpose(W, 0, 1))\n",
    "    return torch.diag(rls)\n",
    "\n",
    "\n",
    "# this will return a 1D vector of size n , having value which is to be multiplied to 2*w*S \n",
    "# value at ith index would be multiplied to ith pair's derivative\n",
    "def get_precomputed_values(W,S,phi,tau):\n",
    "    numerator = torch.exp(phi*get_RLS(W,S)) - torch.exp(phi* (tau-get_RLS(W,S)))\n",
    "    denominator = torch.exp(phi*get_RLS(W,S)) + torch.exp(phi* (tau-get_RLS(W,S)))\n",
    "    return torch.divide(numerator,denominator)\n",
    "\n",
    "# def derivative_loss_function(S,W,j,precomputed_value):\n",
    "#     partial_deriv = 0\n",
    "#     for i in range(S.shape[0]):\n",
    "#         num = 2 * S[j,:].dot(W[j,:]) * ( torch.exp(phi * S[i,:].dot(W[i,:])) - torch.exp(phi * (tau - S[i,:].dot(W[i,:]) )) )\n",
    "#         denom = torch.exp(phi * S[i,:].dot(W[i,:])) + torch.exp(phi * (tau - S[i,:].dot(W[i,:])))\n",
    "#         partial_deriv += num/denom\n",
    "#     return partial_deriv\n",
    "\n",
    "\n",
    "def derivative_loss_function(W,S,j,precomputed_values):\n",
    "    return 2 * S[j,:] * W[j,:] * precomputed_values[j]\n",
    "\n",
    "def algorithm_gradient_descent(W,S,learning_rate,iterations,phi,tau):\n",
    "    for i in range(iterations):\n",
    "        W_new = torch.zeros(W.shape) \n",
    "        sum_W_new = 0\n",
    "        precomputed_values = get_precomputed_values(W,S,phi,tau)\n",
    "        for j in range(W.shape[0]):\n",
    "            W_new[j,:] = W[j,:] - learning_rate * derivative_loss_function(W,S,j,precomputed_values)\n",
    "            W_new[j,:] = W_new[j,:] / torch.sum(W_new[j,:])\n",
    "        W = W_new.double()\n",
    "        print(\"Iteration \" + str(i+1) + \" completed\")\n",
    "    return W"
   ]
  },
  {
   "cell_type": "code",
   "execution_count": 11,
   "metadata": {
    "colab": {
     "base_uri": "https://localhost:8080/"
    },
    "executionInfo": {
     "elapsed": 494988,
     "status": "ok",
     "timestamp": 1615060508787,
     "user": {
      "displayName": "Sankalp Agrawal",
      "photoUrl": "https://lh3.googleusercontent.com/a-/AOh14GhoVudkM9d_srs9J1hYsJzK7rmJZaslTwtk7WwIZQ=s64",
      "userId": "11271083903274706685"
     },
     "user_tz": -330
    },
    "id": "svUgT0ESYLEm",
    "outputId": "88c775fb-9799-450c-deaf-bc6341765504"
   },
   "outputs": [
    {
     "name": "stdout",
     "output_type": "stream",
     "text": [
      "Iteration 1 completed\n",
      "Iteration 2 completed\n",
      "Iteration 3 completed\n",
      "Iteration 4 completed\n",
      "Iteration 5 completed\n",
      "Iteration 6 completed\n",
      "Iteration 7 completed\n",
      "Iteration 8 completed\n",
      "Iteration 9 completed\n",
      "Iteration 10 completed\n",
      "Iteration 11 completed\n",
      "Iteration 12 completed\n",
      "Iteration 13 completed\n",
      "Iteration 14 completed\n",
      "Iteration 15 completed\n",
      "Iteration 16 completed\n",
      "Iteration 17 completed\n",
      "Iteration 18 completed\n",
      "Iteration 19 completed\n",
      "Iteration 20 completed\n",
      "Iteration 21 completed\n",
      "Iteration 22 completed\n",
      "Iteration 23 completed\n",
      "Iteration 24 completed\n",
      "Iteration 25 completed\n",
      "Iteration 26 completed\n",
      "Iteration 27 completed\n",
      "Iteration 28 completed\n",
      "Iteration 29 completed\n",
      "Iteration 30 completed\n",
      "Iteration 31 completed\n",
      "Iteration 32 completed\n",
      "Iteration 33 completed\n",
      "Iteration 34 completed\n",
      "Iteration 35 completed\n",
      "Iteration 36 completed\n",
      "Iteration 37 completed\n",
      "Iteration 38 completed\n",
      "Iteration 39 completed\n",
      "Iteration 40 completed\n",
      "Iteration 41 completed\n",
      "Iteration 42 completed\n",
      "Iteration 43 completed\n",
      "Iteration 44 completed\n",
      "Iteration 45 completed\n",
      "Iteration 46 completed\n",
      "Iteration 47 completed\n",
      "Iteration 48 completed\n",
      "Iteration 49 completed\n",
      "Iteration 50 completed\n",
      "Iteration 51 completed\n",
      "Iteration 52 completed\n",
      "Iteration 53 completed\n",
      "Iteration 54 completed\n",
      "Iteration 55 completed\n",
      "Iteration 56 completed\n",
      "Iteration 57 completed\n",
      "Iteration 58 completed\n",
      "Iteration 59 completed\n",
      "Iteration 60 completed\n",
      "Iteration 61 completed\n",
      "Iteration 62 completed\n",
      "Iteration 63 completed\n",
      "Iteration 64 completed\n",
      "Iteration 65 completed\n",
      "Iteration 66 completed\n",
      "Iteration 67 completed\n",
      "Iteration 68 completed\n",
      "Iteration 69 completed\n",
      "Iteration 70 completed\n",
      "Iteration 71 completed\n",
      "Iteration 72 completed\n",
      "Iteration 73 completed\n",
      "Iteration 74 completed\n",
      "Iteration 75 completed\n",
      "Iteration 76 completed\n",
      "Iteration 77 completed\n",
      "Iteration 78 completed\n",
      "Iteration 79 completed\n",
      "Iteration 80 completed\n",
      "Iteration 81 completed\n",
      "Iteration 82 completed\n",
      "Iteration 83 completed\n",
      "Iteration 84 completed\n",
      "Iteration 85 completed\n",
      "Iteration 86 completed\n",
      "Iteration 87 completed\n",
      "Iteration 88 completed\n",
      "Iteration 89 completed\n",
      "Iteration 90 completed\n",
      "Iteration 91 completed\n",
      "Iteration 92 completed\n",
      "Iteration 93 completed\n",
      "Iteration 94 completed\n",
      "Iteration 95 completed\n",
      "Iteration 96 completed\n",
      "Iteration 97 completed\n",
      "Iteration 98 completed\n",
      "Iteration 99 completed\n",
      "Iteration 100 completed\n",
      "Iteration 101 completed\n",
      "Iteration 102 completed\n",
      "Iteration 103 completed\n",
      "Iteration 104 completed\n",
      "Iteration 105 completed\n",
      "Iteration 106 completed\n",
      "Iteration 107 completed\n",
      "Iteration 108 completed\n",
      "Iteration 109 completed\n",
      "Iteration 110 completed\n",
      "Iteration 111 completed\n",
      "Iteration 112 completed\n",
      "Iteration 113 completed\n",
      "Iteration 114 completed\n",
      "Iteration 115 completed\n",
      "Iteration 116 completed\n",
      "Iteration 117 completed\n",
      "Iteration 118 completed\n",
      "Iteration 119 completed\n",
      "Iteration 120 completed\n",
      "Iteration 121 completed\n",
      "Iteration 122 completed\n",
      "Iteration 123 completed\n",
      "Iteration 124 completed\n",
      "Iteration 125 completed\n",
      "Iteration 126 completed\n",
      "Iteration 127 completed\n",
      "Iteration 128 completed\n",
      "Iteration 129 completed\n",
      "Iteration 130 completed\n",
      "Iteration 131 completed\n",
      "Iteration 132 completed\n",
      "Iteration 133 completed\n",
      "Iteration 134 completed\n",
      "Iteration 135 completed\n",
      "Iteration 136 completed\n",
      "Iteration 137 completed\n",
      "Iteration 138 completed\n",
      "Iteration 139 completed\n",
      "Iteration 140 completed\n",
      "Iteration 141 completed\n",
      "Iteration 142 completed\n",
      "Iteration 143 completed\n",
      "Iteration 144 completed\n",
      "Iteration 145 completed\n",
      "Iteration 146 completed\n",
      "Iteration 147 completed\n",
      "Iteration 148 completed\n",
      "Iteration 149 completed\n",
      "Iteration 150 completed\n",
      "Iteration 151 completed\n",
      "Iteration 152 completed\n",
      "Iteration 153 completed\n",
      "Iteration 154 completed\n",
      "Iteration 155 completed\n",
      "Iteration 156 completed\n",
      "Iteration 157 completed\n",
      "Iteration 158 completed\n",
      "Iteration 159 completed\n",
      "Iteration 160 completed\n",
      "Iteration 161 completed\n",
      "Iteration 162 completed\n",
      "Iteration 163 completed\n",
      "Iteration 164 completed\n",
      "Iteration 165 completed\n",
      "Iteration 166 completed\n",
      "Iteration 167 completed\n",
      "Iteration 168 completed\n",
      "Iteration 169 completed\n",
      "Iteration 170 completed\n",
      "Iteration 171 completed\n",
      "Iteration 172 completed\n",
      "Iteration 173 completed\n",
      "Iteration 174 completed\n",
      "Iteration 175 completed\n",
      "Iteration 176 completed\n",
      "Iteration 177 completed\n",
      "Iteration 178 completed\n",
      "Iteration 179 completed\n",
      "Iteration 180 completed\n",
      "Iteration 181 completed\n",
      "Iteration 182 completed\n",
      "Iteration 183 completed\n",
      "Iteration 184 completed\n",
      "Iteration 185 completed\n",
      "Iteration 186 completed\n",
      "Iteration 187 completed\n",
      "Iteration 188 completed\n",
      "Iteration 189 completed\n",
      "Iteration 190 completed\n",
      "Iteration 191 completed\n",
      "Iteration 192 completed\n",
      "Iteration 193 completed\n",
      "Iteration 194 completed\n",
      "Iteration 195 completed\n",
      "Iteration 196 completed\n",
      "Iteration 197 completed\n",
      "Iteration 198 completed\n",
      "Iteration 199 completed\n",
      "Iteration 200 completed\n"
     ]
    }
   ],
   "source": [
    "weights = algorithm_gradient_descent(W,S,0.001,200,-50,1)"
   ]
  },
  {
   "cell_type": "code",
   "execution_count": 12,
   "metadata": {
    "colab": {
     "base_uri": "https://localhost:8080/"
    },
    "executionInfo": {
     "elapsed": 495355,
     "status": "ok",
     "timestamp": 1615060509165,
     "user": {
      "displayName": "Sankalp Agrawal",
      "photoUrl": "https://lh3.googleusercontent.com/a-/AOh14GhoVudkM9d_srs9J1hYsJzK7rmJZaslTwtk7WwIZQ=s64",
      "userId": "11271083903274706685"
     },
     "user_tz": -330
    },
    "id": "g6FJzxmaYLEn",
    "outputId": "5c7ef186-a2c0-4948-da34-b00c7b3ed44e"
   },
   "outputs": [
    {
     "data": {
      "text/plain": [
       "tensor([0.8426, 0.7402, 0.7402,  ..., 0.3421, 0.3676, 0.3570],\n",
       "       dtype=torch.float64)"
      ]
     },
     "execution_count": 12,
     "metadata": {
      "tags": []
     },
     "output_type": "execute_result"
    }
   ],
   "source": [
    "get_RLS(weights,S)"
   ]
  },
  {
   "cell_type": "code",
   "execution_count": null,
   "metadata": {
    "id": "H8o_Wj-N94Wz"
   },
   "outputs": [],
   "source": [
    "weights.shape"
   ]
  },
  {
   "cell_type": "code",
   "execution_count": 14,
   "metadata": {
    "executionInfo": {
     "elapsed": 495342,
     "status": "ok",
     "timestamp": 1615060509169,
     "user": {
      "displayName": "Sankalp Agrawal",
      "photoUrl": "https://lh3.googleusercontent.com/a-/AOh14GhoVudkM9d_srs9J1hYsJzK7rmJZaslTwtk7WwIZQ=s64",
      "userId": "11271083903274706685"
     },
     "user_tz": -330
    },
    "id": "kYAEmxgl91sS"
   },
   "outputs": [],
   "source": [
    "weight_file = open('/content/gdrive/My Drive/Colab Notebooks/BTP/weights', 'wb') \n",
    "pickle.dump(weights, weight_file) \n",
    "weight_file.close()"
   ]
  },
  {
   "cell_type": "code",
   "execution_count": 15,
   "metadata": {
    "executionInfo": {
     "elapsed": 495339,
     "status": "ok",
     "timestamp": 1615060509171,
     "user": {
      "displayName": "Sankalp Agrawal",
      "photoUrl": "https://lh3.googleusercontent.com/a-/AOh14GhoVudkM9d_srs9J1hYsJzK7rmJZaslTwtk7WwIZQ=s64",
      "userId": "11271083903274706685"
     },
     "user_tz": -330
    },
    "id": "u6Z8VvReq1b9"
   },
   "outputs": [],
   "source": [
    "weight_file = open('/content/gdrive/My Drive/Colab Notebooks/BTP/weights', 'rb') \n",
    "weights = pickle.load(weight_file)"
   ]
  },
  {
   "cell_type": "code",
   "execution_count": 37,
   "metadata": {
    "executionInfo": {
     "elapsed": 1167,
     "status": "ok",
     "timestamp": 1615061452037,
     "user": {
      "displayName": "Sankalp Agrawal",
      "photoUrl": "https://lh3.googleusercontent.com/a-/AOh14GhoVudkM9d_srs9J1hYsJzK7rmJZaslTwtk7WwIZQ=s64",
      "userId": "11271083903274706685"
     },
     "user_tz": -330
    },
    "id": "umeeQj0qrsJG"
   },
   "outputs": [],
   "source": [
    "######### Skew metric adopted from https://arxiv.org/pdf/1905.01989.pdf (refer this paper for the metric)\n",
    "\n",
    "import numpy as np\n",
    "\n",
    "rls_matrix = get_RLS(weights,S)\n",
    "ltable_ids = torch.tensor(cand['ltable_Sno'].values)\n",
    "rtable_ids = torch.tensor(cand['rtable_Sno'].values)\n",
    "\n",
    "pairs_rls = torch.cat((ltable_ids.reshape(-1,1),rtable_ids.reshape(-1,1),rls_matrix.reshape(-1,1)),dim=1)\n",
    "pairs_rls = pairs_rls.numpy()\n",
    "sorted_rls = pairs_rls[np.argsort(-pairs_rls[:,2])] # sorts in descending order\n",
    "# sorted_array = an_array[numpy.argsort(an_array[:, 1])] (sort by col2)\n",
    "\n",
    "# Assuming equal representation for all groups\n",
    "# Assuming same as original representation for all groups"
   ]
  },
  {
   "cell_type": "code",
   "execution_count": 38,
   "metadata": {
    "colab": {
     "base_uri": "https://localhost:8080/"
    },
    "executionInfo": {
     "elapsed": 769,
     "status": "ok",
     "timestamp": 1615061454308,
     "user": {
      "displayName": "Sankalp Agrawal",
      "photoUrl": "https://lh3.googleusercontent.com/a-/AOh14GhoVudkM9d_srs9J1hYsJzK7rmJZaslTwtk7WwIZQ=s64",
      "userId": "11271083903274706685"
     },
     "user_tz": -330
    },
    "id": "DmujICJKHrsq",
    "outputId": "ee6a9130-cf26-47d6-e071-b5865af8093e"
   },
   "outputs": [
    {
     "data": {
      "text/plain": [
       "array([[1.24400000e+03, 3.66890000e+04, 9.42145261e-01],\n",
       "       [1.24300000e+03, 3.66890000e+04, 9.42145261e-01],\n",
       "       [1.19100000e+03, 3.66890000e+04, 9.42145261e-01],\n",
       "       ...,\n",
       "       [6.17700000e+03, 3.20200000e+03, 1.70989269e-01],\n",
       "       [4.51000000e+02, 4.91010000e+04, 1.63897386e-01],\n",
       "       [6.17700000e+03, 3.18900000e+03, 1.51266634e-01]])"
      ]
     },
     "execution_count": 38,
     "metadata": {
      "tags": []
     },
     "output_type": "execute_result"
    }
   ],
   "source": [
    "sorted_rls"
   ]
  }
 ],
 "metadata": {
  "colab": {
   "name": "EM_baseline_restraunt_music.ipynb",
   "provenance": []
  },
  "kernelspec": {
   "display_name": "Python 3",
   "language": "python",
   "name": "python3"
  },
  "language_info": {
   "codemirror_mode": {
    "name": "ipython",
    "version": 3
   },
   "file_extension": ".py",
   "mimetype": "text/x-python",
   "name": "python",
   "nbconvert_exporter": "python",
   "pygments_lexer": "ipython3",
   "version": "3.7.4"
  }
 },
 "nbformat": 4,
 "nbformat_minor": 1
}
