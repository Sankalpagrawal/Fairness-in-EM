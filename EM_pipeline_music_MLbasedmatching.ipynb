{
 "cells": [
  {
   "cell_type": "code",
   "execution_count": 1,
   "metadata": {},
   "outputs": [],
   "source": [
    "# Importing the libraries\n",
    "import sys\n",
    "import py_entitymatching as em\n",
    "import pandas as pd\n",
    "import os"
   ]
  },
  {
   "cell_type": "code",
   "execution_count": 2,
   "metadata": {},
   "outputs": [
    {
     "name": "stdout",
     "output_type": "stream",
     "text": [
      "python version: 3.6.12 |Anaconda, Inc.| (default, Sep  9 2020, 00:29:25) [MSC v.1916 64 bit (AMD64)]\n",
      "pandas version: 0.23.4\n",
      "magellan version: 0.3.1\n"
     ]
    }
   ],
   "source": [
    "# Display the versions\n",
    "print('python version: ' + sys.version )\n",
    "print('pandas version: ' + pd.__version__ )\n",
    "print('magellan version: ' + em.__version__ )"
   ]
  },
  {
   "cell_type": "code",
   "execution_count": 3,
   "metadata": {},
   "outputs": [
    {
     "name": "stderr",
     "output_type": "stream",
     "text": [
      "Metadata file is not present in the given path; proceeding to read the csv file.\n",
      "Metadata file is not present in the given path; proceeding to read the csv file.\n"
     ]
    }
   ],
   "source": [
    "# Load csv files as dataframes and set the key attribute in the dataframe\n",
    "path_A = 'music1.csv'\n",
    "path_B = 'music2.csv'\n",
    "A = em.read_csv_metadata(path_A, key='Sno')\n",
    "B = em.read_csv_metadata(path_B, key='Sno')"
   ]
  },
  {
   "cell_type": "code",
   "execution_count": 4,
   "metadata": {},
   "outputs": [
    {
     "name": "stdout",
     "output_type": "stream",
     "text": [
      "Number of tuples in A: 6907\n",
      "Number of tuples in B: 55923\n",
      "Number of tuples in A X B (i.e the cartesian product): 386260161\n"
     ]
    }
   ],
   "source": [
    "# Display number of tuples in the datasets\n",
    "print('Number of tuples in A: ' + str(len(A)))\n",
    "print('Number of tuples in B: ' + str(len(B)))\n",
    "print('Number of tuples in A X B (i.e the cartesian product): ' + str(len(A)*len(B)))"
   ]
  },
  {
   "cell_type": "code",
   "execution_count": 5,
   "metadata": {},
   "outputs": [
    {
     "data": {
      "text/html": [
       "<div>\n",
       "<style scoped>\n",
       "    .dataframe tbody tr th:only-of-type {\n",
       "        vertical-align: middle;\n",
       "    }\n",
       "\n",
       "    .dataframe tbody tr th {\n",
       "        vertical-align: top;\n",
       "    }\n",
       "\n",
       "    .dataframe thead th {\n",
       "        text-align: right;\n",
       "    }\n",
       "</style>\n",
       "<table border=\"1\" class=\"dataframe\">\n",
       "  <thead>\n",
       "    <tr style=\"text-align: right;\">\n",
       "      <th></th>\n",
       "      <th>Sno</th>\n",
       "      <th>Album_Name</th>\n",
       "      <th>Album_Price</th>\n",
       "      <th>Artist_Name</th>\n",
       "      <th>CopyRight</th>\n",
       "      <th>Customer_Rating</th>\n",
       "      <th>Genre</th>\n",
       "      <th>Price</th>\n",
       "      <th>Released</th>\n",
       "      <th>Song_Name</th>\n",
       "      <th>Time</th>\n",
       "    </tr>\n",
       "  </thead>\n",
       "  <tbody>\n",
       "    <tr>\n",
       "      <th>0</th>\n",
       "      <td>1</td>\n",
       "      <td>Welcome to Cam Country - EP</td>\n",
       "      <td>$4.26</td>\n",
       "      <td>Cam</td>\n",
       "      <td>2015 Sony Music Entertainment</td>\n",
       "      <td>4.72396</td>\n",
       "      <td>Country,Music,Contemporary Country,Honky Tonk</td>\n",
       "      <td>$0.99</td>\n",
       "      <td>31-Mar-15</td>\n",
       "      <td>Runaway Train</td>\n",
       "      <td>3:01</td>\n",
       "    </tr>\n",
       "    <tr>\n",
       "      <th>1</th>\n",
       "      <td>2</td>\n",
       "      <td>Me 4 U</td>\n",
       "      <td>$9.99</td>\n",
       "      <td>Omi</td>\n",
       "      <td>2015 Ultra Records, LLC under exclusive license to Columbia Records, a Division of Sony Music E...</td>\n",
       "      <td>3.38158</td>\n",
       "      <td>Pop/Rock,Music,Pop,Dance,R&amp;B/Soul</td>\n",
       "      <td>Album Only</td>\n",
       "      <td>NaN</td>\n",
       "      <td>Track 14</td>\n",
       "      <td>3:41</td>\n",
       "    </tr>\n",
       "  </tbody>\n",
       "</table>\n",
       "</div>"
      ],
      "text/plain": [
       "   Sno                   Album_Name Album_Price Artist_Name  \\\n",
       "0    1  Welcome to Cam Country - EP      $4.26          Cam   \n",
       "1    2                       Me 4 U      $9.99          Omi   \n",
       "\n",
       "                                                                                             CopyRight  \\\n",
       "0                                                                        2015 Sony Music Entertainment   \n",
       "1   2015 Ultra Records, LLC under exclusive license to Columbia Records, a Division of Sony Music E...   \n",
       "\n",
       "   Customer_Rating                                          Genre       Price  \\\n",
       "0          4.72396  Country,Music,Contemporary Country,Honky Tonk      $0.99    \n",
       "1          3.38158              Pop/Rock,Music,Pop,Dance,R&B/Soul  Album Only   \n",
       "\n",
       "    Released      Song_Name  Time  \n",
       "0  31-Mar-15  Runaway Train  3:01  \n",
       "1        NaN       Track 14  3:41  "
      ]
     },
     "execution_count": 5,
     "metadata": {},
     "output_type": "execute_result"
    }
   ],
   "source": [
    "# Displaying first two entries from the first music dataset\n",
    "A.head(2)"
   ]
  },
  {
   "cell_type": "code",
   "execution_count": 6,
   "metadata": {},
   "outputs": [
    {
     "data": {
      "text/html": [
       "<div>\n",
       "<style scoped>\n",
       "    .dataframe tbody tr th:only-of-type {\n",
       "        vertical-align: middle;\n",
       "    }\n",
       "\n",
       "    .dataframe tbody tr th {\n",
       "        vertical-align: top;\n",
       "    }\n",
       "\n",
       "    .dataframe thead th {\n",
       "        text-align: right;\n",
       "    }\n",
       "</style>\n",
       "<table border=\"1\" class=\"dataframe\">\n",
       "  <thead>\n",
       "    <tr style=\"text-align: right;\">\n",
       "      <th></th>\n",
       "      <th>Sno</th>\n",
       "      <th>Album_Name</th>\n",
       "      <th>Artist_Name</th>\n",
       "      <th>Song_Name</th>\n",
       "      <th>Price</th>\n",
       "      <th>Time</th>\n",
       "      <th>Released</th>\n",
       "      <th>Label</th>\n",
       "      <th>Copyright</th>\n",
       "      <th>Genre</th>\n",
       "    </tr>\n",
       "  </thead>\n",
       "  <tbody>\n",
       "    <tr>\n",
       "      <th>0</th>\n",
       "      <td>1</td>\n",
       "      <td>! (Volume 2) [Explicit]</td>\n",
       "      <td>Rusko</td>\n",
       "      <td>Saxophone Stomp [Explicit]</td>\n",
       "      <td>$1.29</td>\n",
       "      <td>3:20</td>\n",
       "      <td>September 16, 2014</td>\n",
       "      <td>Decca International</td>\n",
       "      <td>(C) 2014 FMLY Under Exclusive License To Universal Music Canada Inc.</td>\n",
       "      <td>Dance &amp; Electronic,Dubstep</td>\n",
       "    </tr>\n",
       "    <tr>\n",
       "      <th>1</th>\n",
       "      <td>2</td>\n",
       "      <td>! (Volume 2) [Explicit]</td>\n",
       "      <td>Rusko</td>\n",
       "      <td>I Wanna Mingle [feat. Pusher]</td>\n",
       "      <td>$1.29</td>\n",
       "      <td>2:36</td>\n",
       "      <td>September 16, 2014</td>\n",
       "      <td>Decca International</td>\n",
       "      <td>(C) 2014 FMLY Under Exclusive License To Universal Music Canada Inc.</td>\n",
       "      <td>Dance &amp; Electronic,Dubstep</td>\n",
       "    </tr>\n",
       "  </tbody>\n",
       "</table>\n",
       "</div>"
      ],
      "text/plain": [
       "   Sno               Album_Name Artist_Name                      Song_Name  \\\n",
       "0    1  ! (Volume 2) [Explicit]       Rusko     Saxophone Stomp [Explicit]   \n",
       "1    2  ! (Volume 2) [Explicit]       Rusko  I Wanna Mingle [feat. Pusher]   \n",
       "\n",
       "   Price  Time             Released                 Label  \\\n",
       "0  $1.29  3:20   September 16, 2014   Decca International   \n",
       "1  $1.29  2:36   September 16, 2014   Decca International   \n",
       "\n",
       "                                                               Copyright  \\\n",
       "0   (C) 2014 FMLY Under Exclusive License To Universal Music Canada Inc.   \n",
       "1   (C) 2014 FMLY Under Exclusive License To Universal Music Canada Inc.   \n",
       "\n",
       "                        Genre  \n",
       "0  Dance & Electronic,Dubstep  \n",
       "1  Dance & Electronic,Dubstep  "
      ]
     },
     "execution_count": 6,
     "metadata": {},
     "output_type": "execute_result"
    }
   ],
   "source": [
    "# Displaying first two entries from the second music dataset\n",
    "B.head(2)"
   ]
  },
  {
   "cell_type": "code",
   "execution_count": 7,
   "metadata": {},
   "outputs": [
    {
     "name": "stdout",
     "output_type": "stream",
     "text": [
      "Sno Sno\n",
      "Lengths after downsampling-\n",
      "557 1000\n"
     ]
    }
   ],
   "source": [
    "# Display the keys of the input tables\n",
    "print(em.get_key(A), em.get_key(B))\n",
    "# If the tables are large we can downsample the tables like this\n",
    "A1, B1 = em.down_sample(A, B, 1000, 1, show_progress=False)\n",
    "print(\"Lengths after downsampling-\")\n",
    "print(len(A1), len(B1))"
   ]
  },
  {
   "cell_type": "markdown",
   "metadata": {},
   "source": [
    "Blocking"
   ]
  },
  {
   "cell_type": "code",
   "execution_count": 8,
   "metadata": {},
   "outputs": [],
   "source": [
    "# Create attribute equivalence blocker\n",
    "ab = em.AttrEquivalenceBlocker()\n",
    "\n",
    "colA = [\"Sno\",\"Album_Name\",\"Album_Price\",\"Artist_Name\",\"CopyRight\",\"Customer_Rating\",\"Genre\",\"Price\",\"Released\",\"Song_Name\",\"Time\"]\n",
    "colB = [\"Sno\",\"Album_Name\",\"Artist_Name\",\"Song_Name\",\"Price\",\"Time\",\"Released\",\"Label\",\"Copyright\",\"Genre\"]\n",
    "\n",
    "# Block using Artist Name attribute\n",
    "C = ab.block_tables(A1, B1, \"Artist_Name\",\"Artist_Name\",\n",
    "                    l_output_attrs=[\"Sno\", \"Album_Name\", \"Artist_Name\", \"CopyRight\", \"Released\", \"Song_Name\" ,\"Time\"], \n",
    "                    r_output_attrs=[\"Sno\", \"Album_Name\", \"Artist_Name\", \"Copyright\", \"Released\", \"Song_Name\", \"Time\"]\n",
    "                    )\n",
    "\n",
     "# Rule based blocker, which blocks on the basis of a rule\n",
     "rb = em.RuleBasedBlocker()\n",
    "block_f = em.get_features_for_blocking(A1, B1,validate_inferred_attr_types=False)\n",
    "rule1 = [\"Artist_Name_Artist_Name_lev_sim(ltuple, rtuple) > 0.8\"]\n",
    "rb.add_rule(rule1, block_f)\n",
    "C = rb.block_tables(A1, B1, \n",
    "                    l_output_attrs=[\"Sno\", \"Album_Name\", \"Artist_Name\", \"CopyRight\", \"Released\", \"Song_Name\" ,\"Time\"], \n",
    "                    r_output_attrs=[\"Sno\", \"Album_Name\", \"Artist_Name\", \"Copyright\", \"Released\", \"Song_Name\", \"Time\"]\n",
    "                    )"
   ]
  },
  {
   "cell_type": "code",
   "execution_count": 9,
   "metadata": {},
   "outputs": [
    {
     "data": {
      "text/plain": [
       "1498"
      ]
     },
     "execution_count": 9,
     "metadata": {},
     "output_type": "execute_result"
    }
   ],
   "source": [
    "# Printing length of candidate set\n",
    "len(C)"
   ]
  },
  {
   "cell_type": "markdown",
   "metadata": {},
   "source": [
    "Debugging blocker output"
   ]
  },
  {
   "cell_type": "code",
   "execution_count": 10,
   "metadata": {},
   "outputs": [],
   "source": [
    "# Debug blocker output\n",
    "dbg = em.debug_blocker(C, A, B, output_size=1000)"
   ]
  },
  {
   "cell_type": "code",
   "execution_count": 11,
   "metadata": {},
   "outputs": [
    {
     "data": {
      "text/html": [
       "<div>\n",
       "<style scoped>\n",
       "    .dataframe tbody tr th:only-of-type {\n",
       "        vertical-align: middle;\n",
       "    }\n",
       "\n",
       "    .dataframe tbody tr th {\n",
       "        vertical-align: top;\n",
       "    }\n",
       "\n",
       "    .dataframe thead th {\n",
       "        text-align: right;\n",
       "    }\n",
       "</style>\n",
       "<table border=\"1\" class=\"dataframe\">\n",
       "  <thead>\n",
       "    <tr style=\"text-align: right;\">\n",
       "      <th></th>\n",
       "      <th>_id</th>\n",
       "      <th>ltable_Sno</th>\n",
       "      <th>rtable_Sno</th>\n",
       "      <th>ltable_Album_Name</th>\n",
       "      <th>ltable_Artist_Name</th>\n",
       "      <th>ltable_Genre</th>\n",
       "      <th>ltable_Price</th>\n",
       "      <th>ltable_Released</th>\n",
       "      <th>ltable_Song_Name</th>\n",
       "      <th>ltable_Time</th>\n",
       "      <th>rtable_Album_Name</th>\n",
       "      <th>rtable_Artist_Name</th>\n",
       "      <th>rtable_Genre</th>\n",
       "      <th>rtable_Price</th>\n",
       "      <th>rtable_Released</th>\n",
       "      <th>rtable_Song_Name</th>\n",
       "      <th>rtable_Time</th>\n",
       "    </tr>\n",
       "  </thead>\n",
       "  <tbody>\n",
       "    <tr>\n",
       "      <th>0</th>\n",
       "      <td>0</td>\n",
       "      <td>5</td>\n",
       "      <td>50767</td>\n",
       "      <td>Title (Deluxe)</td>\n",
       "      <td>Meghan Trainor</td>\n",
       "      <td>Pop,Music,Rock,Pop/Rock,Dance,Teen Pop</td>\n",
       "      <td>$1.29</td>\n",
       "      <td>9-Jan-15</td>\n",
       "      <td>Credit</td>\n",
       "      <td>2:51</td>\n",
       "      <td>Title (Deluxe)</td>\n",
       "      <td>Meghan Trainor</td>\n",
       "      <td>Pop</td>\n",
       "      <td>$1.29</td>\n",
       "      <td>January 9, 2015</td>\n",
       "      <td>Credit</td>\n",
       "      <td>2:51</td>\n",
       "    </tr>\n",
       "    <tr>\n",
       "      <th>1</th>\n",
       "      <td>1</td>\n",
       "      <td>5</td>\n",
       "      <td>50797</td>\n",
       "      <td>Title (Deluxe)</td>\n",
       "      <td>Meghan Trainor</td>\n",
       "      <td>Pop,Music,Rock,Pop/Rock,Dance,Teen Pop</td>\n",
       "      <td>$1.29</td>\n",
       "      <td>9-Jan-15</td>\n",
       "      <td>Credit</td>\n",
       "      <td>2:51</td>\n",
       "      <td>Title (Deluxe)</td>\n",
       "      <td>Meghan Trainor</td>\n",
       "      <td>Pop</td>\n",
       "      <td>$1.29</td>\n",
       "      <td>January 9, 2015</td>\n",
       "      <td>Credit</td>\n",
       "      <td>2:51</td>\n",
       "    </tr>\n",
       "    <tr>\n",
       "      <th>2</th>\n",
       "      <td>2</td>\n",
       "      <td>5</td>\n",
       "      <td>50812</td>\n",
       "      <td>Title (Deluxe)</td>\n",
       "      <td>Meghan Trainor</td>\n",
       "      <td>Pop,Music,Rock,Pop/Rock,Dance,Teen Pop</td>\n",
       "      <td>$1.29</td>\n",
       "      <td>9-Jan-15</td>\n",
       "      <td>Credit</td>\n",
       "      <td>2:51</td>\n",
       "      <td>Title (Deluxe)</td>\n",
       "      <td>Meghan Trainor</td>\n",
       "      <td>Pop</td>\n",
       "      <td>$1.29</td>\n",
       "      <td>January 9, 2015</td>\n",
       "      <td>Credit</td>\n",
       "      <td>2:51</td>\n",
       "    </tr>\n",
       "    <tr>\n",
       "      <th>3</th>\n",
       "      <td>3</td>\n",
       "      <td>5</td>\n",
       "      <td>50827</td>\n",
       "      <td>Title (Deluxe)</td>\n",
       "      <td>Meghan Trainor</td>\n",
       "      <td>Pop,Music,Rock,Pop/Rock,Dance,Teen Pop</td>\n",
       "      <td>$1.29</td>\n",
       "      <td>9-Jan-15</td>\n",
       "      <td>Credit</td>\n",
       "      <td>2:51</td>\n",
       "      <td>Title (Deluxe)</td>\n",
       "      <td>Meghan Trainor</td>\n",
       "      <td>Pop</td>\n",
       "      <td>$1.29</td>\n",
       "      <td>January 9, 2015</td>\n",
       "      <td>Credit</td>\n",
       "      <td>2:51</td>\n",
       "    </tr>\n",
       "    <tr>\n",
       "      <th>4</th>\n",
       "      <td>4</td>\n",
       "      <td>155</td>\n",
       "      <td>50767</td>\n",
       "      <td>Title (Deluxe)</td>\n",
       "      <td>Meghan Trainor</td>\n",
       "      <td>Pop,Music,Rock,Pop/Rock,Dance,Teen Pop</td>\n",
       "      <td>$1.29</td>\n",
       "      <td>9-Jan-15</td>\n",
       "      <td>Credit</td>\n",
       "      <td>2:51</td>\n",
       "      <td>Title (Deluxe)</td>\n",
       "      <td>Meghan Trainor</td>\n",
       "      <td>Pop</td>\n",
       "      <td>$1.29</td>\n",
       "      <td>January 9, 2015</td>\n",
       "      <td>Credit</td>\n",
       "      <td>2:51</td>\n",
       "    </tr>\n",
       "  </tbody>\n",
       "</table>\n",
       "</div>"
      ],
      "text/plain": [
       "   _id  ltable_Sno  rtable_Sno ltable_Album_Name ltable_Artist_Name  \\\n",
       "0    0           5       50767    Title (Deluxe)     Meghan Trainor   \n",
       "1    1           5       50797    Title (Deluxe)     Meghan Trainor   \n",
       "2    2           5       50812    Title (Deluxe)     Meghan Trainor   \n",
       "3    3           5       50827    Title (Deluxe)     Meghan Trainor   \n",
       "4    4         155       50767    Title (Deluxe)     Meghan Trainor   \n",
       "\n",
       "                             ltable_Genre ltable_Price ltable_Released  \\\n",
       "0  Pop,Music,Rock,Pop/Rock,Dance,Teen Pop       $1.29         9-Jan-15   \n",
       "1  Pop,Music,Rock,Pop/Rock,Dance,Teen Pop       $1.29         9-Jan-15   \n",
       "2  Pop,Music,Rock,Pop/Rock,Dance,Teen Pop       $1.29         9-Jan-15   \n",
       "3  Pop,Music,Rock,Pop/Rock,Dance,Teen Pop       $1.29         9-Jan-15   \n",
       "4  Pop,Music,Rock,Pop/Rock,Dance,Teen Pop       $1.29         9-Jan-15   \n",
       "\n",
       "  ltable_Song_Name ltable_Time rtable_Album_Name rtable_Artist_Name  \\\n",
       "0           Credit        2:51    Title (Deluxe)     Meghan Trainor   \n",
       "1           Credit        2:51    Title (Deluxe)     Meghan Trainor   \n",
       "2           Credit        2:51    Title (Deluxe)     Meghan Trainor   \n",
       "3           Credit        2:51    Title (Deluxe)     Meghan Trainor   \n",
       "4           Credit        2:51    Title (Deluxe)     Meghan Trainor   \n",
       "\n",
       "  rtable_Genre rtable_Price   rtable_Released rtable_Song_Name rtable_Time  \n",
       "0          Pop        $1.29   January 9, 2015           Credit        2:51  \n",
       "1          Pop        $1.29   January 9, 2015           Credit        2:51  \n",
       "2          Pop        $1.29   January 9, 2015           Credit        2:51  \n",
       "3          Pop        $1.29   January 9, 2015           Credit        2:51  \n",
       "4          Pop        $1.29   January 9, 2015           Credit        2:51  "
      ]
     },
     "execution_count": 11,
     "metadata": {},
     "output_type": "execute_result"
    }
   ],
   "source": [
    "# Display first few tuple pairs from the debug_blocker's output\n",
    "dbg.head()"
   ]
  },
  {
   "cell_type": "markdown",
   "metadata": {},
   "source": [
    "Matching"
   ]
  },
  {
   "cell_type": "code",
   "execution_count": 12,
   "metadata": {},
   "outputs": [],
   "source": [
    "# Sample candidate set\n",
    "# S = em.sample_table(C, 538)"
   ]
  },
  {
   "cell_type": "code",
   "execution_count": 13,
   "metadata": {},
   "outputs": [],
   "source": [
    "# Label S\n",
    "# G = em.label_table(S, 'label')"
   ]
  },
  {
   "cell_type": "code",
   "execution_count": 14,
   "metadata": {},
   "outputs": [
    {
     "name": "stderr",
     "output_type": "stream",
     "text": [
      "Metadata file is not present in the given path; proceeding to read the csv file.\n"
     ]
    },
    {
     "name": "stdout",
     "output_type": "stream",
     "text": [
      "539\n"
     ]
    }
   ],
   "source": [
    "# Load the pre-labeled data\n",
    "path_G = 'music_labeled_data.csv'\n",
    "G = em.read_csv_metadata(path_G, \n",
    "                         key='_id',\n",
    "                         ltable=A, rtable=B, \n",
    "                         fk_ltable='ltable.Sno', fk_rtable='rtable.Sno')\n",
    "print(len(G))"
   ]
  },
  {
   "cell_type": "code",
   "execution_count": 15,
   "metadata": {},
   "outputs": [],
   "source": [
    "# Split S into development set (I) and evaluation set (J)\n",
    "IJ = em.split_train_test(G, train_proportion=0.7, random_state=0)\n",
    "I = IJ['train']\n",
    "J = IJ['test']"
   ]
  },
  {
   "cell_type": "code",
   "execution_count": 16,
   "metadata": {},
   "outputs": [],
   "source": [
    "# Create a set of ML-matchers\n",
    "dt = em.DTMatcher(name='DecisionTree', random_state=0)\n",
    "svm = em.SVMMatcher(name='SVM', random_state=0)\n",
    "rf = em.RFMatcher(name='RF', random_state=0)\n",
    "lg = em.LogRegMatcher(name='LogReg', random_state=0)\n",
    "ln = em.LinRegMatcher(name='LinReg')\n",
    "nb = em.NBMatcher(name='NaiveBayes')"
   ]
  },
  {
   "cell_type": "code",
   "execution_count": 17,
   "metadata": {},
   "outputs": [],
   "source": [
    "# Generate features\n",
    "feature_table = em.get_features_for_matching(A, B, validate_inferred_attr_types=False)"
   ]
  },
  {
   "cell_type": "code",
   "execution_count": 18,
   "metadata": {},
   "outputs": [
    {
     "data": {
      "text/plain": [
       "0                                     Sno_Sno_exm\n",
       "1                                     Sno_Sno_anm\n",
       "2                                Sno_Sno_lev_dist\n",
       "3                                 Sno_Sno_lev_sim\n",
       "4           Album_Name_Album_Name_jac_qgm_3_qgm_3\n",
       "5       Album_Name_Album_Name_cos_dlm_dc0_dlm_dc0\n",
       "6       Album_Name_Album_Name_jac_dlm_dc0_dlm_dc0\n",
       "7                       Album_Name_Album_Name_mel\n",
       "8                  Album_Name_Album_Name_lev_dist\n",
       "9                   Album_Name_Album_Name_lev_sim\n",
       "10                      Album_Name_Album_Name_nmw\n",
       "11                       Album_Name_Album_Name_sw\n",
       "12        Artist_Name_Artist_Name_jac_qgm_3_qgm_3\n",
       "13    Artist_Name_Artist_Name_cos_dlm_dc0_dlm_dc0\n",
       "14    Artist_Name_Artist_Name_jac_dlm_dc0_dlm_dc0\n",
       "15                    Artist_Name_Artist_Name_mel\n",
       "16               Artist_Name_Artist_Name_lev_dist\n",
       "17                Artist_Name_Artist_Name_lev_sim\n",
       "18                    Artist_Name_Artist_Name_nmw\n",
       "19                     Artist_Name_Artist_Name_sw\n",
       "20                    Genre_Genre_jac_qgm_3_qgm_3\n",
       "21                Genre_Genre_cos_dlm_dc0_dlm_dc0\n",
       "22                Genre_Genre_jac_dlm_dc0_dlm_dc0\n",
       "23                                Genre_Genre_mel\n",
       "24                           Genre_Genre_lev_dist\n",
       "25                            Genre_Genre_lev_sim\n",
       "26                                Genre_Genre_nmw\n",
       "27                                 Genre_Genre_sw\n",
       "28            Song_Name_Song_Name_jac_qgm_3_qgm_3\n",
       "29        Song_Name_Song_Name_cos_dlm_dc0_dlm_dc0\n",
       "30        Song_Name_Song_Name_jac_dlm_dc0_dlm_dc0\n",
       "31                        Song_Name_Song_Name_mel\n",
       "32                   Song_Name_Song_Name_lev_dist\n",
       "33                    Song_Name_Song_Name_lev_sim\n",
       "34                        Song_Name_Song_Name_nmw\n",
       "35                         Song_Name_Song_Name_sw\n",
       "Name: feature_name, dtype: object"
      ]
     },
     "execution_count": 18,
     "metadata": {},
     "output_type": "execute_result"
    }
   ],
   "source": [
    "# List the names of the features generated\n",
    "feature_table['feature_name']"
   ]
  },
  {
   "cell_type": "code",
   "execution_count": 19,
   "metadata": {},
   "outputs": [],
   "source": [
    "# Convert the I (training set) into a set of feature vectors using F\n",
    "H = em.extract_feature_vecs(I, \n",
    "                            feature_table=feature_table, \n",
    "                            attrs_after='label',\n",
    "                            show_progress=False)\n",
    "# Display first few rows\n",
    "# H.head(3)"
   ]
  },
  {
   "cell_type": "code",
   "execution_count": 20,
   "metadata": {},
   "outputs": [
    {
     "data": {
      "text/html": [
       "<div>\n",
       "<style scoped>\n",
       "    .dataframe tbody tr th:only-of-type {\n",
       "        vertical-align: middle;\n",
       "    }\n",
       "\n",
       "    .dataframe tbody tr th {\n",
       "        vertical-align: top;\n",
       "    }\n",
       "\n",
       "    .dataframe thead th {\n",
       "        text-align: right;\n",
       "    }\n",
       "</style>\n",
       "<table border=\"1\" class=\"dataframe\">\n",
       "  <thead>\n",
       "    <tr style=\"text-align: right;\">\n",
       "      <th></th>\n",
       "      <th>Matcher</th>\n",
       "      <th>Average precision</th>\n",
       "      <th>Average recall</th>\n",
       "      <th>Average f1</th>\n",
       "    </tr>\n",
       "  </thead>\n",
       "  <tbody>\n",
       "    <tr>\n",
       "      <th>0</th>\n",
       "      <td>DecisionTree</td>\n",
       "      <td>0.909271</td>\n",
       "      <td>0.897727</td>\n",
       "      <td>0.899879</td>\n",
       "    </tr>\n",
       "    <tr>\n",
       "      <th>1</th>\n",
       "      <td>RF</td>\n",
       "      <td>0.952976</td>\n",
       "      <td>0.912771</td>\n",
       "      <td>0.930205</td>\n",
       "    </tr>\n",
       "    <tr>\n",
       "      <th>2</th>\n",
       "      <td>SVM</td>\n",
       "      <td>0.889031</td>\n",
       "      <td>0.817641</td>\n",
       "      <td>0.846430</td>\n",
       "    </tr>\n",
       "    <tr>\n",
       "      <th>3</th>\n",
       "      <td>LinReg</td>\n",
       "      <td>0.929327</td>\n",
       "      <td>0.929437</td>\n",
       "      <td>0.926010</td>\n",
       "    </tr>\n",
       "    <tr>\n",
       "      <th>4</th>\n",
       "      <td>LogReg</td>\n",
       "      <td>0.910815</td>\n",
       "      <td>0.905628</td>\n",
       "      <td>0.907895</td>\n",
       "    </tr>\n",
       "    <tr>\n",
       "      <th>5</th>\n",
       "      <td>NaiveBayes</td>\n",
       "      <td>0.905036</td>\n",
       "      <td>0.944481</td>\n",
       "      <td>0.920527</td>\n",
       "    </tr>\n",
       "  </tbody>\n",
       "</table>\n",
       "</div>"
      ],
      "text/plain": [
       "        Matcher  Average precision  Average recall  Average f1\n",
       "0  DecisionTree           0.909271        0.897727    0.899879\n",
       "1            RF           0.952976        0.912771    0.930205\n",
       "2           SVM           0.889031        0.817641    0.846430\n",
       "3        LinReg           0.929327        0.929437    0.926010\n",
       "4        LogReg           0.910815        0.905628    0.907895\n",
       "5    NaiveBayes           0.905036        0.944481    0.920527"
      ]
     },
     "execution_count": 20,
     "metadata": {},
     "output_type": "execute_result"
    }
   ],
   "source": [
    "# Select the best ML matcher using cross validation\n",
    "result = em.select_matcher([dt, rf, svm, ln, lg, nb], table=H, \n",
    "        exclude_attrs=['_id', 'ltable.Sno', 'rtable.Sno', 'label'],\n",
    "        k=5,\n",
    "        target_attr='label', metric_to_select_matcher='f1', random_state=0)\n",
    "result['cv_stats']"
   ]
  },
  {
   "cell_type": "code",
   "execution_count": 22,
   "metadata": {},
   "outputs": [],
   "source": [
    "# Manually creating features for some attribute\n",
    "\n",
    "def time_feature(ltuple, rtuple):\n",
    "    p1 = ltuple.Time\n",
    "    p2 = rtuple.Time\n",
    "    if p1 == p2:\n",
    "        return 1.0\n",
    "    else:\n",
    "        return 0.0\n",
    "    \n",
    "def released_feature(ltuple, rtuple):\n",
    "    p1 = str(ltuple.Released)\n",
    "    p2 = str(rtuple.Released)\n",
    "    if p1==\"nan\" or p2==\"nan\":\n",
    "        return 0\n",
    "    p1 = p1.split(\"-\") # 31,mar,15\n",
    "    if len(p1)<3:\n",
    "        return 0\n",
    "    d = {\"Jan\":\"January\",\"Feb\":\"February\",\"Mar\":\"March\",\"Apr\":\"April\",\"May\":\"May\",\"Jun\":\"June\",\"Jul\":\"July\",\"Aug\":\"August\",\"Sep\":\"September\",\"Oct\":\"October\",\"Nov\":\"November\",\"Dec\":\"December\"}\n",
    "    s1 = \" \" + d[p1[1]] + \" \" + p1[0] + \", 20\" + p1[2]\n",
    "    if em.lev_sim(s1,p2)>0.9:\n",
    "        return 1.0\n",
    "    else:\n",
    "        return 0.0\n",
    "    \n",
    "def copyright_feature(ltuple, rtuple):\n",
    "    p1 = ltuple.CopyRight\n",
    "    p2 = rtuple.Copyright\n",
    "    if em.lev_sim(p1,p2)>0.8:\n",
    "        return 1.0\n",
    "    else:\n",
    "        return 0.0\n",
    "\n",
    "def price_feature(ltuple, rtuple):\n",
    "    p1 = str(ltuple.Price).strip()\n",
    "    p2 = str(rtuple.Price).strip()\n",
    "    if p1 == p2:\n",
    "        return 1.0\n",
    "    else:\n",
    "        return 0.0"
   ]
  },
  {
   "cell_type": "code",
   "execution_count": 23,
   "metadata": {},
   "outputs": [
    {
     "data": {
      "text/html": [
       "<div>\n",
       "<style scoped>\n",
       "    .dataframe tbody tr th:only-of-type {\n",
       "        vertical-align: middle;\n",
       "    }\n",
       "\n",
       "    .dataframe tbody tr th {\n",
       "        vertical-align: top;\n",
       "    }\n",
       "\n",
       "    .dataframe thead th {\n",
       "        text-align: right;\n",
       "    }\n",
       "</style>\n",
       "<table border=\"1\" class=\"dataframe\">\n",
       "  <thead>\n",
       "    <tr style=\"text-align: right;\">\n",
       "      <th></th>\n",
       "      <th>Matcher</th>\n",
       "      <th>Average precision</th>\n",
       "      <th>Average recall</th>\n",
       "      <th>Average f1</th>\n",
       "    </tr>\n",
       "  </thead>\n",
       "  <tbody>\n",
       "    <tr>\n",
       "      <th>0</th>\n",
       "      <td>DecisionTree</td>\n",
       "      <td>0.955615</td>\n",
       "      <td>0.968290</td>\n",
       "      <td>0.959680</td>\n",
       "    </tr>\n",
       "    <tr>\n",
       "      <th>1</th>\n",
       "      <td>RF</td>\n",
       "      <td>0.962500</td>\n",
       "      <td>0.930195</td>\n",
       "      <td>0.944164</td>\n",
       "    </tr>\n",
       "    <tr>\n",
       "      <th>2</th>\n",
       "      <td>SVM</td>\n",
       "      <td>0.889031</td>\n",
       "      <td>0.817641</td>\n",
       "      <td>0.846430</td>\n",
       "    </tr>\n",
       "    <tr>\n",
       "      <th>3</th>\n",
       "      <td>LinReg</td>\n",
       "      <td>0.978333</td>\n",
       "      <td>0.949675</td>\n",
       "      <td>0.962961</td>\n",
       "    </tr>\n",
       "    <tr>\n",
       "      <th>4</th>\n",
       "      <td>LogReg</td>\n",
       "      <td>0.950000</td>\n",
       "      <td>0.929762</td>\n",
       "      <td>0.938331</td>\n",
       "    </tr>\n",
       "    <tr>\n",
       "      <th>5</th>\n",
       "      <td>NaiveBayes</td>\n",
       "      <td>0.925191</td>\n",
       "      <td>0.990909</td>\n",
       "      <td>0.955925</td>\n",
       "    </tr>\n",
       "  </tbody>\n",
       "</table>\n",
       "</div>"
      ],
      "text/plain": [
       "        Matcher  Average precision  Average recall  Average f1\n",
       "0  DecisionTree           0.955615        0.968290    0.959680\n",
       "1            RF           0.962500        0.930195    0.944164\n",
       "2           SVM           0.889031        0.817641    0.846430\n",
       "3        LinReg           0.978333        0.949675    0.962961\n",
       "4        LogReg           0.950000        0.929762    0.938331\n",
       "5    NaiveBayes           0.925191        0.990909    0.955925"
      ]
     },
     "execution_count": 23,
     "metadata": {},
     "output_type": "execute_result"
    }
   ],
   "source": [
    "# feature_table = feature_table.drop([28,29,30,31,32,33,34,35]) \n",
    "\n",
    "em.add_blackbox_feature(feature_table, 'time_time_feature', time_feature)\n",
    "em.add_blackbox_feature(feature_table, 'released_released_feature', released_feature)\n",
    "em.add_blackbox_feature(feature_table, 'price_price_feature', price_feature)\n",
    "em.add_blackbox_feature(feature_table, 'copyright_copyright_feature', copyright_feature)\n",
    "H = em.extract_feature_vecs(I, feature_table=feature_table, attrs_after='label', show_progress=False)\n",
    "\n",
    "# Select the best ML matcher using CV\n",
    "result = em.select_matcher([dt, rf, svm, ln, lg, nb], table=H, \n",
    "        exclude_attrs=['_id', 'ltable.Sno', 'rtable.Sno', 'label'],\n",
    "        k=5,\n",
    "        target_attr='label', metric_to_select_matcher='f1', random_state=0)\n",
    "result['cv_stats']"
   ]
  },
  {
   "cell_type": "code",
   "execution_count": 24,
   "metadata": {},
   "outputs": [],
   "source": [
    "# Convert J into a set of feature vectors using feature table\n",
    "L = em.extract_feature_vecs(J, feature_table=feature_table,\n",
    "                            attrs_after='label', show_progress=False)"
   ]
  },
  {
   "cell_type": "code",
   "execution_count": 25,
   "metadata": {},
   "outputs": [],
   "source": [
    "# Train using feature vectors from I \n",
    "rf.fit(table=H, \n",
    "       exclude_attrs=['_id', 'ltable.Sno', 'rtable.Sno', 'label'], \n",
    "       target_attr='label')"
   ]
  },
  {
   "cell_type": "code",
   "execution_count": 26,
   "metadata": {},
   "outputs": [],
   "source": [
    "# Predict on L \n",
    "predictions = rf.predict(table=L, exclude_attrs=['_id', 'ltable.Sno', 'rtable.Sno', 'label'], \n",
    "              append=True, target_attr='predicted', inplace=False)"
   ]
  },
  {
   "cell_type": "code",
   "execution_count": 27,
   "metadata": {},
   "outputs": [
    {
     "name": "stdout",
     "output_type": "stream",
     "text": [
      "Precision : 90.24% (37/41)\n",
      "Recall : 100.0% (37/37)\n",
      "F1 : 94.87%\n",
      "False positives : 4 (out of 41 positive predictions)\n",
      "False negatives : 0 (out of 121 negative predictions)\n"
     ]
    }
   ],
   "source": [
    "# Evaluate the predictions\n",
    "eval_result = em.eval_matches(predictions, 'label', 'predicted')\n",
    "em.print_eval_summary(eval_result)"
   ]
  },
  {
   "cell_type": "code",
   "execution_count": 28,
   "metadata": {},
   "outputs": [
    {
     "name": "stdout",
     "output_type": "stream",
     "text": [
      "Requirement already satisfied: tabulate in c:\\users\\sankalp agrawal\\anaconda3\\envs\\em-env\\lib\\site-packages (0.8.7)\n"
     ]
    }
   ],
   "source": [
    "!pip install tabulate"
   ]
  },
  {
   "cell_type": "code",
   "execution_count": 29,
   "metadata": {},
   "outputs": [
    {
     "name": "stdout",
     "output_type": "stream",
     "text": [
      "Absolute difference in values of metrics with the ones where no attribute is missing\n",
      "Attribute missing      precision    recall    f1_score\n",
      "-------------------  -----------  --------  ----------\n",
      "Time                        0.5       5.41        2.76\n",
      "Released                    0         0           0\n",
      "Price                       0         0           0\n",
      "Copyright                   0         0           0\n",
      "Sno                         0.5       5.41        2.76\n",
      "Album_name                  2.74      5.41        3.96\n",
      "Artist_name                 2.44      2.7         2.56\n",
      "Genre                       3.06      8.11        5.4\n",
      "Song_name                   1.05     10.81        5.68\n"
     ]
    }
   ],
   "source": [
    "precisions = [90.24,89.74,90.24,90.24,90.24,89.74,87.5,87.8,87.18,89.19]\n",
    "recalls = [100.0,94.59,100.0,100.0,100.0,94.59,94.59,97.3,91.89,89.19]\n",
    "f1_scores = [94.87,92.11,94.87,94.87,94.87,92.11,90.91,92.31,89.47,89.19]\n",
    "x = [\"None\",\"Time\",\"Released\",\"Price\",\"Copyright\",\"Sno\",\"Album_name\",\"Artist_name\",\"Genre\",\"Song_name\"]\n",
    "\n",
    "from tabulate import tabulate\n",
    "\n",
    "headers = [\"Attribute missing\",\"precision\",\"recall\",\"f1_score\"]\n",
    "\n",
    "table = []\n",
    "for i in range(1,len(x)):\n",
    "    p = abs(precisions[i]-precisions[0])\n",
    "    r = abs(recalls[i]-recalls[0])\n",
    "    f = abs(f1_scores[i]-f1_scores[0])\n",
    "    table.append([x[i],p,r,f])\n",
    "\n",
    "print(\"Absolute difference in values of metrics with the ones where no attribute is missing\")\n",
    "print(tabulate(table, headers=headers))"
   ]
  },
  {
   "cell_type": "code",
   "execution_count": 30,
   "metadata": {},
   "outputs": [
    {
     "data": {
      "text/plain": [
       "<matplotlib.figure.Figure at 0x2754daf5828>"
      ]
     },
     "metadata": {},
     "output_type": "display_data"
    }
   ],
   "source": [
    "import matplotlib.pyplot as plt\n",
    "\n",
    "d = {}\n",
    "for i in range(len(x)):\n",
    "    d[x[i]] = [precisions[i],recalls[i],f1_scores[i]]\n",
    "    \n",
    "x_axis = []\n",
    "precisions = []\n",
    "recalls = []\n",
    "f1_scores = []\n",
    "for i in sorted(d):\n",
    "    x_axis.append(i)\n",
    "    precisions.append(d[i][0])\n",
    "    recalls.append(d[i][1])\n",
    "    f1_scores.append(d[i][2])\n",
    "\n",
    "fig, ax = plt.subplots()\n",
    "plt.plot(x_axis,precisions,color='b',label=\"precision\")\n",
    "plt.plot(x_axis,recalls,color='r',label=\"recall\")\n",
    "plt.plot(x_axis,f1_scores,color='g',label=\"f1-score\")\n",
    "\n",
    "fig.set_size_inches(10.5, 7.5)\n",
    "plt.legend(loc=\"upper right\")\n",
    "plt.title(\"Values of metrics when one particular attribute is missing\")\n",
    "plt.ylabel(\"Value of metric (in %)\")\n",
    "plt.xlabel(\"Attribute missing\")\n",
    "plt.show()"
   ]
  }
 ],
 "metadata": {
  "kernelspec": {
   "display_name": "Python 3",
   "language": "python",
   "name": "python3"
  },
  "language_info": {
   "codemirror_mode": {
    "name": "ipython",
    "version": 3
   },
   "file_extension": ".py",
   "mimetype": "text/x-python",
   "name": "python",
   "nbconvert_exporter": "python",
   "pygments_lexer": "ipython3",
   "version": "3.6.12"
  }
 },
 "nbformat": 4,
 "nbformat_minor": 4
}
